{
  "nbformat": 4,
  "nbformat_minor": 0,
  "metadata": {
    "colab": {
      "name": "Example_Anomaly_Detection.ipynb",
      "provenance": [],
      "authorship_tag": "ABX9TyPqIJYQ9RQ0xQVyGl2RvueE",
      "include_colab_link": true
    },
    "kernelspec": {
      "name": "python3",
      "display_name": "Python 3"
    },
    "language_info": {
      "name": "python"
    }
  },
  "cells": [
    {
      "cell_type": "markdown",
      "metadata": {
        "id": "view-in-github",
        "colab_type": "text"
      },
      "source": [
        "<a href=\"https://colab.research.google.com/github/Nekokan1500/Machine-Learning/blob/main/Unsupervised_Learning/Example_Anomaly_Detection.ipynb\" target=\"_parent\"><img src=\"https://colab.research.google.com/assets/colab-badge.svg\" alt=\"Open In Colab\"/></a>"
      ]
    },
    {
      "cell_type": "code",
      "execution_count": 20,
      "metadata": {
        "id": "9eJ84BzHhXkY"
      },
      "outputs": [],
      "source": [
        "import numpy as np\n",
        "import pandas as pd\n",
        "import matplotlib.pyplot as plt\n",
        "from sklearn.datasets import make_classification\n",
        "from sklearn.metrics import precision_score, recall_score\n",
        "from sklearn.covariance import EllipticEnvelope\n",
        "from sklearn.neighbors import LocalOutlierFactor\n",
        "from sklearn.ensemble import IsolationForest"
      ]
    },
    {
      "cell_type": "code",
      "source": [
        "# Generate sample data\n",
        "x, y = make_classification(n_samples=1000, n_features=2, n_informative=2, \n",
        "                           n_redundant=0, n_repeated=0, n_classes=2, \n",
        "                           n_clusters_per_class=2, weights=[0.98,], \n",
        "                           class_sep=0.5, scale=1.0, shuffle=True, flip_y=0, \n",
        "                           random_state=0)"
      ],
      "metadata": {
        "id": "XFKkq917iXRx"
      },
      "execution_count": 2,
      "outputs": []
    },
    {
      "cell_type": "code",
      "source": [
        "hourly_traffic = [120, 123, 124, 119, 196, 121, 118, 117, 500, 132]\n",
        "pd.Series(hourly_traffic) > pd.Series(hourly_traffic).quantile(0.95)"
      ],
      "metadata": {
        "colab": {
          "base_uri": "https://localhost:8080/"
        },
        "id": "oXWWgXyBqzAF",
        "outputId": "1b70a318-679b-4a2f-8fb2-68c27074862a"
      },
      "execution_count": 3,
      "outputs": [
        {
          "output_type": "execute_result",
          "data": {
            "text/plain": [
              "0    False\n",
              "1    False\n",
              "2    False\n",
              "3    False\n",
              "4    False\n",
              "5    False\n",
              "6    False\n",
              "7    False\n",
              "8     True\n",
              "9    False\n",
              "dtype: bool"
            ]
          },
          "metadata": {},
          "execution_count": 3
        }
      ]
    },
    {
      "cell_type": "code",
      "source": [
        "class PercentileDetection:\n",
        "  def __init__(self, percentile=0.9):\n",
        "    self.percentile = percentile\n",
        "  def fit(self, x, y=None):\n",
        "    self.threshold = pd.Series(x).quantile(self.percentile)\n",
        "  def predict(self, x, y=None):\n",
        "    return (pd.Series(x) > self.threshold).values\n",
        "  def fit_predict(self, x, y=None):\n",
        "    self.fit(x)\n",
        "    return self.predict(x)"
      ],
      "metadata": {
        "id": "BCUVOLkGrU_C"
      },
      "execution_count": 4,
      "outputs": []
    },
    {
      "cell_type": "code",
      "source": [
        "outlierd = PercentileDetection(percentile=0.95)\n",
        "pd.DataFrame({'hourly_traffic': hourly_traffic, \n",
        "              'is_outlier': outlierd.fit_predict(hourly_traffic)}).style.apply(\n",
        "                  lambda row: ['font-weight: bold']*len(row)\n",
        "                    if row['is_outlier'] == True\n",
        "                    else ['font-weight: normal']*len(row), axis=1\n",
        "              )"
      ],
      "metadata": {
        "colab": {
          "base_uri": "https://localhost:8080/",
          "height": 363
        },
        "id": "_VzDCfEYr148",
        "outputId": "fcec59c7-26ab-43b9-ed28-04daf26458c0"
      },
      "execution_count": 5,
      "outputs": [
        {
          "output_type": "execute_result",
          "data": {
            "text/plain": [
              "<pandas.io.formats.style.Styler at 0x7f7a67b95f10>"
            ],
            "text/html": [
              "<style type=\"text/css\">\n",
              "#T_0bfab_row0_col0, #T_0bfab_row0_col1, #T_0bfab_row1_col0, #T_0bfab_row1_col1, #T_0bfab_row2_col0, #T_0bfab_row2_col1, #T_0bfab_row3_col0, #T_0bfab_row3_col1, #T_0bfab_row4_col0, #T_0bfab_row4_col1, #T_0bfab_row5_col0, #T_0bfab_row5_col1, #T_0bfab_row6_col0, #T_0bfab_row6_col1, #T_0bfab_row7_col0, #T_0bfab_row7_col1, #T_0bfab_row9_col0, #T_0bfab_row9_col1 {\n",
              "  font-weight: normal;\n",
              "}\n",
              "#T_0bfab_row8_col0, #T_0bfab_row8_col1 {\n",
              "  font-weight: bold;\n",
              "}\n",
              "</style>\n",
              "<table id=\"T_0bfab_\" class=\"dataframe\">\n",
              "  <thead>\n",
              "    <tr>\n",
              "      <th class=\"blank level0\" >&nbsp;</th>\n",
              "      <th class=\"col_heading level0 col0\" >hourly_traffic</th>\n",
              "      <th class=\"col_heading level0 col1\" >is_outlier</th>\n",
              "    </tr>\n",
              "  </thead>\n",
              "  <tbody>\n",
              "    <tr>\n",
              "      <th id=\"T_0bfab_level0_row0\" class=\"row_heading level0 row0\" >0</th>\n",
              "      <td id=\"T_0bfab_row0_col0\" class=\"data row0 col0\" >120</td>\n",
              "      <td id=\"T_0bfab_row0_col1\" class=\"data row0 col1\" >False</td>\n",
              "    </tr>\n",
              "    <tr>\n",
              "      <th id=\"T_0bfab_level0_row1\" class=\"row_heading level0 row1\" >1</th>\n",
              "      <td id=\"T_0bfab_row1_col0\" class=\"data row1 col0\" >123</td>\n",
              "      <td id=\"T_0bfab_row1_col1\" class=\"data row1 col1\" >False</td>\n",
              "    </tr>\n",
              "    <tr>\n",
              "      <th id=\"T_0bfab_level0_row2\" class=\"row_heading level0 row2\" >2</th>\n",
              "      <td id=\"T_0bfab_row2_col0\" class=\"data row2 col0\" >124</td>\n",
              "      <td id=\"T_0bfab_row2_col1\" class=\"data row2 col1\" >False</td>\n",
              "    </tr>\n",
              "    <tr>\n",
              "      <th id=\"T_0bfab_level0_row3\" class=\"row_heading level0 row3\" >3</th>\n",
              "      <td id=\"T_0bfab_row3_col0\" class=\"data row3 col0\" >119</td>\n",
              "      <td id=\"T_0bfab_row3_col1\" class=\"data row3 col1\" >False</td>\n",
              "    </tr>\n",
              "    <tr>\n",
              "      <th id=\"T_0bfab_level0_row4\" class=\"row_heading level0 row4\" >4</th>\n",
              "      <td id=\"T_0bfab_row4_col0\" class=\"data row4 col0\" >196</td>\n",
              "      <td id=\"T_0bfab_row4_col1\" class=\"data row4 col1\" >False</td>\n",
              "    </tr>\n",
              "    <tr>\n",
              "      <th id=\"T_0bfab_level0_row5\" class=\"row_heading level0 row5\" >5</th>\n",
              "      <td id=\"T_0bfab_row5_col0\" class=\"data row5 col0\" >121</td>\n",
              "      <td id=\"T_0bfab_row5_col1\" class=\"data row5 col1\" >False</td>\n",
              "    </tr>\n",
              "    <tr>\n",
              "      <th id=\"T_0bfab_level0_row6\" class=\"row_heading level0 row6\" >6</th>\n",
              "      <td id=\"T_0bfab_row6_col0\" class=\"data row6 col0\" >118</td>\n",
              "      <td id=\"T_0bfab_row6_col1\" class=\"data row6 col1\" >False</td>\n",
              "    </tr>\n",
              "    <tr>\n",
              "      <th id=\"T_0bfab_level0_row7\" class=\"row_heading level0 row7\" >7</th>\n",
              "      <td id=\"T_0bfab_row7_col0\" class=\"data row7 col0\" >117</td>\n",
              "      <td id=\"T_0bfab_row7_col1\" class=\"data row7 col1\" >False</td>\n",
              "    </tr>\n",
              "    <tr>\n",
              "      <th id=\"T_0bfab_level0_row8\" class=\"row_heading level0 row8\" >8</th>\n",
              "      <td id=\"T_0bfab_row8_col0\" class=\"data row8 col0\" >500</td>\n",
              "      <td id=\"T_0bfab_row8_col1\" class=\"data row8 col1\" >True</td>\n",
              "    </tr>\n",
              "    <tr>\n",
              "      <th id=\"T_0bfab_level0_row9\" class=\"row_heading level0 row9\" >9</th>\n",
              "      <td id=\"T_0bfab_row9_col0\" class=\"data row9 col0\" >132</td>\n",
              "      <td id=\"T_0bfab_row9_col1\" class=\"data row9 col1\" >False</td>\n",
              "    </tr>\n",
              "  </tbody>\n",
              "</table>\n"
            ]
          },
          "metadata": {},
          "execution_count": 5
        }
      ]
    },
    {
      "cell_type": "code",
      "source": [
        "# Using percentiles for multi-dimensional data\n",
        "class PercentileDetection:\n",
        "  def __init__(self, percentile=0.9):\n",
        "    self.percentile = percentile\n",
        "  def fit(self, x, y=None):\n",
        "    self.thresholds = [pd.Series(x[:,i]).quantile(self.percentile) \n",
        "                      for i in range(x.shape[1])]\n",
        "  def predict(self, x, y=None):\n",
        "    return (x > self.thresholds).max(axis=1)\n",
        "  def fit_predict(self, x, y=None):\n",
        "    self.fit(x)\n",
        "    return self.predict(x)"
      ],
      "metadata": {
        "id": "ij1zlELc1jmv"
      },
      "execution_count": 6,
      "outputs": []
    },
    {
      "cell_type": "code",
      "source": [
        "outlierd = PercentileDetection(percentile=0.98)\n",
        "y_pred = outlierd.fit_predict(x)\n",
        "\n",
        "print('Precision: {:.02%}, Recall: {:.02%} [Percentile Detection]'.format(\n",
        "    precision_score(y, y_pred, pos_label=1),\n",
        "    recall_score(y, y_pred, pos_label=1)\n",
        "))"
      ],
      "metadata": {
        "colab": {
          "base_uri": "https://localhost:8080/"
        },
        "id": "VuyYRUM2z7SH",
        "outputId": "5466614f-186e-4774-c021-6d973a87a811"
      },
      "execution_count": 7,
      "outputs": [
        {
          "output_type": "stream",
          "name": "stdout",
          "text": [
            "Precision: 4.00%, Recall: 5.00% [Percentile Detection]\n"
          ]
        }
      ]
    },
    {
      "cell_type": "code",
      "source": [
        "# Detecting outliers using EllipticEnvelope\n",
        "\n",
        "ee = EllipticEnvelope(random_state=0)\n",
        "y_pred = ee.fit_predict(x) == -1\n",
        "print('Precision: {:.02%}, Recall: {:.02%} [Elliptic Envelope]'.format(\n",
        "    precision_score(y, y_pred, pos_label=1),\n",
        "    recall_score(y, y_pred, pos_label=1)\n",
        "))"
      ],
      "metadata": {
        "colab": {
          "base_uri": "https://localhost:8080/"
        },
        "id": "Tf0pMc6bP9Y6",
        "outputId": "f55539fb-81d8-4684-96bb-a0fa249a7c3d"
      },
      "execution_count": 23,
      "outputs": [
        {
          "output_type": "stream",
          "name": "stdout",
          "text": [
            "Precision: 9.00%, Recall: 45.00% [Elliptic Envelope]\n"
          ]
        }
      ]
    },
    {
      "cell_type": "code",
      "source": [
        "# Outlier and novelty detection using Local Outlier Factor (LOF)\n",
        "lof = LocalOutlierFactor(n_neighbors=50)\n",
        "y_pred = lof.fit_predict(x) == -1\n",
        "print('Precision: {:.02%}, Recall: {:.02%} [Local Outlier Factor]'.format(\n",
        "    precision_score(y, y_pred, pos_label=1),\n",
        "    recall_score(y, y_pred, pos_label=1)\n",
        "))"
      ],
      "metadata": {
        "colab": {
          "base_uri": "https://localhost:8080/"
        },
        "id": "NH9sSpj2bUVK",
        "outputId": "e34019e8-d0f1-41a2-8a2a-02af480a178e"
      },
      "execution_count": 22,
      "outputs": [
        {
          "output_type": "stream",
          "name": "stdout",
          "text": [
            "Precision: 26.00%, Recall: 65.00% [Local Outlier Factor]\n"
          ]
        }
      ]
    },
    {
      "cell_type": "code",
      "source": [
        "# Compare performance between different outlier factor score thresholds\n",
        "# Once the LOF algorithm is fitted, it stores its outlier factor scores in \n",
        "# negative_outlier_factor_. A sample is more likely to be an outlier if the \n",
        "# score is closer to -1.\n",
        "lof = LocalOutlierFactor(n_neighbors=50)\n",
        "lof.fit(x)\n",
        "\n",
        "for quantile in [0.01, 0.02, 0.1]:\n",
        "  y_pred = lof.negative_outlier_factor_ < np.quantile(lof.negative_outlier_factor_, quantile)\n",
        "  print('LOF: Precision: {:0.02%}, Recall: {:.02%} [Quantile={:.0%}]'.format(\n",
        "      precision_score(y, y_pred, pos_label=1),\n",
        "      recall_score(y, y_pred, pos_label=1), quantile\n",
        "  ))"
      ],
      "metadata": {
        "colab": {
          "base_uri": "https://localhost:8080/"
        },
        "id": "RnX9Jz6qcLDS",
        "outputId": "9b6aebc6-9d47-4af3-e808-ca9078e00cf6"
      },
      "execution_count": 16,
      "outputs": [
        {
          "output_type": "stream",
          "name": "stdout",
          "text": [
            "LOF: Precision: 80.00%, Recall: 40.00% [Quantile=1%]\n",
            "LOF: Precision: 50.00%, Recall: 50.00% [Quantile=2%]\n",
            "LOF: Precision: 14.00%, Recall: 70.00% [Quantile=10%]\n"
          ]
        }
      ]
    },
    {
      "cell_type": "code",
      "source": [
        "# Novelty detection using LOF\n",
        "x_inliers = x[y==0]\n",
        "\n",
        "lof = LocalOutlierFactor(n_neighbors=50, novelty=True)\n",
        "lof.fit(x_inliers)\n",
        "y_pred = lof.predict(x) == -1\n",
        "\n",
        "print('Precision: {:.02%}, Recall: {:.02%} [Local Outlier Factor]'.format(\n",
        "    precision_score(y, y_pred, pos_label=1),\n",
        "    recall_score(y, y_pred, pos_label=1)\n",
        "))"
      ],
      "metadata": {
        "colab": {
          "base_uri": "https://localhost:8080/"
        },
        "id": "KZjmN-2fd5yS",
        "outputId": "cb196a9f-a045-4c08-c210-b91f285504d6"
      },
      "execution_count": 18,
      "outputs": [
        {
          "output_type": "stream",
          "name": "stdout",
          "text": [
            "Precision: 26.53%, Recall: 65.00% [Local Outlier Factor]\n"
          ]
        }
      ]
    },
    {
      "cell_type": "code",
      "source": [
        "# Detecting outliers using isolation forest\n",
        "iforest = IsolationForest(n_estimators=200, n_jobs=-1, random_state=10)\n",
        "y_pred = iforest.fit_predict(x) == -1\n",
        "\n",
        "print('Precision: {:.02%}, Recall: {:.02%} [Isolation Forest]'.format(\n",
        "    precision_score(y, y_pred, pos_label=1),\n",
        "    recall_score(y, y_pred, pos_label=1)\n",
        "))"
      ],
      "metadata": {
        "colab": {
          "base_uri": "https://localhost:8080/"
        },
        "id": "z738SM_web5K",
        "outputId": "fe3bc56b-a2a6-4864-ac66-86a94c453cae"
      },
      "execution_count": 21,
      "outputs": [
        {
          "output_type": "stream",
          "name": "stdout",
          "text": [
            "Precision: 6.45%, Recall: 60.00% [Isolation Forest]\n"
          ]
        }
      ]
    }
  ]
}