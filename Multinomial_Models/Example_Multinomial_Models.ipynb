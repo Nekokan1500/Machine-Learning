{
  "nbformat": 4,
  "nbformat_minor": 0,
  "metadata": {
    "colab": {
      "name": "Example_Multinomial_Models.ipynb",
      "provenance": [],
      "authorship_tag": "ABX9TyPqrGoimyrFdCm5l9x5d60o",
      "include_colab_link": true
    },
    "kernelspec": {
      "name": "python3",
      "display_name": "Python 3"
    },
    "language_info": {
      "name": "python"
    }
  },
  "cells": [
    {
      "cell_type": "markdown",
      "metadata": {
        "id": "view-in-github",
        "colab_type": "text"
      },
      "source": [
        "<a href=\"https://colab.research.google.com/github/Nekokan1500/Machine-Learning/blob/main/Multinomial_Models/Example_Multinomial_Models.ipynb\" target=\"_parent\"><img src=\"https://colab.research.google.com/assets/colab-badge.svg\" alt=\"Open In Colab\"/></a>"
      ]
    },
    {
      "cell_type": "code",
      "execution_count": 1,
      "metadata": {
        "colab": {
          "base_uri": "https://localhost:8080/",
          "height": 295
        },
        "id": "4266f3jYbEKa",
        "outputId": "efcdb222-e205-4de8-9239-d7c3aa307c6c"
      },
      "outputs": [
        {
          "output_type": "display_data",
          "data": {
            "image/png": "[encoded data removed]",
            "text/plain": [
              "<Figure size 432x288 with 1 Axes>"
            ]
          },
          "metadata": {
            "needs_background": "light"
          }
        }
      ],
      "source": [
        "import numpy as np\n",
        "import pandas as pd\n",
        "import matplotlib.pyplot as plt\n",
        "\n",
        "# Generate a sample dataset\n",
        "x = np.random.uniform(low=5, high=20, size=100)\n",
        "e = np.random.normal(loc=0, scale=0.5, size=100)\n",
        "y = (x + e)**3\n",
        "\n",
        "fig, ax = plt.subplots(1,1)\n",
        "ax.scatter(x,y)\n",
        "ax.set_title('Y is non-linear with respect to x')\n",
        "ax.set_xlabel('x')\n",
        "ax.set_ylabel('y')\n",
        "ax.grid()\n",
        "fig.show()\n"
      ]
    },
    {
      "cell_type": "code",
      "source": [
        "# build a ridge regression model\n",
        "from sklearn.model_selection import train_test_split\n",
        "from sklearn.linear_model import Ridge\n",
        "from sklearn.metrics import mean_absolute_error\n",
        "\n",
        "x = x.reshape(x.shape[0],1)\n",
        "x_train, x_test, y_train, y_test = train_test_split(x, y, test_size=0.25)\n",
        "\n",
        "rgr = Ridge()\n",
        "rgr.fit(x_train, y_train)\n",
        "y_test_pred = rgr.predict(x_test)\n",
        "mae = mean_absolute_error(y_test, y_test_pred)\n",
        "print(f'MAE: {mae:.2f}')"
      ],
      "metadata": {
        "colab": {
          "base_uri": "https://localhost:8080/"
        },
        "id": "iDTJaMQwcbUm",
        "outputId": "e43935a7-b4b7-4014-bf4a-204de0c26813"
      },
      "execution_count": 2,
      "outputs": [
        {
          "output_type": "stream",
          "name": "stdout",
          "text": [
            "MAE: 634.73\n"
          ]
        }
      ]
    },
    {
      "cell_type": "code",
      "source": [
        "# transforming the target variable\n",
        "class YTransformer:\n",
        "  def __init__(self, power=1):\n",
        "      self.power = power\n",
        "\n",
        "  def fit(self, x, y):\n",
        "    pass\n",
        "\n",
        "  def transform(self, x, y):\n",
        "    return x, np.power(y, self.power)\n",
        "\n",
        "  def inverse_transform(self, x, y):\n",
        "    return x, np.power(y, 1/self.power)\n",
        "  \n",
        "  def fit_transform(self, x, y):\n",
        "    return self.transform(x, y)"
      ],
      "metadata": {
        "id": "do9adrtFhLgh"
      },
      "execution_count": 3,
      "outputs": []
    },
    {
      "cell_type": "code",
      "source": [
        "from sklearn.metrics import r2_score\n",
        "\n",
        "for power in [1, 1/2, 1/3, 1/4, 1/5]:\n",
        "  yt = YTransformer(power)\n",
        "  _, y_train_t = yt.fit_transform(None, y_train)\n",
        "  _, y_test_t = yt.transform(None, y_test)\n",
        "  rgs = Ridge()\n",
        "  rgs.fit(x_train, y_train_t)\n",
        "  y_pred_t = rgs.predict(x_test)\n",
        "  _, y_pred = yt.inverse_transform(None, y_pred_t)\n",
        "  print(\n",
        "      'Transformed y^{:.2f}: MAE={:.0f}, R2={:.2f}'.format(\n",
        "          power, mean_absolute_error(y_test, y_pred),\n",
        "          r2_score(y_test, y_pred)\n",
        "      )\n",
        "  )"
      ],
      "metadata": {
        "colab": {
          "base_uri": "https://localhost:8080/"
        },
        "id": "onEE1sr8pnnD",
        "outputId": "619ccbd5-952d-417a-83c2-182f10e3c068"
      },
      "execution_count": 4,
      "outputs": [
        {
          "output_type": "stream",
          "name": "stdout",
          "text": [
            "Transformed y^1.00: MAE=635, R2=0.91\n",
            "Transformed y^0.50: MAE=239, R2=0.98\n",
            "Transformed y^0.33: MAE=192, R2=0.99\n",
            "Transformed y^0.25: MAE=232, R2=0.98\n",
            "Transformed y^0.20: MAE=269, R2=0.98\n"
          ]
        }
      ]
    },
    {
      "cell_type": "code",
      "source": [
        "# Estimating multiple regression targets\n",
        "# Builing a multi-output regressor\n",
        "from sklearn.datasets import make_regression\n",
        "from sklearn.model_selection import train_test_split\n",
        "from sklearn.multioutput import MultiOutputRegressor\n",
        "from sklearn.linear_model import SGDRegressor\n",
        "\n",
        "x, y = make_regression(n_samples=500, n_features=8, n_informative=8, n_targets=3, noise=30.0)\n",
        "feature_names = [f'Feature # {i}' for i in range(x.shape[1])]\n",
        "target_names = [f'Target # {i}' for i in range(y.shape[1])]\n",
        "x_train, x_test, y_train, y_test = train_test_split(x, y, test_size=0.25)\n",
        "\n",
        "rgr = MultiOutputRegressor(estimator=SGDRegressor(), n_jobs=-1)\n",
        "rgr.fit(x_train, y_train)\n",
        "y_pred = rgr.predict(x_test)\n",
        "\n",
        "df_pred = pd.DataFrame(y_pred, columns=target_names)\n",
        "df_pred.head(3)"
      ],
      "metadata": {
        "colab": {
          "base_uri": "https://localhost:8080/",
          "height": 143
        },
        "id": "DdTFGQCuIiEP",
        "outputId": "9f0e616a-76ab-4db7-e054-1c098c086e31"
      },
      "execution_count": 8,
      "outputs": [
        {
          "output_type": "execute_result",
          "data": {
            "text/html": [
              "\n",
              "  <div id=\"df-58c48b6d-bc97-4874-b85f-68be7797ba5d\">\n",
              "    <div class=\"colab-df-container\">\n",
              "      <div>\n",
              "<style scoped>\n",
              "    .dataframe tbody tr th:only-of-type {\n",
              "        vertical-align: middle;\n",
              "    }\n",
              "\n",
              "    .dataframe tbody tr th {\n",
              "        vertical-align: top;\n",
              "    }\n",
              "\n",
              "    .dataframe thead th {\n",
              "        text-align: right;\n",
              "    }\n",
              "</style>\n",
              "<table border=\"1\" class=\"dataframe\">\n",
              "  <thead>\n",
              "    <tr style=\"text-align: right;\">\n",
              "      <th></th>\n",
              "      <th>Target # 0</th>\n",
              "      <th>Target # 1</th>\n",
              "      <th>Target # 2</th>\n",
              "    </tr>\n",
              "  </thead>\n",
              "  <tbody>\n",
              "    <tr>\n",
              "      <th>0</th>\n",
              "      <td>265.278773</td>\n",
              "      <td>-23.824486</td>\n",
              "      <td>94.627962</td>\n",
              "    </tr>\n",
              "    <tr>\n",
              "      <th>1</th>\n",
              "      <td>209.776171</td>\n",
              "      <td>102.590222</td>\n",
              "      <td>97.219886</td>\n",
              "    </tr>\n",
              "    <tr>\n",
              "      <th>2</th>\n",
              "      <td>-25.214785</td>\n",
              "      <td>-11.317393</td>\n",
              "      <td>-209.365123</td>\n",
              "    </tr>\n",
              "  </tbody>\n",
              "</table>\n",
              "</div>\n",
              "      <button class=\"colab-df-convert\" onclick=\"convertToInteractive('df-58c48b6d-bc97-4874-b85f-68be7797ba5d')\"\n",
              "              title=\"Convert this dataframe to an interactive table.\"\n",
              "              style=\"display:none;\">\n",
              "        \n",
              "  <svg xmlns=\"http://www.w3.org/2000/svg\" height=\"24px\"viewBox=\"0 0 24 24\"\n",
              "       width=\"24px\">\n",
              "    <path d=\"M0 0h24v24H0V0z\" fill=\"none\"/>\n",
              "    <path d=\"M18.56 5.44l.94 2.06.94-2.06 2.06-.94-2.06-.94-.94-2.06-.94 2.06-2.06.94zm-11 1L8.5 8.5l.94-2.06 2.06-.94-2.06-.94L8.5 2.5l-.94 2.06-2.06.94zm10 10l.94 2.06.94-2.06 2.06-.94-2.06-.94-.94-2.06-.94 2.06-2.06.94z\"/><path d=\"M17.41 7.96l-1.37-1.37c-.4-.4-.92-.59-1.43-.59-.52 0-1.04.2-1.43.59L10.3 9.45l-7.72 7.72c-.78.78-.78 2.05 0 2.83L4 21.41c.39.39.9.59 1.41.59.51 0 1.02-.2 1.41-.59l7.78-7.78 2.81-2.81c.8-.78.8-2.07 0-2.86zM5.41 20L4 18.59l7.72-7.72 1.47 1.35L5.41 20z\"/>\n",
              "  </svg>\n",
              "      </button>\n",
              "      \n",
              "  <style>\n",
              "    .colab-df-container {\n",
              "      display:flex;\n",
              "      flex-wrap:wrap;\n",
              "      gap: 12px;\n",
              "    }\n",
              "\n",
              "    .colab-df-convert {\n",
              "      background-color: #E8F0FE;\n",
              "      border: none;\n",
              "      border-radius: 50%;\n",
              "      cursor: pointer;\n",
              "      display: none;\n",
              "      fill: #1967D2;\n",
              "      height: 32px;\n",
              "      padding: 0 0 0 0;\n",
              "      width: 32px;\n",
              "    }\n",
              "\n",
              "    .colab-df-convert:hover {\n",
              "      background-color: #E2EBFA;\n",
              "      box-shadow: 0px 1px 2px rgba(60, 64, 67, 0.3), 0px 1px 3px 1px rgba(60, 64, 67, 0.15);\n",
              "      fill: #174EA6;\n",
              "    }\n",
              "\n",
              "    [theme=dark] .colab-df-convert {\n",
              "      background-color: #3B4455;\n",
              "      fill: #D2E3FC;\n",
              "    }\n",
              "\n",
              "    [theme=dark] .colab-df-convert:hover {\n",
              "      background-color: #434B5C;\n",
              "      box-shadow: 0px 1px 3px 1px rgba(0, 0, 0, 0.15);\n",
              "      filter: drop-shadow(0px 1px 2px rgba(0, 0, 0, 0.3));\n",
              "      fill: #FFFFFF;\n",
              "    }\n",
              "  </style>\n",
              "\n",
              "      <script>\n",
              "        const buttonEl =\n",
              "          document.querySelector('#df-58c48b6d-bc97-4874-b85f-68be7797ba5d button.colab-df-convert');\n",
              "        buttonEl.style.display =\n",
              "          google.colab.kernel.accessAllowed ? 'block' : 'none';\n",
              "\n",
              "        async function convertToInteractive(key) {\n",
              "          const element = document.querySelector('#df-58c48b6d-bc97-4874-b85f-68be7797ba5d');\n",
              "          const dataTable =\n",
              "            await google.colab.kernel.invokeFunction('convertToInteractive',\n",
              "                                                     [key], {});\n",
              "          if (!dataTable) return;\n",
              "\n",
              "          const docLinkHtml = 'Like what you see? Visit the ' +\n",
              "            '<a target=\"_blank\" href=https://colab.research.google.com/notebooks/data_table.ipynb>data table notebook</a>'\n",
              "            + ' to learn more about interactive tables.';\n",
              "          element.innerHTML = '';\n",
              "          dataTable['output_type'] = 'display_data';\n",
              "          await google.colab.output.renderOutput(dataTable, element);\n",
              "          const docLink = document.createElement('div');\n",
              "          docLink.innerHTML = docLinkHtml;\n",
              "          element.appendChild(docLink);\n",
              "        }\n",
              "      </script>\n",
              "    </div>\n",
              "  </div>\n",
              "  "
            ],
            "text/plain": [
              "   Target # 0  Target # 1  Target # 2\n",
              "0  265.278773  -23.824486   94.627962\n",
              "1  209.776171  102.590222   97.219886\n",
              "2  -25.214785  -11.317393 -209.365123"
            ]
          },
          "metadata": {},
          "execution_count": 8
        }
      ]
    },
    {
      "cell_type": "code",
      "source": [
        "from sklearn.metrics import mean_absolute_error\n",
        "from sklearn.metrics import r2_score\n",
        "\n",
        "for t in range(y_train.shape[1]):\n",
        "  print('Target # {}: MAE={:.2f}, R2={:.2f}'.format(\n",
        "      t, mean_absolute_error(y_test[t], y_pred[t]),\n",
        "      r2_score(y_test[t], y_pred[t])\n",
        "  ))"
      ],
      "metadata": {
        "colab": {
          "base_uri": "https://localhost:8080/"
        },
        "id": "ovu8U2OFL9fI",
        "outputId": "94d0e59f-3600-40e3-f37b-bab8bf5d63ac"
      },
      "execution_count": 9,
      "outputs": [
        {
          "output_type": "stream",
          "name": "stdout",
          "text": [
            "Target # 0: MAE=13.83, R2=0.99\n",
            "Target # 1: MAE=33.35, R2=0.71\n",
            "Target # 2: MAE=13.71, R2=0.97\n"
          ]
        }
      ]
    },
    {
      "cell_type": "code",
      "source": [
        "# Chaining multiple regressors\n",
        "from sklearn.multioutput import RegressorChain\n",
        "from sklearn.linear_model import Ridge\n",
        "\n",
        "rgr = RegressorChain(base_estimator=Ridge(alpha=1), order=[0,1,2])\n",
        "rgr.fit(x_train, y_train)\n",
        "y_pred = rgr.predict(x_test)\n",
        "\n",
        "pd.DataFrame(zip(rgr.estimators_[-1].coef_, feature_names + target_names),\n",
        "             columns=['Coeff', 'Feature'])[['Feature', 'Coeff']].style.bar(\n",
        "                 subset=['Coeff'], align='mid', color='#AAAAAA'\n",
        "             )"
      ],
      "metadata": {
        "colab": {
          "base_uri": "https://localhost:8080/",
          "height": 363
        },
        "id": "xJSUhYLGMnJq",
        "outputId": "32619a56-f5f7-4ebd-ee93-05526a3fdf5b"
      },
      "execution_count": 10,
      "outputs": [
        {
          "output_type": "execute_result",
          "data": {
            "text/html": [
              "<style type=\"text/css\">\n",
              "#T_2f263_row0_col1 {\n",
              "  width: 10em;\n",
              "  height: 80%;\n",
              "  background: linear-gradient(90deg, transparent 0.0%, #AAAAAA 0.0%, #AAAAAA 32.3%, transparent 32.3%);\n",
              "}\n",
              "#T_2f263_row1_col1 {\n",
              "  width: 10em;\n",
              "  height: 80%;\n",
              "  background: linear-gradient(90deg, transparent 0.0%, #AAAAAA 0.0%, #AAAAAA 30.9%, transparent 30.9%);\n",
              "}\n",
              "#T_2f263_row2_col1 {\n",
              "  width: 10em;\n",
              "  height: 80%;\n",
              "  background: linear-gradient(90deg, transparent 0.0%, #AAAAAA 0.0%, #AAAAAA 63.8%, transparent 63.8%);\n",
              "}\n",
              "#T_2f263_row3_col1 {\n",
              "  width: 10em;\n",
              "  height: 80%;\n",
              "  background: linear-gradient(90deg, transparent 0.0%, #AAAAAA 0.0%, #AAAAAA 29.4%, transparent 29.4%);\n",
              "}\n",
              "#T_2f263_row4_col1 {\n",
              "  width: 10em;\n",
              "  height: 80%;\n",
              "  background: linear-gradient(90deg, transparent 0.0%, #AAAAAA 0.0%, #AAAAAA 81.5%, transparent 81.5%);\n",
              "}\n",
              "#T_2f263_row5_col1 {\n",
              "  width: 10em;\n",
              "  height: 80%;\n",
              "  background: linear-gradient(90deg, transparent 0.0%, #AAAAAA 0.0%, #AAAAAA 16.7%, transparent 16.7%);\n",
              "}\n",
              "#T_2f263_row6_col1 {\n",
              "  width: 10em;\n",
              "  height: 80%;\n",
              "  background: linear-gradient(90deg, transparent 0.0%, #AAAAAA 0.0%, #AAAAAA 20.4%, transparent 20.4%);\n",
              "}\n",
              "#T_2f263_row7_col1 {\n",
              "  width: 10em;\n",
              "  height: 80%;\n",
              "  background: linear-gradient(90deg, transparent 0.0%, #AAAAAA 0.0%, #AAAAAA 100.0%, transparent 100.0%);\n",
              "}\n",
              "#T_2f263_row8_col1 {\n",
              "  width: 10em;\n",
              "  height: 80%;\n",
              "  background: linear-gradient(90deg, transparent 0.0%, #AAAAAA 0.0%, #AAAAAA 0.1%, transparent 0.1%);\n",
              "}\n",
              "#T_2f263_row9_col1 {\n",
              "  width: 10em;\n",
              "  height: 80%;\n",
              "  background: linear-gradient(90deg,#AAAAAA 0.0%, transparent 0.0%);\n",
              "}\n",
              "</style>\n",
              "<table id=\"T_2f263_\" class=\"dataframe\">\n",
              "  <thead>\n",
              "    <tr>\n",
              "      <th class=\"blank level0\" >&nbsp;</th>\n",
              "      <th class=\"col_heading level0 col0\" >Feature</th>\n",
              "      <th class=\"col_heading level0 col1\" >Coeff</th>\n",
              "    </tr>\n",
              "  </thead>\n",
              "  <tbody>\n",
              "    <tr>\n",
              "      <th id=\"T_2f263_level0_row0\" class=\"row_heading level0 row0\" >0</th>\n",
              "      <td id=\"T_2f263_row0_col0\" class=\"data row0 col0\" >Feature # 0</td>\n",
              "      <td id=\"T_2f263_row0_col1\" class=\"data row0 col1\" >27.388570</td>\n",
              "    </tr>\n",
              "    <tr>\n",
              "      <th id=\"T_2f263_level0_row1\" class=\"row_heading level0 row1\" >1</th>\n",
              "      <td id=\"T_2f263_row1_col0\" class=\"data row1 col0\" >Feature # 1</td>\n",
              "      <td id=\"T_2f263_row1_col1\" class=\"data row1 col1\" >26.214323</td>\n",
              "    </tr>\n",
              "    <tr>\n",
              "      <th id=\"T_2f263_level0_row2\" class=\"row_heading level0 row2\" >2</th>\n",
              "      <td id=\"T_2f263_row2_col0\" class=\"data row2 col0\" >Feature # 2</td>\n",
              "      <td id=\"T_2f263_row2_col1\" class=\"data row2 col1\" >54.084751</td>\n",
              "    </tr>\n",
              "    <tr>\n",
              "      <th id=\"T_2f263_level0_row3\" class=\"row_heading level0 row3\" >3</th>\n",
              "      <td id=\"T_2f263_row3_col0\" class=\"data row3 col0\" >Feature # 3</td>\n",
              "      <td id=\"T_2f263_row3_col1\" class=\"data row3 col1\" >24.896933</td>\n",
              "    </tr>\n",
              "    <tr>\n",
              "      <th id=\"T_2f263_level0_row4\" class=\"row_heading level0 row4\" >4</th>\n",
              "      <td id=\"T_2f263_row4_col0\" class=\"data row4 col0\" >Feature # 4</td>\n",
              "      <td id=\"T_2f263_row4_col1\" class=\"data row4 col1\" >69.092560</td>\n",
              "    </tr>\n",
              "    <tr>\n",
              "      <th id=\"T_2f263_level0_row5\" class=\"row_heading level0 row5\" >5</th>\n",
              "      <td id=\"T_2f263_row5_col0\" class=\"data row5 col0\" >Feature # 5</td>\n",
              "      <td id=\"T_2f263_row5_col1\" class=\"data row5 col1\" >14.189692</td>\n",
              "    </tr>\n",
              "    <tr>\n",
              "      <th id=\"T_2f263_level0_row6\" class=\"row_heading level0 row6\" >6</th>\n",
              "      <td id=\"T_2f263_row6_col0\" class=\"data row6 col0\" >Feature # 6</td>\n",
              "      <td id=\"T_2f263_row6_col1\" class=\"data row6 col1\" >17.307925</td>\n",
              "    </tr>\n",
              "    <tr>\n",
              "      <th id=\"T_2f263_level0_row7\" class=\"row_heading level0 row7\" >7</th>\n",
              "      <td id=\"T_2f263_row7_col0\" class=\"data row7 col0\" >Feature # 7</td>\n",
              "      <td id=\"T_2f263_row7_col1\" class=\"data row7 col1\" >84.738506</td>\n",
              "    </tr>\n",
              "    <tr>\n",
              "      <th id=\"T_2f263_level0_row8\" class=\"row_heading level0 row8\" >8</th>\n",
              "      <td id=\"T_2f263_row8_col0\" class=\"data row8 col0\" >Target # 0</td>\n",
              "      <td id=\"T_2f263_row8_col1\" class=\"data row8 col1\" >0.075976</td>\n",
              "    </tr>\n",
              "    <tr>\n",
              "      <th id=\"T_2f263_level0_row9\" class=\"row_heading level0 row9\" >9</th>\n",
              "      <td id=\"T_2f263_row9_col0\" class=\"data row9 col0\" >Target # 1</td>\n",
              "      <td id=\"T_2f263_row9_col1\" class=\"data row9 col1\" >-0.000901</td>\n",
              "    </tr>\n",
              "  </tbody>\n",
              "</table>\n"
            ],
            "text/plain": [
              "<pandas.io.formats.style.Styler at 0x7fe2e3937c90>"
            ]
          },
          "metadata": {},
          "execution_count": 10
        }
      ]
    }
  ]
}