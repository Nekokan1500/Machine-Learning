{
  "nbformat": 4,
  "nbformat_minor": 0,
  "metadata": {
    "colab": {
      "name": "Example_Multinomial_Models.ipynb",
      "provenance": [],
      "authorship_tag": "ABX9TyPv7qN4DHMHkApOVuwBl6Kl",
      "include_colab_link": true
    },
    "kernelspec": {
      "name": "python3",
      "display_name": "Python 3"
    },
    "language_info": {
      "name": "python"
    }
  },
  "cells": [
    {
      "cell_type": "markdown",
      "metadata": {
        "id": "view-in-github",
        "colab_type": "text"
      },
      "source": [
        "<a href=\"https://colab.research.google.com/github/Nekokan1500/Machine-Learning/blob/main/Multinomial_Models/Example_Multinomial_Models.ipynb\" target=\"_parent\"><img src=\"https://colab.research.google.com/assets/colab-badge.svg\" alt=\"Open In Colab\"/></a>"
      ]
    },
    {
      "cell_type": "code",
      "execution_count": 1,
      "metadata": {
        "colab": {
          "base_uri": "https://localhost:8080/",
          "height": 295
        },
        "id": "4266f3jYbEKa",
        "outputId": "f8858b21-2d21-47ef-b719-aac0e232b6dd"
      },
      "outputs": [
        {
          "output_type": "display_data",
          "data": {
            "image/png": "[encoded data removed]",
            "text/plain": [
              "<Figure size 432x288 with 1 Axes>"
            ]
          },
          "metadata": {
            "needs_background": "light"
          }
        }
      ],
      "source": [
        "import numpy as np\n",
        "import pandas as pd\n",
        "import matplotlib.pyplot as plt\n",
        "\n",
        "# Generate a sample dataset\n",
        "x = np.random.uniform(low=5, high=20, size=100)\n",
        "e = np.random.normal(loc=0, scale=0.5, size=100)\n",
        "y = (x + e)**3\n",
        "\n",
        "fig, ax = plt.subplots(1,1)\n",
        "ax.scatter(x,y)\n",
        "ax.set_title('Y is non-linear with respect to x')\n",
        "ax.set_xlabel('x')\n",
        "ax.set_ylabel('y')\n",
        "ax.grid()\n",
        "fig.show()\n"
      ]
    },
    {
      "cell_type": "code",
      "source": [
        "# build a ridge regression model\n",
        "from sklearn.model_selection import train_test_split\n",
        "from sklearn.linear_model import Ridge\n",
        "from sklearn.metrics import mean_absolute_error\n",
        "\n",
        "x = x.reshape(x.shape[0],1)\n",
        "x_train, x_test, y_train, y_test = train_test_split(x, y, test_size=0.25)\n",
        "\n",
        "rgr = Ridge()\n",
        "rgr.fit(x_train, y_train)\n",
        "y_test_pred = rgr.predict(x_test)\n",
        "mae = mean_absolute_error(y_test, y_test_pred)\n",
        "print(f'MAE: {mae:.2f}')"
      ],
      "metadata": {
        "colab": {
          "base_uri": "https://localhost:8080/"
        },
        "id": "iDTJaMQwcbUm",
        "outputId": "41fcc0a7-073d-4918-fd7e-e0e68d2cdb50"
      },
      "execution_count": 2,
      "outputs": [
        {
          "output_type": "stream",
          "name": "stdout",
          "text": [
            "MAE: 591.20\n"
          ]
        }
      ]
    },
    {
      "cell_type": "code",
      "source": [
        "# transforming the target variable\n",
        "class YTransformer:\n",
        "  def __init__(self, power=1):\n",
        "      self.power = power\n",
        "\n",
        "  def fit(self, x, y):\n",
        "    pass\n",
        "\n",
        "  def transform(self, x, y):\n",
        "    return x, np.power(y, self.power)\n",
        "\n",
        "  def inverse_transform(self, x, y):\n",
        "    return x, np.power(y, 1/self.power)\n",
        "  \n",
        "  def fit_transform(self, x, y):\n",
        "    return self.transform(x, y)"
      ],
      "metadata": {
        "id": "do9adrtFhLgh"
      },
      "execution_count": 3,
      "outputs": []
    },
    {
      "cell_type": "code",
      "source": [
        "from sklearn.metrics import r2_score\n",
        "\n",
        "for power in [1, 1/2, 1/3, 1/4, 1/5]:\n",
        "  yt = YTransformer(power)\n",
        "  _, y_train_t = yt.fit_transform(None, y_train)\n",
        "  _, y_test_t = yt.transform(None, y_test)\n",
        "  rgs = Ridge()\n",
        "  rgs.fit(x_train, y_train_t)\n",
        "  y_pred_t = rgs.predict(x_test)\n",
        "  _, y_pred = yt.inverse_transform(None, y_pred_t)\n",
        "  print(\n",
        "      'Transformed y^{:.2f}: MAE={:.0f}, R2={:.2f}'.format(\n",
        "          power, mean_absolute_error(y_test, y_pred),\n",
        "          r2_score(y_test, y_pred)\n",
        "      )\n",
        "  )"
      ],
      "metadata": {
        "colab": {
          "base_uri": "https://localhost:8080/"
        },
        "id": "onEE1sr8pnnD",
        "outputId": "44e2b1d7-a816-4d19-a5e8-a9c9fc63e0de"
      },
      "execution_count": 4,
      "outputs": [
        {
          "output_type": "stream",
          "name": "stdout",
          "text": [
            "Transformed y^1.00: MAE=591, R2=0.92\n",
            "Transformed y^0.50: MAE=298, R2=0.97\n",
            "Transformed y^0.33: MAE=240, R2=0.99\n",
            "Transformed y^0.25: MAE=228, R2=0.99\n",
            "Transformed y^0.20: MAE=247, R2=0.98\n"
          ]
        }
      ]
    },
    {
      "cell_type": "code",
      "source": [
        "# Estimating multiple regression targets\n",
        "# Builing a multi-output regressor\n",
        "from sklearn.datasets import make_regression\n",
        "from sklearn.model_selection import train_test_split\n",
        "from sklearn.multioutput import MultiOutputRegressor\n",
        "from sklearn.linear_model import SGDRegressor\n",
        "\n",
        "x, y = make_regression(n_samples=500, n_features=8, n_informative=8, n_targets=3, noise=30.0)\n",
        "feature_names = [f'Feature # {i}' for i in range(x.shape[1])]\n",
        "target_names = [f'Target # {i}' for i in range(y.shape[1])]\n",
        "x_train, x_test, y_train, y_test = train_test_split(x, y, test_size=0.25)\n",
        "\n",
        "rgr = MultiOutputRegressor(estimator=SGDRegressor(), n_jobs=-1)\n",
        "rgr.fit(x_train, y_train)\n",
        "y_pred = rgr.predict(x_test)\n",
        "\n",
        "df_pred = pd.DataFrame(y_pred, columns=target_names)\n",
        "df_pred.head(3)"
      ],
      "metadata": {
        "colab": {
          "base_uri": "https://localhost:8080/",
          "height": 143
        },
        "id": "DdTFGQCuIiEP",
        "outputId": "01df204a-146a-4a1f-dce5-9acca8b28722"
      },
      "execution_count": 5,
      "outputs": [
        {
          "output_type": "execute_result",
          "data": {
            "text/html": [
              "\n",
              "  <div id=\"df-c2454735-36c2-4f1c-9cd8-20cf18d9a64f\">\n",
              "    <div class=\"colab-df-container\">\n",
              "      <div>\n",
              "<style scoped>\n",
              "    .dataframe tbody tr th:only-of-type {\n",
              "        vertical-align: middle;\n",
              "    }\n",
              "\n",
              "    .dataframe tbody tr th {\n",
              "        vertical-align: top;\n",
              "    }\n",
              "\n",
              "    .dataframe thead th {\n",
              "        text-align: right;\n",
              "    }\n",
              "</style>\n",
              "<table border=\"1\" class=\"dataframe\">\n",
              "  <thead>\n",
              "    <tr style=\"text-align: right;\">\n",
              "      <th></th>\n",
              "      <th>Target # 0</th>\n",
              "      <th>Target # 1</th>\n",
              "      <th>Target # 2</th>\n",
              "    </tr>\n",
              "  </thead>\n",
              "  <tbody>\n",
              "    <tr>\n",
              "      <th>0</th>\n",
              "      <td>73.870655</td>\n",
              "      <td>-37.714489</td>\n",
              "      <td>-120.296827</td>\n",
              "    </tr>\n",
              "    <tr>\n",
              "      <th>1</th>\n",
              "      <td>132.267472</td>\n",
              "      <td>65.495037</td>\n",
              "      <td>-61.998836</td>\n",
              "    </tr>\n",
              "    <tr>\n",
              "      <th>2</th>\n",
              "      <td>227.996173</td>\n",
              "      <td>427.268549</td>\n",
              "      <td>227.792681</td>\n",
              "    </tr>\n",
              "  </tbody>\n",
              "</table>\n",
              "</div>\n",
              "      <button class=\"colab-df-convert\" onclick=\"convertToInteractive('df-c2454735-36c2-4f1c-9cd8-20cf18d9a64f')\"\n",
              "              title=\"Convert this dataframe to an interactive table.\"\n",
              "              style=\"display:none;\">\n",
              "        \n",
              "  <svg xmlns=\"http://www.w3.org/2000/svg\" height=\"24px\"viewBox=\"0 0 24 24\"\n",
              "       width=\"24px\">\n",
              "    <path d=\"M0 0h24v24H0V0z\" fill=\"none\"/>\n",
              "    <path d=\"M18.56 5.44l.94 2.06.94-2.06 2.06-.94-2.06-.94-.94-2.06-.94 2.06-2.06.94zm-11 1L8.5 8.5l.94-2.06 2.06-.94-2.06-.94L8.5 2.5l-.94 2.06-2.06.94zm10 10l.94 2.06.94-2.06 2.06-.94-2.06-.94-.94-2.06-.94 2.06-2.06.94z\"/><path d=\"M17.41 7.96l-1.37-1.37c-.4-.4-.92-.59-1.43-.59-.52 0-1.04.2-1.43.59L10.3 9.45l-7.72 7.72c-.78.78-.78 2.05 0 2.83L4 21.41c.39.39.9.59 1.41.59.51 0 1.02-.2 1.41-.59l7.78-7.78 2.81-2.81c.8-.78.8-2.07 0-2.86zM5.41 20L4 18.59l7.72-7.72 1.47 1.35L5.41 20z\"/>\n",
              "  </svg>\n",
              "      </button>\n",
              "      \n",
              "  <style>\n",
              "    .colab-df-container {\n",
              "      display:flex;\n",
              "      flex-wrap:wrap;\n",
              "      gap: 12px;\n",
              "    }\n",
              "\n",
              "    .colab-df-convert {\n",
              "      background-color: #E8F0FE;\n",
              "      border: none;\n",
              "      border-radius: 50%;\n",
              "      cursor: pointer;\n",
              "      display: none;\n",
              "      fill: #1967D2;\n",
              "      height: 32px;\n",
              "      padding: 0 0 0 0;\n",
              "      width: 32px;\n",
              "    }\n",
              "\n",
              "    .colab-df-convert:hover {\n",
              "      background-color: #E2EBFA;\n",
              "      box-shadow: 0px 1px 2px rgba(60, 64, 67, 0.3), 0px 1px 3px 1px rgba(60, 64, 67, 0.15);\n",
              "      fill: #174EA6;\n",
              "    }\n",
              "\n",
              "    [theme=dark] .colab-df-convert {\n",
              "      background-color: #3B4455;\n",
              "      fill: #D2E3FC;\n",
              "    }\n",
              "\n",
              "    [theme=dark] .colab-df-convert:hover {\n",
              "      background-color: #434B5C;\n",
              "      box-shadow: 0px 1px 3px 1px rgba(0, 0, 0, 0.15);\n",
              "      filter: drop-shadow(0px 1px 2px rgba(0, 0, 0, 0.3));\n",
              "      fill: #FFFFFF;\n",
              "    }\n",
              "  </style>\n",
              "\n",
              "      <script>\n",
              "        const buttonEl =\n",
              "          document.querySelector('#df-c2454735-36c2-4f1c-9cd8-20cf18d9a64f button.colab-df-convert');\n",
              "        buttonEl.style.display =\n",
              "          google.colab.kernel.accessAllowed ? 'block' : 'none';\n",
              "\n",
              "        async function convertToInteractive(key) {\n",
              "          const element = document.querySelector('#df-c2454735-36c2-4f1c-9cd8-20cf18d9a64f');\n",
              "          const dataTable =\n",
              "            await google.colab.kernel.invokeFunction('convertToInteractive',\n",
              "                                                     [key], {});\n",
              "          if (!dataTable) return;\n",
              "\n",
              "          const docLinkHtml = 'Like what you see? Visit the ' +\n",
              "            '<a target=\"_blank\" href=https://colab.research.google.com/notebooks/data_table.ipynb>data table notebook</a>'\n",
              "            + ' to learn more about interactive tables.';\n",
              "          element.innerHTML = '';\n",
              "          dataTable['output_type'] = 'display_data';\n",
              "          await google.colab.output.renderOutput(dataTable, element);\n",
              "          const docLink = document.createElement('div');\n",
              "          docLink.innerHTML = docLinkHtml;\n",
              "          element.appendChild(docLink);\n",
              "        }\n",
              "      </script>\n",
              "    </div>\n",
              "  </div>\n",
              "  "
            ],
            "text/plain": [
              "   Target # 0  Target # 1  Target # 2\n",
              "0   73.870655  -37.714489 -120.296827\n",
              "1  132.267472   65.495037  -61.998836\n",
              "2  227.996173  427.268549  227.792681"
            ]
          },
          "metadata": {},
          "execution_count": 5
        }
      ]
    },
    {
      "cell_type": "code",
      "source": [
        "from sklearn.metrics import mean_absolute_error\n",
        "from sklearn.metrics import r2_score\n",
        "\n",
        "for t in range(y_train.shape[1]):\n",
        "  print('Target # {}: MAE={:.2f}, R2={:.2f}'.format(\n",
        "      t, mean_absolute_error(y_test[t], y_pred[t]),\n",
        "      r2_score(y_test[t], y_pred[t])\n",
        "  ))"
      ],
      "metadata": {
        "colab": {
          "base_uri": "https://localhost:8080/"
        },
        "id": "ovu8U2OFL9fI",
        "outputId": "4bf9ded2-de29-4dc0-9207-1c5ff8b5e392"
      },
      "execution_count": 6,
      "outputs": [
        {
          "output_type": "stream",
          "name": "stdout",
          "text": [
            "Target # 0: MAE=30.66, R2=0.82\n",
            "Target # 1: MAE=28.42, R2=0.77\n",
            "Target # 2: MAE=18.37, R2=0.97\n"
          ]
        }
      ]
    },
    {
      "cell_type": "code",
      "source": [
        "# Chaining multiple regressors\n",
        "from sklearn.multioutput import RegressorChain\n",
        "from sklearn.linear_model import Ridge\n",
        "\n",
        "rgr = RegressorChain(base_estimator=Ridge(alpha=1), order=[0,1,2])\n",
        "rgr.fit(x_train, y_train)\n",
        "y_pred = rgr.predict(x_test)\n",
        "\n",
        "pd.DataFrame(zip(rgr.estimators_[-1].coef_, feature_names + target_names),\n",
        "             columns=['Coeff', 'Feature'])[['Feature', 'Coeff']].style.bar(\n",
        "                 subset=['Coeff'], align='mid', color='#AAAAAA'\n",
        "             )"
      ],
      "metadata": {
        "colab": {
          "base_uri": "https://localhost:8080/",
          "height": 363
        },
        "id": "xJSUhYLGMnJq",
        "outputId": "7eea2bce-020d-42f6-edfb-a2cdf662480c"
      },
      "execution_count": 7,
      "outputs": [
        {
          "output_type": "execute_result",
          "data": {
            "text/html": [
              "<style type=\"text/css\">\n",
              "#T_5d2d9_row0_col1 {\n",
              "  width: 10em;\n",
              "  height: 80%;\n",
              "  background: linear-gradient(90deg,#AAAAAA 9.9%, transparent 9.9%);\n",
              "}\n",
              "#T_5d2d9_row1_col1 {\n",
              "  width: 10em;\n",
              "  height: 80%;\n",
              "  background: linear-gradient(90deg,#AAAAAA 85.9%, transparent 85.9%);\n",
              "}\n",
              "#T_5d2d9_row2_col1 {\n",
              "  width: 10em;\n",
              "  height: 80%;\n",
              "  background: linear-gradient(90deg,#AAAAAA 38.5%, transparent 38.5%);\n",
              "}\n",
              "#T_5d2d9_row3_col1 {\n",
              "  width: 10em;\n",
              "  height: 80%;\n",
              "  background: linear-gradient(90deg,#AAAAAA 40.8%, transparent 40.8%);\n",
              "}\n",
              "#T_5d2d9_row4_col1 {\n",
              "  width: 10em;\n",
              "  height: 80%;\n",
              "  background: linear-gradient(90deg,#AAAAAA 33.6%, transparent 33.6%);\n",
              "}\n",
              "#T_5d2d9_row5_col1 {\n",
              "  width: 10em;\n",
              "  height: 80%;\n",
              "  background: linear-gradient(90deg,#AAAAAA 100.0%, transparent 100.0%);\n",
              "}\n",
              "#T_5d2d9_row6_col1 {\n",
              "  width: 10em;\n",
              "  height: 80%;\n",
              "  background: linear-gradient(90deg,#AAAAAA 45.4%, transparent 45.4%);\n",
              "}\n",
              "#T_5d2d9_row7_col1 {\n",
              "  width: 10em;\n",
              "  height: 80%;\n",
              "  background: linear-gradient(90deg,#AAAAAA 65.8%, transparent 65.8%);\n",
              "}\n",
              "#T_5d2d9_row8_col1, #T_5d2d9_row9_col1 {\n",
              "  width: 10em;\n",
              "  height: 80%;\n",
              "  background: linear-gradient(90deg,#AAAAAA 0.0%, transparent 0.0%);\n",
              "}\n",
              "</style>\n",
              "<table id=\"T_5d2d9_\" class=\"dataframe\">\n",
              "  <thead>\n",
              "    <tr>\n",
              "      <th class=\"blank level0\" >&nbsp;</th>\n",
              "      <th class=\"col_heading level0 col0\" >Feature</th>\n",
              "      <th class=\"col_heading level0 col1\" >Coeff</th>\n",
              "    </tr>\n",
              "  </thead>\n",
              "  <tbody>\n",
              "    <tr>\n",
              "      <th id=\"T_5d2d9_level0_row0\" class=\"row_heading level0 row0\" >0</th>\n",
              "      <td id=\"T_5d2d9_row0_col0\" class=\"data row0 col0\" >Feature # 0</td>\n",
              "      <td id=\"T_5d2d9_row0_col1\" class=\"data row0 col1\" >7.468460</td>\n",
              "    </tr>\n",
              "    <tr>\n",
              "      <th id=\"T_5d2d9_level0_row1\" class=\"row_heading level0 row1\" >1</th>\n",
              "      <td id=\"T_5d2d9_row1_col0\" class=\"data row1 col0\" >Feature # 1</td>\n",
              "      <td id=\"T_5d2d9_row1_col1\" class=\"data row1 col1\" >64.908130</td>\n",
              "    </tr>\n",
              "    <tr>\n",
              "      <th id=\"T_5d2d9_level0_row2\" class=\"row_heading level0 row2\" >2</th>\n",
              "      <td id=\"T_5d2d9_row2_col0\" class=\"data row2 col0\" >Feature # 2</td>\n",
              "      <td id=\"T_5d2d9_row2_col1\" class=\"data row2 col1\" >29.079833</td>\n",
              "    </tr>\n",
              "    <tr>\n",
              "      <th id=\"T_5d2d9_level0_row3\" class=\"row_heading level0 row3\" >3</th>\n",
              "      <td id=\"T_5d2d9_row3_col0\" class=\"data row3 col0\" >Feature # 3</td>\n",
              "      <td id=\"T_5d2d9_row3_col1\" class=\"data row3 col1\" >30.851227</td>\n",
              "    </tr>\n",
              "    <tr>\n",
              "      <th id=\"T_5d2d9_level0_row4\" class=\"row_heading level0 row4\" >4</th>\n",
              "      <td id=\"T_5d2d9_row4_col0\" class=\"data row4 col0\" >Feature # 4</td>\n",
              "      <td id=\"T_5d2d9_row4_col1\" class=\"data row4 col1\" >25.438057</td>\n",
              "    </tr>\n",
              "    <tr>\n",
              "      <th id=\"T_5d2d9_level0_row5\" class=\"row_heading level0 row5\" >5</th>\n",
              "      <td id=\"T_5d2d9_row5_col0\" class=\"data row5 col0\" >Feature # 5</td>\n",
              "      <td id=\"T_5d2d9_row5_col1\" class=\"data row5 col1\" >75.606101</td>\n",
              "    </tr>\n",
              "    <tr>\n",
              "      <th id=\"T_5d2d9_level0_row6\" class=\"row_heading level0 row6\" >6</th>\n",
              "      <td id=\"T_5d2d9_row6_col0\" class=\"data row6 col0\" >Feature # 6</td>\n",
              "      <td id=\"T_5d2d9_row6_col1\" class=\"data row6 col1\" >34.348010</td>\n",
              "    </tr>\n",
              "    <tr>\n",
              "      <th id=\"T_5d2d9_level0_row7\" class=\"row_heading level0 row7\" >7</th>\n",
              "      <td id=\"T_5d2d9_row7_col0\" class=\"data row7 col0\" >Feature # 7</td>\n",
              "      <td id=\"T_5d2d9_row7_col1\" class=\"data row7 col1\" >49.734896</td>\n",
              "    </tr>\n",
              "    <tr>\n",
              "      <th id=\"T_5d2d9_level0_row8\" class=\"row_heading level0 row8\" >8</th>\n",
              "      <td id=\"T_5d2d9_row8_col0\" class=\"data row8 col0\" >Target # 0</td>\n",
              "      <td id=\"T_5d2d9_row8_col1\" class=\"data row8 col1\" >0.031274</td>\n",
              "    </tr>\n",
              "    <tr>\n",
              "      <th id=\"T_5d2d9_level0_row9\" class=\"row_heading level0 row9\" >9</th>\n",
              "      <td id=\"T_5d2d9_row9_col0\" class=\"data row9 col0\" >Target # 1</td>\n",
              "      <td id=\"T_5d2d9_row9_col1\" class=\"data row9 col1\" >0.029788</td>\n",
              "    </tr>\n",
              "  </tbody>\n",
              "</table>\n"
            ],
            "text/plain": [
              "<pandas.io.formats.style.Styler at 0x7f5dad6f7490>"
            ]
          },
          "metadata": {},
          "execution_count": 7
        }
      ]
    },
    {
      "cell_type": "code",
      "source": [
        "# Compound classification targets\n",
        "# Converting a multi-class problem into a set of binary classifiers\n",
        "from sklearn.datasets import make_classification\n",
        "from sklearn.linear_model import LogisticRegression\n",
        "from sklearn.multiclass import OneVsRestClassifier\n",
        "from sklearn.multiclass import OneVsOneClassifier\n",
        "from sklearn.metrics import accuracy_score\n",
        "\n",
        "x, y = make_classification(n_samples=5000, n_features=15, n_informative=8, \n",
        "                           n_redundant=2, n_classes=4, class_sep=0.5)\n",
        "\n",
        "x_train, x_test, y_train, y_test = train_test_split(x, y, test_size=0.25)\n",
        "\n",
        "clf = OneVsRestClassifier(estimator=LogisticRegression(solver='saga'))\n",
        "clf.fit(x_train, y_train)\n",
        "y_pred = clf.predict(x_test)\n",
        "\n",
        "print(f'One vs Rest classifier accuracy score: {accuracy_score(y_test, y_pred):.2f}')\n",
        "\n",
        "clf2 = OneVsOneClassifier(estimator=LogisticRegression(solver='saga'))\n",
        "clf2.fit(x_train, y_train)\n",
        "y_pred = clf2.predict(x_test)\n",
        "\n",
        "print(f'One vs One classifier accuracy score: {accuracy_score(y_test, y_pred):.2f}')"
      ],
      "metadata": {
        "colab": {
          "base_uri": "https://localhost:8080/"
        },
        "id": "f6tigfbc3Ap7",
        "outputId": "3a2ce4bd-4868-47c4-c19c-c388f0b0fc4f"
      },
      "execution_count": 8,
      "outputs": [
        {
          "output_type": "stream",
          "name": "stdout",
          "text": [
            "One vs Rest classifier accuracy score: 0.36\n",
            "One vs One classifier accuracy score: 0.37\n"
          ]
        }
      ]
    },
    {
      "cell_type": "code",
      "source": [
        "# Estimating multiple classification targets\n",
        "from sklearn.datasets import make_multilabel_classification\n",
        "from sklearn.multioutput import MultiOutputClassifier\n",
        "from sklearn.ensemble import GradientBoostingClassifier\n",
        "\n",
        "x, y = make_multilabel_classification(n_samples=500, n_features=8, n_classes=3,\n",
        "                                      n_labels=2)\n",
        "\n",
        "y[:,-1] = y[:,0]\n",
        "\n",
        "x_train, x_test, y_train, y_test = train_test_split(x, y, test_size=0.25)\n",
        "\n",
        "clf = MultiOutputClassifier(estimator=GradientBoostingClassifier(\n",
        "    n_estimators=500, learning_rate=0.01, subsample=0.8), n_jobs=-1\n",
        ")\n",
        "\n",
        "clf.fit(x_train, y_train)\n",
        "y_pred_multioutput = clf.predict(x_test)\n",
        "print(f'Multi-output classifier accuracy score: {accuracy_score(y_test, y_pred_multioutput):.2f}')"
      ],
      "metadata": {
        "colab": {
          "base_uri": "https://localhost:8080/"
        },
        "id": "Y4eNkvqlCrYT",
        "outputId": "37455940-5f60-471d-dfe2-b535f0f38fc8"
      },
      "execution_count": 9,
      "outputs": [
        {
          "output_type": "stream",
          "name": "stdout",
          "text": [
            "Multi-output classifier accuracy score: 0.66\n"
          ]
        }
      ]
    },
    {
      "cell_type": "code",
      "source": [
        "# ClassifierChain\n",
        "from sklearn.multioutput import ClassifierChain\n",
        "\n",
        "clf = ClassifierChain(\n",
        "    base_estimator=GradientBoostingClassifier(\n",
        "        n_estimators=500,\n",
        "        learning_rate=0.01,\n",
        "        subsample=0.8\n",
        "    ),\n",
        "    order=[0,1,2]\n",
        ")\n",
        "clf.fit(x_train, y_train)\n",
        "y_pred_chain = clf.predict(x_test)\n",
        "print(f' classifier Chain accuracy score: {accuracy_score(y_test, y_pred_chain):.2f}')\n"
      ],
      "metadata": {
        "colab": {
          "base_uri": "https://localhost:8080/"
        },
        "id": "OZL16LtKWpf-",
        "outputId": "5b85fd5b-f73b-4615-9232-d550058828ea"
      },
      "execution_count": 10,
      "outputs": [
        {
          "output_type": "stream",
          "name": "stdout",
          "text": [
            " classifier Chain accuracy score: 0.67\n"
          ]
        }
      ]
    },
    {
      "cell_type": "code",
      "source": [
        "# Calibrating a classifier's probabilities\n",
        "from sklearn.naive_bayes import GaussianNB\n",
        "from sklearn.calibration import calibration_curve\n",
        "\n",
        "x, y = make_classification(n_samples=50000, n_features=15, n_informative=5, \n",
        "                           n_redundant=10, n_classes=2, class_sep=0.001)\n",
        "x_train, x_test, y_train, y_test = train_test_split(x, y, test_size=0.25)\n",
        "\n",
        "clf = GaussianNB()\n",
        "clf.fit(x_train, y_train)\n",
        "y_pred_proba = clf.predict_proba(x_test)[:,-1]\n",
        "\n",
        "fraction_of_positives, mean_predicted_value = calibration_curve(\n",
        "    y_test, y_pred_proba, n_bins=10\n",
        ")\n",
        "\n",
        "fig, ax = plt.subplots(1,1,figsize=(6,4))\n",
        "ax.plot(mean_predicted_value, fraction_of_positives, \"-\",\n",
        "        label='Uncalibrated GaussianNB', color='k')\n",
        "ax.set_xlim((0,1))\n",
        "ax.set_ylim((0,1))\n",
        "ax.set_title('Probability Calibration Curve')\n",
        "ax.set_xlabel('Predicted Probability')\n",
        "ax.set_ylabel('% of samples in Class 1')\n",
        "x = np.linspace(*ax.get_xlim())\n",
        "ax.plot(x, x, ls='--', label='Ideal Calibration')\n",
        "ax.grid()\n",
        "ax.legend()\n",
        "fig.show()"
      ],
      "metadata": {
        "colab": {
          "base_uri": "https://localhost:8080/",
          "height": 295
        },
        "id": "AIOLRieCr_Lu",
        "outputId": "e50862ec-eee0-4d9e-aa9a-8acce870c401"
      },
      "execution_count": 18,
      "outputs": [
        {
          "output_type": "display_data",
          "data": {
            "image/png": "[encoded data removed]",
            "text/plain": [
              "<Figure size 432x288 with 1 Axes>"
            ]
          },
          "metadata": {
            "needs_background": "light"
          }
        }
      ]
    },
    {
      "cell_type": "code",
      "source": [
        "from sklearn.calibration import CalibratedClassifierCV\n",
        "\n",
        "clf_calib = CalibratedClassifierCV(GaussianNB(), cv=3, method='isotonic')\n",
        "clf_calib.fit(x_train, y_train)\n",
        "y_pred_calib = clf_calib.predict(x_test)\n",
        "y_pred_proba_calib = clf_calib.predict_proba(x_test)[:,-1]\n",
        "\n",
        "fraction_of_positives, mean_predicted_value = calibration_curve(\n",
        "    y_test, y_pred_proba_calib, n_bins=10\n",
        ")\n",
        "\n",
        "fig, ax = plt.subplots(1,1,figsize=(6,4))\n",
        "ax.plot(mean_predicted_value, fraction_of_positives, \"-\",\n",
        "        label='Calibrated GaussianNB', color='k')\n",
        "ax.set_xlim((0,1))\n",
        "ax.set_ylim((0,1))\n",
        "ax.set_title('Probability Calibration Curve')\n",
        "ax.set_xlabel('Predicted Probability')\n",
        "ax.set_ylabel('% of samples in Class 1')\n",
        "x = np.linspace(*ax.get_xlim())\n",
        "ax.plot(x, x, ls='--', label='Ideal Calibration')\n",
        "ax.grid()\n",
        "ax.legend()\n",
        "fig.show()"
      ],
      "metadata": {
        "colab": {
          "base_uri": "https://localhost:8080/",
          "height": 295
        },
        "id": "_bKGd0L1xJv7",
        "outputId": "f71749ef-a717-4f4a-e144-ca805ff0efc3"
      },
      "execution_count": 19,
      "outputs": [
        {
          "output_type": "display_data",
          "data": {
            "image/png": "[encoded data removed]",
            "text/plain": [
              "<Figure size 432x288 with 1 Axes>"
            ]
          },
          "metadata": {
            "needs_background": "light"
          }
        }
      ]
    },
    {
      "cell_type": "code",
      "source": [
        "# Calculating precision at the top k samples\n",
        "def precision_at_k_score(y_true, y_pred_proba, k=1000, pos_label=1):\n",
        "  topk = [\n",
        "          y_true_ == pos_label\n",
        "          for y_true_, y_pred_proba_ in sorted(\n",
        "              zip(y_true, y_pred_proba),\n",
        "              key=lambda y: y[1],\n",
        "              reverse=True\n",
        "          )[:k]\n",
        "  ]\n",
        "  return sum(topk)/len(topk)\n",
        "\n",
        "print(precision_at_k_score(y_test, y_pred_proba, k=500))"
      ],
      "metadata": {
        "colab": {
          "base_uri": "https://localhost:8080/"
        },
        "id": "H9KV6-CDi4B1",
        "outputId": "4d276af6-3fe0-45ab-a597-1442c68241cb"
      },
      "execution_count": 20,
      "outputs": [
        {
          "output_type": "stream",
          "name": "stdout",
          "text": [
            "0.914\n"
          ]
        }
      ]
    }
  ]
}