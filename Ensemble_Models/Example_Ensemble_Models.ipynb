{
  "nbformat": 4,
  "nbformat_minor": 0,
  "metadata": {
    "colab": {
      "name": "Example_Ensemble_Models.ipynb",
      "provenance": [],
      "collapsed_sections": [],
      "authorship_tag": "ABX9TyOIFy3eMP2tMl+9qjSnQCPw",
      "include_colab_link": true
    },
    "kernelspec": {
      "name": "python3",
      "display_name": "Python 3"
    },
    "language_info": {
      "name": "python"
    }
  },
  "cells": [
    {
      "cell_type": "markdown",
      "metadata": {
        "id": "view-in-github",
        "colab_type": "text"
      },
      "source": [
        "<a href=\"https://colab.research.google.com/github/Nekokan1500/Machine-Learning/blob/main/Ensemble_Models/Example_Ensemble_Models.ipynb\" target=\"_parent\"><img src=\"https://colab.research.google.com/assets/colab-badge.svg\" alt=\"Open In Colab\"/></a>"
      ]
    },
    {
      "cell_type": "code",
      "execution_count": 1,
      "metadata": {
        "colab": {
          "base_uri": "https://localhost:8080/"
        },
        "id": "g6HvvCNi3rfw",
        "outputId": "d2579e2a-1835-469a-932e-228dc164beb2"
      },
      "outputs": [
        {
          "output_type": "execute_result",
          "data": {
            "text/plain": [
              "normalized-losses    41\n",
              "num-of-doors          2\n",
              "bore                  4\n",
              "stroke                4\n",
              "horsepower            2\n",
              "peak-rpm              2\n",
              "price                 4\n",
              "dtype: int64"
            ]
          },
          "metadata": {},
          "execution_count": 1
        }
      ],
      "source": [
        "# Loading the car dataset from UCI machine learning databases\n",
        "import pandas as pd\n",
        "import numpy as np\n",
        "\n",
        "url = 'http://archive.ics.uci.edu/ml/machine-learning-databases/autos/imports-85.data'\n",
        "header = ['symboling', 'normalized-losses', 'make', 'fuel-type', 'aspiration',\n",
        "          'num-of-doors', 'body-style', 'drive-wheels', 'engine-location',\n",
        "          'wheel-base', 'length', 'width', 'height', 'curb-weight', 'engine-type',\n",
        "          'num-of-cylinders', 'engine-size', 'fuel-system', 'bore', 'stroke',\n",
        "          'compression-ratio', 'horsepower', 'peak-rpm', 'city-mpg', 'highway-mpg',\n",
        "          'price']\n",
        "\n",
        "df = pd.read_csv(url, names=header, na_values='?')\n",
        "\n",
        "cols_with_missing = df.isnull().sum()\n",
        "cols_with_missing[cols_with_missing > 0]\n"
      ]
    },
    {
      "cell_type": "code",
      "source": [
        "# price is the target variable so remove the 4 records where price is missing\n",
        "# also drop normalized-losses as there are too many missings\n",
        "df = df[~df['price'].isnull()]\n",
        "df = df.drop(labels=['normalized-losses'], axis=1)"
      ],
      "metadata": {
        "id": "dNS7Qo3cAuik"
      },
      "execution_count": 2,
      "outputs": []
    },
    {
      "cell_type": "code",
      "source": [
        "features = {\n",
        "    'categorical': ['make', 'fuel-type', 'aspiration', 'num-of-doors',\n",
        "                    'body-style', 'drive-wheels', 'engine-location',\n",
        "                    'engine-type', 'num-of-cylinders', 'fuel-system'],\n",
        "    'numerical': ['symboling', 'wheel-base', 'length', 'width', 'height',\n",
        "                  'curb-weight', 'engine-size', 'bore', 'stroke',\n",
        "                  'compression-ratio', 'horsepower', 'peak-rpm',\n",
        "                  'city-mpg', 'highway-mpg']}\n",
        "\n",
        "features['all'] = features['categorical'] + features['numerical']\n",
        "\n",
        "target = 'price'\n",
        "\n",
        "df[target] = df[target].astype(np.float64)/1000\n",
        "\n",
        "df[features['categorical']].sample(n=3,random_state=42)"
      ],
      "metadata": {
        "colab": {
          "base_uri": "https://localhost:8080/",
          "height": 143
        },
        "id": "o9k7c5dJJYN7",
        "outputId": "0783aae1-52ab-404e-962e-348f59018a46"
      },
      "execution_count": 3,
      "outputs": [
        {
          "output_type": "execute_result",
          "data": {
            "text/html": [
              "\n",
              "  <div id=\"df-a326eec8-7632-4ff0-9ff1-2958d7709a0d\">\n",
              "    <div class=\"colab-df-container\">\n",
              "      <div>\n",
              "<style scoped>\n",
              "    .dataframe tbody tr th:only-of-type {\n",
              "        vertical-align: middle;\n",
              "    }\n",
              "\n",
              "    .dataframe tbody tr th {\n",
              "        vertical-align: top;\n",
              "    }\n",
              "\n",
              "    .dataframe thead th {\n",
              "        text-align: right;\n",
              "    }\n",
              "</style>\n",
              "<table border=\"1\" class=\"dataframe\">\n",
              "  <thead>\n",
              "    <tr style=\"text-align: right;\">\n",
              "      <th></th>\n",
              "      <th>make</th>\n",
              "      <th>fuel-type</th>\n",
              "      <th>aspiration</th>\n",
              "      <th>num-of-doors</th>\n",
              "      <th>body-style</th>\n",
              "      <th>drive-wheels</th>\n",
              "      <th>engine-location</th>\n",
              "      <th>engine-type</th>\n",
              "      <th>num-of-cylinders</th>\n",
              "      <th>fuel-system</th>\n",
              "    </tr>\n",
              "  </thead>\n",
              "  <tbody>\n",
              "    <tr>\n",
              "      <th>98</th>\n",
              "      <td>nissan</td>\n",
              "      <td>gas</td>\n",
              "      <td>std</td>\n",
              "      <td>two</td>\n",
              "      <td>hardtop</td>\n",
              "      <td>fwd</td>\n",
              "      <td>front</td>\n",
              "      <td>ohc</td>\n",
              "      <td>four</td>\n",
              "      <td>2bbl</td>\n",
              "    </tr>\n",
              "    <tr>\n",
              "      <th>16</th>\n",
              "      <td>bmw</td>\n",
              "      <td>gas</td>\n",
              "      <td>std</td>\n",
              "      <td>two</td>\n",
              "      <td>sedan</td>\n",
              "      <td>rwd</td>\n",
              "      <td>front</td>\n",
              "      <td>ohc</td>\n",
              "      <td>six</td>\n",
              "      <td>mpfi</td>\n",
              "    </tr>\n",
              "    <tr>\n",
              "      <th>31</th>\n",
              "      <td>honda</td>\n",
              "      <td>gas</td>\n",
              "      <td>std</td>\n",
              "      <td>two</td>\n",
              "      <td>hatchback</td>\n",
              "      <td>fwd</td>\n",
              "      <td>front</td>\n",
              "      <td>ohc</td>\n",
              "      <td>four</td>\n",
              "      <td>1bbl</td>\n",
              "    </tr>\n",
              "  </tbody>\n",
              "</table>\n",
              "</div>\n",
              "      <button class=\"colab-df-convert\" onclick=\"convertToInteractive('df-a326eec8-7632-4ff0-9ff1-2958d7709a0d')\"\n",
              "              title=\"Convert this dataframe to an interactive table.\"\n",
              "              style=\"display:none;\">\n",
              "        \n",
              "  <svg xmlns=\"http://www.w3.org/2000/svg\" height=\"24px\"viewBox=\"0 0 24 24\"\n",
              "       width=\"24px\">\n",
              "    <path d=\"M0 0h24v24H0V0z\" fill=\"none\"/>\n",
              "    <path d=\"M18.56 5.44l.94 2.06.94-2.06 2.06-.94-2.06-.94-.94-2.06-.94 2.06-2.06.94zm-11 1L8.5 8.5l.94-2.06 2.06-.94-2.06-.94L8.5 2.5l-.94 2.06-2.06.94zm10 10l.94 2.06.94-2.06 2.06-.94-2.06-.94-.94-2.06-.94 2.06-2.06.94z\"/><path d=\"M17.41 7.96l-1.37-1.37c-.4-.4-.92-.59-1.43-.59-.52 0-1.04.2-1.43.59L10.3 9.45l-7.72 7.72c-.78.78-.78 2.05 0 2.83L4 21.41c.39.39.9.59 1.41.59.51 0 1.02-.2 1.41-.59l7.78-7.78 2.81-2.81c.8-.78.8-2.07 0-2.86zM5.41 20L4 18.59l7.72-7.72 1.47 1.35L5.41 20z\"/>\n",
              "  </svg>\n",
              "      </button>\n",
              "      \n",
              "  <style>\n",
              "    .colab-df-container {\n",
              "      display:flex;\n",
              "      flex-wrap:wrap;\n",
              "      gap: 12px;\n",
              "    }\n",
              "\n",
              "    .colab-df-convert {\n",
              "      background-color: #E8F0FE;\n",
              "      border: none;\n",
              "      border-radius: 50%;\n",
              "      cursor: pointer;\n",
              "      display: none;\n",
              "      fill: #1967D2;\n",
              "      height: 32px;\n",
              "      padding: 0 0 0 0;\n",
              "      width: 32px;\n",
              "    }\n",
              "\n",
              "    .colab-df-convert:hover {\n",
              "      background-color: #E2EBFA;\n",
              "      box-shadow: 0px 1px 2px rgba(60, 64, 67, 0.3), 0px 1px 3px 1px rgba(60, 64, 67, 0.15);\n",
              "      fill: #174EA6;\n",
              "    }\n",
              "\n",
              "    [theme=dark] .colab-df-convert {\n",
              "      background-color: #3B4455;\n",
              "      fill: #D2E3FC;\n",
              "    }\n",
              "\n",
              "    [theme=dark] .colab-df-convert:hover {\n",
              "      background-color: #434B5C;\n",
              "      box-shadow: 0px 1px 3px 1px rgba(0, 0, 0, 0.15);\n",
              "      filter: drop-shadow(0px 1px 2px rgba(0, 0, 0, 0.3));\n",
              "      fill: #FFFFFF;\n",
              "    }\n",
              "  </style>\n",
              "\n",
              "      <script>\n",
              "        const buttonEl =\n",
              "          document.querySelector('#df-a326eec8-7632-4ff0-9ff1-2958d7709a0d button.colab-df-convert');\n",
              "        buttonEl.style.display =\n",
              "          google.colab.kernel.accessAllowed ? 'block' : 'none';\n",
              "\n",
              "        async function convertToInteractive(key) {\n",
              "          const element = document.querySelector('#df-a326eec8-7632-4ff0-9ff1-2958d7709a0d');\n",
              "          const dataTable =\n",
              "            await google.colab.kernel.invokeFunction('convertToInteractive',\n",
              "                                                     [key], {});\n",
              "          if (!dataTable) return;\n",
              "\n",
              "          const docLinkHtml = 'Like what you see? Visit the ' +\n",
              "            '<a target=\"_blank\" href=https://colab.research.google.com/notebooks/data_table.ipynb>data table notebook</a>'\n",
              "            + ' to learn more about interactive tables.';\n",
              "          element.innerHTML = '';\n",
              "          dataTable['output_type'] = 'display_data';\n",
              "          await google.colab.output.renderOutput(dataTable, element);\n",
              "          const docLink = document.createElement('div');\n",
              "          docLink.innerHTML = docLinkHtml;\n",
              "          element.appendChild(docLink);\n",
              "        }\n",
              "      </script>\n",
              "    </div>\n",
              "  </div>\n",
              "  "
            ],
            "text/plain": [
              "      make fuel-type aspiration  ... engine-type num-of-cylinders fuel-system\n",
              "98  nissan       gas        std  ...         ohc             four        2bbl\n",
              "16     bmw       gas        std  ...         ohc              six        mpfi\n",
              "31   honda       gas        std  ...         ohc             four        1bbl\n",
              "\n",
              "[3 rows x 10 columns]"
            ]
          },
          "metadata": {},
          "execution_count": 3
        }
      ]
    },
    {
      "cell_type": "code",
      "source": [
        "# Split the data into training and test sets\n",
        "# All other transformations, such as scaling, imputing, and encoding, should be \n",
        "# done after splitting the data into training and test sets. In this way, we can\n",
        "# ensure that no information is leaked from the test set into the training samples.\n",
        "from sklearn.model_selection import train_test_split\n",
        "\n",
        "df_train, df_test = train_test_split(df, test_size=0.25, random_state=42)\n",
        "x_train = df_train[features['all']]\n",
        "x_test = df_test[features['all']]\n",
        "y_train = df_train[target]\n",
        "y_test = df_test[target]\n",
        "\n",
        "y_train.plot(title=\"Distribution of Car Prices (in 1000's)\",kind='hist')"
      ],
      "metadata": {
        "colab": {
          "base_uri": "https://localhost:8080/",
          "height": 298
        },
        "id": "JC2Q4NFOJlLy",
        "outputId": "5fc36ba0-4a1d-474c-979f-c2df1874ac5a"
      },
      "execution_count": 4,
      "outputs": [
        {
          "output_type": "execute_result",
          "data": {
            "text/plain": [
              "<matplotlib.axes._subplots.AxesSubplot at 0x7f82d2d5b9d0>"
            ]
          },
          "metadata": {},
          "execution_count": 4
        },
        {
          "output_type": "display_data",
          "data": {
            "image/png": "[encoded data removed]",
            "text/plain": [
              "<Figure size 432x288 with 1 Axes>"
            ]
          },
          "metadata": {
            "needs_background": "light"
          }
        }
      ]
    },
    {
      "cell_type": "code",
      "source": [
        "# The transform function returns numpy ndarrays\n",
        "# In order to keep the column names:\n",
        "class ColumnNamesKeeper:\n",
        "  def __init__(self, transformer):\n",
        "    self._columns = None\n",
        "    self.transformer = transformer\n",
        "  \n",
        "  def fit(self, x, y=None):\n",
        "    self._columns = x.columns\n",
        "    self.transformer.fit(x)\n",
        "\n",
        "  def transform(self, x, y=None):\n",
        "    x = self.transformer.transform(x)\n",
        "    return pd.DataFrame(x, columns=self._columns)\n",
        "\n",
        "  def fit_transform(self, x, y=None):\n",
        "    self.fit(x,y)\n",
        "    return self.transform(x)"
      ],
      "metadata": {
        "id": "kToIcLadNewn"
      },
      "execution_count": 5,
      "outputs": []
    },
    {
      "cell_type": "code",
      "source": [
        "# Impute missing values with the most frequent value in each column\n",
        "# Need to eliminate all missing values before training ensemble models\n",
        "from sklearn.impute import SimpleImputer\n",
        "\n",
        "imp = ColumnNamesKeeper(SimpleImputer(missing_values=np.nan, strategy='most_frequent'))\n",
        "x_train = imp.fit_transform(x_train)\n",
        "x_test = imp.transform(x_test)"
      ],
      "metadata": {
        "id": "mG1uMEl0RjVV"
      },
      "execution_count": 6,
      "outputs": []
    },
    {
      "cell_type": "code",
      "source": [
        "!pip install category_encoders"
      ],
      "metadata": {
        "id": "m4VT9X7dSL8T"
      },
      "execution_count": null,
      "outputs": []
    },
    {
      "cell_type": "code",
      "source": [
        "# Encoding cateogrical columns\n",
        "from category_encoders.ordinal import OrdinalEncoder\n",
        "\n",
        "enc = OrdinalEncoder(cols=features['categorical'], handle_unknown='value')\n",
        "x_train = enc.fit_transform(x_train)\n",
        "x_test = enc.transform(x_test)"
      ],
      "metadata": {
        "id": "2hAnmwsqQxNF"
      },
      "execution_count": null,
      "outputs": []
    },
    {
      "cell_type": "code",
      "source": [
        "# Using Random Forest for regression\n",
        "from sklearn.ensemble import RandomForestRegressor\n",
        "from sklearn.metrics import (mean_squared_error, mean_absolute_error,\n",
        "                             median_absolute_error, r2_score)\n",
        "\n",
        "rgr = RandomForestRegressor(n_jobs=-1)\n",
        "rgr.fit(x_train, y_train)\n",
        "y_test_pred = rgr.predict(x_test)\n",
        "\n",
        "print('R2: {:.2f}, MSE: {:.2f}, RMSE: {:.2f}, MAE {:.2f}'.format(\n",
        "  r2_score(y_test, y_test_pred),\n",
        "  mean_squared_error(y_test, y_test_pred),\n",
        "  np.sqrt(mean_squared_error(y_test, y_test_pred)),\n",
        "  mean_absolute_error(y_test, y_test_pred)))\n",
        "print(\"Average car price: {:.2f}\".format(df[target].mean()))"
      ],
      "metadata": {
        "colab": {
          "base_uri": "https://localhost:8080/"
        },
        "id": "v9XC0zBGSdX8",
        "outputId": "6ab4bc30-4f6c-471e-a302-20be0ae0c082"
      },
      "execution_count": 9,
      "outputs": [
        {
          "output_type": "stream",
          "name": "stdout",
          "text": [
            "R2: 0.93, MSE: 7.72, RMSE: 2.78, MAE 1.73\n",
            "Average car price: 13.21\n"
          ]
        }
      ]
    },
    {
      "cell_type": "code",
      "source": [
        "import matplotlib.pyplot as plt\n",
        "\n",
        "df_pred = pd.DataFrame({\n",
        "    'actuals': y_test,\n",
        "    'predictions': y_test_pred\n",
        "})\n",
        "df_pred['error'] = np.abs(y_test - y_test_pred)\n",
        "\n",
        "fig, axs = plt.subplots(1,2,figsize=(16,5),sharey=False)\n",
        "\n",
        "df_pred.plot(\n",
        "    title='Actuals vs Predictions',\n",
        "    kind='scatter',\n",
        "    x='actuals',\n",
        "    y='predictions',\n",
        "    ax=axs[0]\n",
        ")\n",
        "\n",
        "df_pred['error'].plot(\n",
        "    title='Distribution of Error',\n",
        "    kind='hist',\n",
        "    ax=axs[1]\n",
        ")\n",
        "\n",
        "fig.show()"
      ],
      "metadata": {
        "colab": {
          "base_uri": "https://localhost:8080/",
          "height": 350
        },
        "id": "YgdAg1bqT8Vk",
        "outputId": "24f8f597-8c09-4259-9618-5db629aa7e2e"
      },
      "execution_count": 10,
      "outputs": [
        {
          "output_type": "display_data",
          "data": {
            "image/png": "[encoded data removed]",
            "text/plain": [
              "<Figure size 1152x360 with 2 Axes>"
            ]
          },
          "metadata": {
            "needs_background": "light"
          }
        }
      ]
    },
    {
      "cell_type": "code",
      "source": [
        "# Check of effect of different numbers of trees\n",
        "mae = []\n",
        "n_estimators_options = [5, 500, 5000]\n",
        "\n",
        "for n_estimators in n_estimators_options:\n",
        "  rgr = RandomForestRegressor(\n",
        "      n_estimators=n_estimators,\n",
        "      bootstrap=True,\n",
        "      max_features=0.75,\n",
        "      max_samples=0.75,\n",
        "      n_jobs=-1\n",
        "  )\n",
        "  rgr.fit(x_train, y_train)\n",
        "  y_test_pred = rgr.predict(x_test)\n",
        "  mae.append(mean_absolute_error(y_test, y_test_pred))"
      ],
      "metadata": {
        "id": "vCZIoeyOsVgu"
      },
      "execution_count": 18,
      "outputs": []
    },
    {
      "cell_type": "code",
      "source": [
        "mae"
      ],
      "metadata": {
        "colab": {
          "base_uri": "https://localhost:8080/"
        },
        "id": "hHFN_hUQxpC1",
        "outputId": "decb3d1a-ebcc-4498-f749-faaa352eaa1c"
      },
      "execution_count": 19,
      "outputs": [
        {
          "output_type": "execute_result",
          "data": {
            "text/plain": [
              "[1.794657516339869, 2.0429078986928104, 2.0253120460784957]"
            ]
          },
          "metadata": {},
          "execution_count": 19
        }
      ]
    },
    {
      "cell_type": "code",
      "source": [
        "pd.DataFrame({'MAE': mae, 'N_Trees': n_estimators_options}).plot.bar(x='N_Trees',y='MAE',\n",
        "                                                                     title='Mean Absolute Error (Random Forest)')"
      ],
      "metadata": {
        "colab": {
          "base_uri": "https://localhost:8080/",
          "height": 328
        },
        "id": "Nskmy8Nuv_At",
        "outputId": "dc019720-1521-47b7-c98f-a17d84858dda"
      },
      "execution_count": 29,
      "outputs": [
        {
          "output_type": "execute_result",
          "data": {
            "text/plain": [
              "<matplotlib.axes._subplots.AxesSubplot at 0x7f82e3b00810>"
            ]
          },
          "metadata": {},
          "execution_count": 29
        },
        {
          "output_type": "display_data",
          "data": {
            "image/png": "[encoded data removed]",
            "text/plain": [
              "<Figure size 432x288 with 1 Axes>"
            ]
          },
          "metadata": {
            "needs_background": "light"
          }
        }
      ]
    },
    {
      "cell_type": "code",
      "source": [
        "# Feature importance\n",
        "df_feature_importance = pd.DataFrame(\n",
        "    {'Feature': x_train.columns,\n",
        "     'Importance': rgr.feature_importances_\n",
        "    }\n",
        ").sort_values('Importance', ascending=False)\n",
        "\n",
        "df_feature_importance"
      ],
      "metadata": {
        "colab": {
          "base_uri": "https://localhost:8080/",
          "height": 802
        },
        "id": "07DS2yDz1Wya",
        "outputId": "4053f484-0867-44f6-9589-deba0aa32ad6"
      },
      "execution_count": 32,
      "outputs": [
        {
          "output_type": "execute_result",
          "data": {
            "text/html": [
              "\n",
              "  <div id=\"df-6c4fcb91-f8bb-4c5f-9278-aba01d49cdcf\">\n",
              "    <div class=\"colab-df-container\">\n",
              "      <div>\n",
              "<style scoped>\n",
              "    .dataframe tbody tr th:only-of-type {\n",
              "        vertical-align: middle;\n",
              "    }\n",
              "\n",
              "    .dataframe tbody tr th {\n",
              "        vertical-align: top;\n",
              "    }\n",
              "\n",
              "    .dataframe thead th {\n",
              "        text-align: right;\n",
              "    }\n",
              "</style>\n",
              "<table border=\"1\" class=\"dataframe\">\n",
              "  <thead>\n",
              "    <tr style=\"text-align: right;\">\n",
              "      <th></th>\n",
              "      <th>Feature</th>\n",
              "      <th>Importance</th>\n",
              "    </tr>\n",
              "  </thead>\n",
              "  <tbody>\n",
              "    <tr>\n",
              "      <th>15</th>\n",
              "      <td>curb-weight</td>\n",
              "      <td>0.298065</td>\n",
              "    </tr>\n",
              "    <tr>\n",
              "      <th>16</th>\n",
              "      <td>engine-size</td>\n",
              "      <td>0.276080</td>\n",
              "    </tr>\n",
              "    <tr>\n",
              "      <th>20</th>\n",
              "      <td>horsepower</td>\n",
              "      <td>0.110854</td>\n",
              "    </tr>\n",
              "    <tr>\n",
              "      <th>23</th>\n",
              "      <td>highway-mpg</td>\n",
              "      <td>0.082891</td>\n",
              "    </tr>\n",
              "    <tr>\n",
              "      <th>22</th>\n",
              "      <td>city-mpg</td>\n",
              "      <td>0.071272</td>\n",
              "    </tr>\n",
              "    <tr>\n",
              "      <th>13</th>\n",
              "      <td>width</td>\n",
              "      <td>0.041577</td>\n",
              "    </tr>\n",
              "    <tr>\n",
              "      <th>11</th>\n",
              "      <td>wheel-base</td>\n",
              "      <td>0.027369</td>\n",
              "    </tr>\n",
              "    <tr>\n",
              "      <th>12</th>\n",
              "      <td>length</td>\n",
              "      <td>0.026445</td>\n",
              "    </tr>\n",
              "    <tr>\n",
              "      <th>17</th>\n",
              "      <td>bore</td>\n",
              "      <td>0.009796</td>\n",
              "    </tr>\n",
              "    <tr>\n",
              "      <th>21</th>\n",
              "      <td>peak-rpm</td>\n",
              "      <td>0.008637</td>\n",
              "    </tr>\n",
              "    <tr>\n",
              "      <th>8</th>\n",
              "      <td>num-of-cylinders</td>\n",
              "      <td>0.008117</td>\n",
              "    </tr>\n",
              "    <tr>\n",
              "      <th>14</th>\n",
              "      <td>height</td>\n",
              "      <td>0.006707</td>\n",
              "    </tr>\n",
              "    <tr>\n",
              "      <th>0</th>\n",
              "      <td>make</td>\n",
              "      <td>0.005489</td>\n",
              "    </tr>\n",
              "    <tr>\n",
              "      <th>19</th>\n",
              "      <td>compression-ratio</td>\n",
              "      <td>0.005112</td>\n",
              "    </tr>\n",
              "    <tr>\n",
              "      <th>18</th>\n",
              "      <td>stroke</td>\n",
              "      <td>0.004649</td>\n",
              "    </tr>\n",
              "    <tr>\n",
              "      <th>4</th>\n",
              "      <td>body-style</td>\n",
              "      <td>0.003793</td>\n",
              "    </tr>\n",
              "    <tr>\n",
              "      <th>10</th>\n",
              "      <td>symboling</td>\n",
              "      <td>0.002849</td>\n",
              "    </tr>\n",
              "    <tr>\n",
              "      <th>5</th>\n",
              "      <td>drive-wheels</td>\n",
              "      <td>0.002468</td>\n",
              "    </tr>\n",
              "    <tr>\n",
              "      <th>7</th>\n",
              "      <td>engine-type</td>\n",
              "      <td>0.002462</td>\n",
              "    </tr>\n",
              "    <tr>\n",
              "      <th>2</th>\n",
              "      <td>aspiration</td>\n",
              "      <td>0.001955</td>\n",
              "    </tr>\n",
              "    <tr>\n",
              "      <th>9</th>\n",
              "      <td>fuel-system</td>\n",
              "      <td>0.001849</td>\n",
              "    </tr>\n",
              "    <tr>\n",
              "      <th>3</th>\n",
              "      <td>num-of-doors</td>\n",
              "      <td>0.000777</td>\n",
              "    </tr>\n",
              "    <tr>\n",
              "      <th>1</th>\n",
              "      <td>fuel-type</td>\n",
              "      <td>0.000404</td>\n",
              "    </tr>\n",
              "    <tr>\n",
              "      <th>6</th>\n",
              "      <td>engine-location</td>\n",
              "      <td>0.000382</td>\n",
              "    </tr>\n",
              "  </tbody>\n",
              "</table>\n",
              "</div>\n",
              "      <button class=\"colab-df-convert\" onclick=\"convertToInteractive('df-6c4fcb91-f8bb-4c5f-9278-aba01d49cdcf')\"\n",
              "              title=\"Convert this dataframe to an interactive table.\"\n",
              "              style=\"display:none;\">\n",
              "        \n",
              "  <svg xmlns=\"http://www.w3.org/2000/svg\" height=\"24px\"viewBox=\"0 0 24 24\"\n",
              "       width=\"24px\">\n",
              "    <path d=\"M0 0h24v24H0V0z\" fill=\"none\"/>\n",
              "    <path d=\"M18.56 5.44l.94 2.06.94-2.06 2.06-.94-2.06-.94-.94-2.06-.94 2.06-2.06.94zm-11 1L8.5 8.5l.94-2.06 2.06-.94-2.06-.94L8.5 2.5l-.94 2.06-2.06.94zm10 10l.94 2.06.94-2.06 2.06-.94-2.06-.94-.94-2.06-.94 2.06-2.06.94z\"/><path d=\"M17.41 7.96l-1.37-1.37c-.4-.4-.92-.59-1.43-.59-.52 0-1.04.2-1.43.59L10.3 9.45l-7.72 7.72c-.78.78-.78 2.05 0 2.83L4 21.41c.39.39.9.59 1.41.59.51 0 1.02-.2 1.41-.59l7.78-7.78 2.81-2.81c.8-.78.8-2.07 0-2.86zM5.41 20L4 18.59l7.72-7.72 1.47 1.35L5.41 20z\"/>\n",
              "  </svg>\n",
              "      </button>\n",
              "      \n",
              "  <style>\n",
              "    .colab-df-container {\n",
              "      display:flex;\n",
              "      flex-wrap:wrap;\n",
              "      gap: 12px;\n",
              "    }\n",
              "\n",
              "    .colab-df-convert {\n",
              "      background-color: #E8F0FE;\n",
              "      border: none;\n",
              "      border-radius: 50%;\n",
              "      cursor: pointer;\n",
              "      display: none;\n",
              "      fill: #1967D2;\n",
              "      height: 32px;\n",
              "      padding: 0 0 0 0;\n",
              "      width: 32px;\n",
              "    }\n",
              "\n",
              "    .colab-df-convert:hover {\n",
              "      background-color: #E2EBFA;\n",
              "      box-shadow: 0px 1px 2px rgba(60, 64, 67, 0.3), 0px 1px 3px 1px rgba(60, 64, 67, 0.15);\n",
              "      fill: #174EA6;\n",
              "    }\n",
              "\n",
              "    [theme=dark] .colab-df-convert {\n",
              "      background-color: #3B4455;\n",
              "      fill: #D2E3FC;\n",
              "    }\n",
              "\n",
              "    [theme=dark] .colab-df-convert:hover {\n",
              "      background-color: #434B5C;\n",
              "      box-shadow: 0px 1px 3px 1px rgba(0, 0, 0, 0.15);\n",
              "      filter: drop-shadow(0px 1px 2px rgba(0, 0, 0, 0.3));\n",
              "      fill: #FFFFFF;\n",
              "    }\n",
              "  </style>\n",
              "\n",
              "      <script>\n",
              "        const buttonEl =\n",
              "          document.querySelector('#df-6c4fcb91-f8bb-4c5f-9278-aba01d49cdcf button.colab-df-convert');\n",
              "        buttonEl.style.display =\n",
              "          google.colab.kernel.accessAllowed ? 'block' : 'none';\n",
              "\n",
              "        async function convertToInteractive(key) {\n",
              "          const element = document.querySelector('#df-6c4fcb91-f8bb-4c5f-9278-aba01d49cdcf');\n",
              "          const dataTable =\n",
              "            await google.colab.kernel.invokeFunction('convertToInteractive',\n",
              "                                                     [key], {});\n",
              "          if (!dataTable) return;\n",
              "\n",
              "          const docLinkHtml = 'Like what you see? Visit the ' +\n",
              "            '<a target=\"_blank\" href=https://colab.research.google.com/notebooks/data_table.ipynb>data table notebook</a>'\n",
              "            + ' to learn more about interactive tables.';\n",
              "          element.innerHTML = '';\n",
              "          dataTable['output_type'] = 'display_data';\n",
              "          await google.colab.output.renderOutput(dataTable, element);\n",
              "          const docLink = document.createElement('div');\n",
              "          docLink.innerHTML = docLinkHtml;\n",
              "          element.appendChild(docLink);\n",
              "        }\n",
              "      </script>\n",
              "    </div>\n",
              "  </div>\n",
              "  "
            ],
            "text/plain": [
              "              Feature  Importance\n",
              "15        curb-weight    0.298065\n",
              "16        engine-size    0.276080\n",
              "20         horsepower    0.110854\n",
              "23        highway-mpg    0.082891\n",
              "22           city-mpg    0.071272\n",
              "13              width    0.041577\n",
              "11         wheel-base    0.027369\n",
              "12             length    0.026445\n",
              "17               bore    0.009796\n",
              "21           peak-rpm    0.008637\n",
              "8    num-of-cylinders    0.008117\n",
              "14             height    0.006707\n",
              "0                make    0.005489\n",
              "19  compression-ratio    0.005112\n",
              "18             stroke    0.004649\n",
              "4          body-style    0.003793\n",
              "10          symboling    0.002849\n",
              "5        drive-wheels    0.002468\n",
              "7         engine-type    0.002462\n",
              "2          aspiration    0.001955\n",
              "9         fuel-system    0.001849\n",
              "3        num-of-doors    0.000777\n",
              "1           fuel-type    0.000404\n",
              "6     engine-location    0.000382"
            ]
          },
          "metadata": {},
          "execution_count": 32
        }
      ]
    },
    {
      "cell_type": "code",
      "source": [
        "# Partial Dependence Plot (PDP)\n",
        "from sklearn.inspection import PartialDependenceDisplay\n",
        "\n",
        "top_features = df_feature_importance['Feature'].head(6)\n",
        "fig, ax = plt.subplots(1,1,figsize=(15,7), sharey=False)\n",
        "PartialDependenceDisplay.from_estimator(\n",
        "    rgr, x_train, features=top_features, n_cols=3, n_jobs=-1,\n",
        "    line_kw={'color': 'k'},\n",
        "    ax=ax\n",
        ")\n",
        "ax.set_title('Partial Dependence')\n",
        "fig.show()"
      ],
      "metadata": {
        "colab": {
          "base_uri": "https://localhost:8080/",
          "height": 458
        },
        "id": "RQF71uxkB4Bf",
        "outputId": "782fb1e1-d5ee-4087-8d2b-9f9e8f4a4856"
      },
      "execution_count": 35,
      "outputs": [
        {
          "output_type": "display_data",
          "data": {
            "image/png": "[encoded data removed]",
            "text/plain": [
              "<Figure size 1080x504 with 7 Axes>"
            ]
          },
          "metadata": {
            "needs_background": "light"
          }
        }
      ]
    },
    {
      "cell_type": "code",
      "source": [
        "# Using random forest for classification\n",
        "from sklearn.datasets import make_hastie_10_2\n",
        "from sklearn.ensemble import RandomForestClassifier\n",
        "from sklearn.metrics import roc_curve\n",
        "\n",
        "x, y = make_hastie_10_2(n_samples=6000, random_state=87)\n",
        "x_train, x_test, y_train, y_test = train_test_split(x, y, test_size=0.25, random_state=87)\n",
        "\n",
        "clf = RandomForestClassifier(n_estimators=100, oob_score=True, n_jobs=-1)\n",
        "clf.fit(x_train, y_train)\n",
        "y_pred_proba = clf.predict_proba(x_test)[:,1]\n",
        "fpr, tpr, tnr = roc_curve(y_test, y_pred_proba)"
      ],
      "metadata": {
        "id": "9eBFCBnVDv2M"
      },
      "execution_count": null,
      "outputs": []
    },
    {
      "cell_type": "code",
      "source": [
        "ax = pd.DataFrame(\n",
        "    {'FPR': fpr, 'TPR': tpr}\n",
        ").set_index('FPR')['TPR'].plot(title='ROC Curve', label='Random Forest Classifier', \n",
        "                               grid=True,kind='line',xlabel='False Positive Rate',\n",
        "                               figsize=(4,4),xlim=(0,1),ylim=(0,1))\n",
        "\n",
        "x = np.linspace(*ax.get_xlim())\n",
        "ax.plot(x, x, ls='--', label='Random')\n",
        "ax.legend(loc=\"lower right\")"
      ],
      "metadata": {
        "colab": {
          "base_uri": "https://localhost:8080/",
          "height": 312
        },
        "id": "N5u5ERNXIGZy",
        "outputId": "a3a9902f-9ade-42af-88d5-1735407288bc"
      },
      "execution_count": 53,
      "outputs": [
        {
          "output_type": "execute_result",
          "data": {
            "text/plain": [
              "<matplotlib.legend.Legend at 0x7f82c61d5c90>"
            ]
          },
          "metadata": {},
          "execution_count": 53
        },
        {
          "output_type": "display_data",
          "data": {
            "image/png": "[encoded data removed]",
            "text/plain": [
              "<Figure size 288x288 with 1 Axes>"
            ]
          },
          "metadata": {
            "needs_background": "light"
          }
        }
      ]
    }
  ]
}