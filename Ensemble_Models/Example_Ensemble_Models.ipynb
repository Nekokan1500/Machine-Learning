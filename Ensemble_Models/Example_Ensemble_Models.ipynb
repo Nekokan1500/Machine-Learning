{
  "nbformat": 4,
  "nbformat_minor": 0,
  "metadata": {
    "colab": {
      "name": "Example_Ensemble_Models.ipynb",
      "provenance": [],
      "authorship_tag": "ABX9TyNxYm5FhYYudB1wMWw/Bjjm",
      "include_colab_link": true
    },
    "kernelspec": {
      "name": "python3",
      "display_name": "Python 3"
    },
    "language_info": {
      "name": "python"
    }
  },
  "cells": [
    {
      "cell_type": "markdown",
      "metadata": {
        "id": "view-in-github",
        "colab_type": "text"
      },
      "source": [
        "<a href=\"https://colab.research.google.com/github/Nekokan1500/Machine-Learning/blob/main/Ensemble_Models/Example_Ensemble_Models.ipynb\" target=\"_parent\"><img src=\"https://colab.research.google.com/assets/colab-badge.svg\" alt=\"Open In Colab\"/></a>"
      ]
    },
    {
      "cell_type": "code",
      "execution_count": 9,
      "metadata": {
        "colab": {
          "base_uri": "https://localhost:8080/"
        },
        "id": "g6HvvCNi3rfw",
        "outputId": "cf7fc3ca-4703-43e3-8faa-8d7421b34cb5"
      },
      "outputs": [
        {
          "output_type": "execute_result",
          "data": {
            "text/plain": [
              "normalized-losses    41\n",
              "num-of-doors          2\n",
              "bore                  4\n",
              "stroke                4\n",
              "horsepower            2\n",
              "peak-rpm              2\n",
              "price                 4\n",
              "dtype: int64"
            ]
          },
          "metadata": {},
          "execution_count": 9
        }
      ],
      "source": [
        "# Loading the car dataset from UCI machine learning databases\n",
        "import pandas as pd\n",
        "import numpy as np\n",
        "\n",
        "url = 'http://archive.ics.uci.edu/ml/machine-learning-databases/autos/imports-85.data'\n",
        "header = ['symboling', 'normalized-losses', 'make', 'fuel-type', 'aspiration',\n",
        "          'num-of-doors', 'body-style', 'drive-wheels', 'engine-location',\n",
        "          'wheel-base', 'length', 'width', 'height', 'curb-weight', 'engine-type',\n",
        "          'num-of-cylinders', 'engine-size', 'fuel-system', 'bore', 'stroke',\n",
        "          'compression-ratio', 'horsepower', 'peak-rpm', 'city-mpg', 'highway-mpg',\n",
        "          'price']\n",
        "\n",
        "df = pd.read_csv(url, names=header, na_values='?')\n",
        "\n",
        "cols_with_missing = df.isnull().sum()\n",
        "cols_with_missing[cols_with_missing > 0]\n"
      ]
    },
    {
      "cell_type": "code",
      "source": [
        "# price is the target variable so remove the 4 records where price is missing\n",
        "# also drop normalized-losses as there are too many missings\n",
        "df = df[~df['price'].isnull()]\n",
        "df = df.drop(labels=['normalized-losses'], axis=1)"
      ],
      "metadata": {
        "id": "dNS7Qo3cAuik"
      },
      "execution_count": 10,
      "outputs": []
    },
    {
      "cell_type": "code",
      "source": [
        "features = {\n",
        "    'categorical': ['make', 'fuel-type', 'aspiration', 'num-of-doors',\n",
        "                    'body-style', 'drive-wheels', 'engine-location',\n",
        "                    'engine-type', 'num-of-cylinders', 'fuel-system'],\n",
        "    'numerical': ['symboling', 'wheel-base', 'length', 'width', 'height',\n",
        "                  'curb-weight', 'engine-size', 'bore', 'stroke',\n",
        "                  'compression-ratio', 'horsepower', 'peak-rpm',\n",
        "                  'city-mpg', 'highway-mpg']}\n",
        "\n",
        "features['all'] = features['categorical'] + features['numerical']\n",
        "\n",
        "target = 'price'\n",
        "\n",
        "df[target] = df[target].astype(np.float64)/1000\n",
        "\n",
        "df[features['categorical']].sample(n=3,random_state=42)"
      ],
      "metadata": {
        "colab": {
          "base_uri": "https://localhost:8080/",
          "height": 143
        },
        "id": "o9k7c5dJJYN7",
        "outputId": "ac29e249-ed17-4e76-c49d-73c4615b7bfb"
      },
      "execution_count": 11,
      "outputs": [
        {
          "output_type": "execute_result",
          "data": {
            "text/html": [
              "\n",
              "  <div id=\"df-4ad6c41e-8b2d-411f-ad5e-ec09583a82c8\">\n",
              "    <div class=\"colab-df-container\">\n",
              "      <div>\n",
              "<style scoped>\n",
              "    .dataframe tbody tr th:only-of-type {\n",
              "        vertical-align: middle;\n",
              "    }\n",
              "\n",
              "    .dataframe tbody tr th {\n",
              "        vertical-align: top;\n",
              "    }\n",
              "\n",
              "    .dataframe thead th {\n",
              "        text-align: right;\n",
              "    }\n",
              "</style>\n",
              "<table border=\"1\" class=\"dataframe\">\n",
              "  <thead>\n",
              "    <tr style=\"text-align: right;\">\n",
              "      <th></th>\n",
              "      <th>make</th>\n",
              "      <th>fuel-type</th>\n",
              "      <th>aspiration</th>\n",
              "      <th>num-of-doors</th>\n",
              "      <th>body-style</th>\n",
              "      <th>drive-wheels</th>\n",
              "      <th>engine-location</th>\n",
              "      <th>engine-type</th>\n",
              "      <th>num-of-cylinders</th>\n",
              "      <th>fuel-system</th>\n",
              "    </tr>\n",
              "  </thead>\n",
              "  <tbody>\n",
              "    <tr>\n",
              "      <th>98</th>\n",
              "      <td>nissan</td>\n",
              "      <td>gas</td>\n",
              "      <td>std</td>\n",
              "      <td>two</td>\n",
              "      <td>hardtop</td>\n",
              "      <td>fwd</td>\n",
              "      <td>front</td>\n",
              "      <td>ohc</td>\n",
              "      <td>four</td>\n",
              "      <td>2bbl</td>\n",
              "    </tr>\n",
              "    <tr>\n",
              "      <th>16</th>\n",
              "      <td>bmw</td>\n",
              "      <td>gas</td>\n",
              "      <td>std</td>\n",
              "      <td>two</td>\n",
              "      <td>sedan</td>\n",
              "      <td>rwd</td>\n",
              "      <td>front</td>\n",
              "      <td>ohc</td>\n",
              "      <td>six</td>\n",
              "      <td>mpfi</td>\n",
              "    </tr>\n",
              "    <tr>\n",
              "      <th>31</th>\n",
              "      <td>honda</td>\n",
              "      <td>gas</td>\n",
              "      <td>std</td>\n",
              "      <td>two</td>\n",
              "      <td>hatchback</td>\n",
              "      <td>fwd</td>\n",
              "      <td>front</td>\n",
              "      <td>ohc</td>\n",
              "      <td>four</td>\n",
              "      <td>1bbl</td>\n",
              "    </tr>\n",
              "  </tbody>\n",
              "</table>\n",
              "</div>\n",
              "      <button class=\"colab-df-convert\" onclick=\"convertToInteractive('df-4ad6c41e-8b2d-411f-ad5e-ec09583a82c8')\"\n",
              "              title=\"Convert this dataframe to an interactive table.\"\n",
              "              style=\"display:none;\">\n",
              "        \n",
              "  <svg xmlns=\"http://www.w3.org/2000/svg\" height=\"24px\"viewBox=\"0 0 24 24\"\n",
              "       width=\"24px\">\n",
              "    <path d=\"M0 0h24v24H0V0z\" fill=\"none\"/>\n",
              "    <path d=\"M18.56 5.44l.94 2.06.94-2.06 2.06-.94-2.06-.94-.94-2.06-.94 2.06-2.06.94zm-11 1L8.5 8.5l.94-2.06 2.06-.94-2.06-.94L8.5 2.5l-.94 2.06-2.06.94zm10 10l.94 2.06.94-2.06 2.06-.94-2.06-.94-.94-2.06-.94 2.06-2.06.94z\"/><path d=\"M17.41 7.96l-1.37-1.37c-.4-.4-.92-.59-1.43-.59-.52 0-1.04.2-1.43.59L10.3 9.45l-7.72 7.72c-.78.78-.78 2.05 0 2.83L4 21.41c.39.39.9.59 1.41.59.51 0 1.02-.2 1.41-.59l7.78-7.78 2.81-2.81c.8-.78.8-2.07 0-2.86zM5.41 20L4 18.59l7.72-7.72 1.47 1.35L5.41 20z\"/>\n",
              "  </svg>\n",
              "      </button>\n",
              "      \n",
              "  <style>\n",
              "    .colab-df-container {\n",
              "      display:flex;\n",
              "      flex-wrap:wrap;\n",
              "      gap: 12px;\n",
              "    }\n",
              "\n",
              "    .colab-df-convert {\n",
              "      background-color: #E8F0FE;\n",
              "      border: none;\n",
              "      border-radius: 50%;\n",
              "      cursor: pointer;\n",
              "      display: none;\n",
              "      fill: #1967D2;\n",
              "      height: 32px;\n",
              "      padding: 0 0 0 0;\n",
              "      width: 32px;\n",
              "    }\n",
              "\n",
              "    .colab-df-convert:hover {\n",
              "      background-color: #E2EBFA;\n",
              "      box-shadow: 0px 1px 2px rgba(60, 64, 67, 0.3), 0px 1px 3px 1px rgba(60, 64, 67, 0.15);\n",
              "      fill: #174EA6;\n",
              "    }\n",
              "\n",
              "    [theme=dark] .colab-df-convert {\n",
              "      background-color: #3B4455;\n",
              "      fill: #D2E3FC;\n",
              "    }\n",
              "\n",
              "    [theme=dark] .colab-df-convert:hover {\n",
              "      background-color: #434B5C;\n",
              "      box-shadow: 0px 1px 3px 1px rgba(0, 0, 0, 0.15);\n",
              "      filter: drop-shadow(0px 1px 2px rgba(0, 0, 0, 0.3));\n",
              "      fill: #FFFFFF;\n",
              "    }\n",
              "  </style>\n",
              "\n",
              "      <script>\n",
              "        const buttonEl =\n",
              "          document.querySelector('#df-4ad6c41e-8b2d-411f-ad5e-ec09583a82c8 button.colab-df-convert');\n",
              "        buttonEl.style.display =\n",
              "          google.colab.kernel.accessAllowed ? 'block' : 'none';\n",
              "\n",
              "        async function convertToInteractive(key) {\n",
              "          const element = document.querySelector('#df-4ad6c41e-8b2d-411f-ad5e-ec09583a82c8');\n",
              "          const dataTable =\n",
              "            await google.colab.kernel.invokeFunction('convertToInteractive',\n",
              "                                                     [key], {});\n",
              "          if (!dataTable) return;\n",
              "\n",
              "          const docLinkHtml = 'Like what you see? Visit the ' +\n",
              "            '<a target=\"_blank\" href=https://colab.research.google.com/notebooks/data_table.ipynb>data table notebook</a>'\n",
              "            + ' to learn more about interactive tables.';\n",
              "          element.innerHTML = '';\n",
              "          dataTable['output_type'] = 'display_data';\n",
              "          await google.colab.output.renderOutput(dataTable, element);\n",
              "          const docLink = document.createElement('div');\n",
              "          docLink.innerHTML = docLinkHtml;\n",
              "          element.appendChild(docLink);\n",
              "        }\n",
              "      </script>\n",
              "    </div>\n",
              "  </div>\n",
              "  "
            ],
            "text/plain": [
              "      make fuel-type aspiration  ... engine-type num-of-cylinders fuel-system\n",
              "98  nissan       gas        std  ...         ohc             four        2bbl\n",
              "16     bmw       gas        std  ...         ohc              six        mpfi\n",
              "31   honda       gas        std  ...         ohc             four        1bbl\n",
              "\n",
              "[3 rows x 10 columns]"
            ]
          },
          "metadata": {},
          "execution_count": 11
        }
      ]
    },
    {
      "cell_type": "code",
      "source": [
        "# Split the data into training and test sets\n",
        "# All other transformations, such as scaling, imputing, and encoding, should be \n",
        "# done after splitting the data into training and test sets. In this way, we can\n",
        "# ensure that no information is leaked from the test set into the training samples.\n",
        "from sklearn.model_selection import train_test_split\n",
        "\n",
        "df_train, df_test = train_test_split(df, test_size=0.25, random_state=42)\n",
        "x_train = df_train[features['all']]\n",
        "x_test = df_test[features['all']]\n",
        "y_train = df_train[target]\n",
        "y_test = df_test[target]\n",
        "\n",
        "y_train.plot(title=\"Distribution of Car Prices (in 1000's)\",kind='hist')"
      ],
      "metadata": {
        "colab": {
          "base_uri": "https://localhost:8080/",
          "height": 298
        },
        "id": "JC2Q4NFOJlLy",
        "outputId": "4f75e054-89e7-4c91-8958-5b97ce2ea5ae"
      },
      "execution_count": 24,
      "outputs": [
        {
          "output_type": "execute_result",
          "data": {
            "text/plain": [
              "<matplotlib.axes._subplots.AxesSubplot at 0x7f1b2d09bbd0>"
            ]
          },
          "metadata": {},
          "execution_count": 24
        },
        {
          "output_type": "display_data",
          "data": {
            "image/png": "[encoded data removed]",
            "text/plain": [
              "<Figure size 432x288 with 1 Axes>"
            ]
          },
          "metadata": {
            "needs_background": "light"
          }
        }
      ]
    },
    {
      "cell_type": "code",
      "source": [
        "# The transform function returns numpy ndarrays\n",
        "# In order to keep the column names:\n",
        "class ColumnNamesKeeper:\n",
        "  def __init__(self, transformer):\n",
        "    self._columns = None\n",
        "    self.transformer = transformer\n",
        "  \n",
        "  def fit(self, x, y=None):\n",
        "    self._columns = x.columns\n",
        "    self.transformer.fit(x)\n",
        "\n",
        "  def transform(self, x, y=None):\n",
        "    x = self.transformer.transform(x)\n",
        "    return pd.DataFrame(x, columns=self._columns)\n",
        "\n",
        "  def fit_transform(self, x, y=None):\n",
        "    self.fit(x,y)\n",
        "    return self.transform(x)"
      ],
      "metadata": {
        "id": "kToIcLadNewn"
      },
      "execution_count": 20,
      "outputs": []
    },
    {
      "cell_type": "code",
      "source": [
        "# Impute missing values with the most frequent value in each column\n",
        "# Need to eliminate all missing values before training ensemble models\n",
        "from sklearn.impute import SimpleImputer\n",
        "\n",
        "imp = ColumnNamesKeeper(SimpleImputer(missing_values=np.nan, strategy='most_frequent'))\n",
        "x_train = imp.fit_transform(x_train)\n",
        "x_test = imp.transform(x_test)"
      ],
      "metadata": {
        "id": "mG1uMEl0RjVV"
      },
      "execution_count": 26,
      "outputs": []
    },
    {
      "cell_type": "code",
      "source": [
        "!pip install category_encoders"
      ],
      "metadata": {
        "id": "m4VT9X7dSL8T"
      },
      "execution_count": null,
      "outputs": []
    },
    {
      "cell_type": "code",
      "source": [
        "# Encoding cateogrical columns\n",
        "from category_encoders.ordinal import OrdinalEncoder\n",
        "\n",
        "enc = OrdinalEncoder(cols=features['categorical'], handle_unknown='value')\n",
        "x_train = enc.fit_transform(x_train)\n",
        "x_test = enc.transform(x_test)"
      ],
      "metadata": {
        "id": "2hAnmwsqQxNF"
      },
      "execution_count": null,
      "outputs": []
    },
    {
      "cell_type": "code",
      "source": [
        "# Using Random Forest for regression\n",
        "from sklearn.ensemble import RandomForestRegressor\n",
        "from sklearn.metrics import (mean_squared_error, mean_absolute_error,\n",
        "                             median_absolute_error, r2_score)\n",
        "\n",
        "rgr = RandomForestRegressor(n_jobs=-1)\n",
        "rgr.fit(x_train, y_train)\n",
        "y_test_pred = rgr.predict(x_test)\n",
        "\n",
        "print('R2: {:.2f}, MSE: {:.2f}, RMSE: {:.2f}, MAE {:.2f}'.format(\n",
        "  r2_score(y_test, y_test_pred),\n",
        "  mean_squared_error(y_test, y_test_pred),\n",
        "  np.sqrt(mean_squared_error(y_test, y_test_pred)),\n",
        "  mean_absolute_error(y_test, y_test_pred)))\n",
        "print(\"Average car price: {:.2f}\".format(df[target].mean()))"
      ],
      "metadata": {
        "colab": {
          "base_uri": "https://localhost:8080/"
        },
        "id": "v9XC0zBGSdX8",
        "outputId": "b719a2df-c05c-45df-8f0d-d635005deaf3"
      },
      "execution_count": 39,
      "outputs": [
        {
          "output_type": "stream",
          "name": "stdout",
          "text": [
            "R2: 0.93, MSE: 7.28, RMSE: 2.70, MAE 1.74\n",
            "Average car price: 13.21\n"
          ]
        }
      ]
    },
    {
      "cell_type": "code",
      "source": [
        "import matplotlib.pyplot as plt\n",
        "\n",
        "df_pred = pd.DataFrame({\n",
        "    'actuals': y_test,\n",
        "    'predictions': y_test_pred\n",
        "})\n",
        "df_pred['error'] = np.abs(y_test - y_test_pred)\n",
        "\n",
        "fig, axs = plt.subplots(1,2,figsize=(16,5),sharey=False)\n",
        "\n",
        "df_pred.plot(\n",
        "    title='Actuals vs Predictions',\n",
        "    kind='scatter',\n",
        "    x='actuals',\n",
        "    y='predictions',\n",
        "    ax=axs[0]\n",
        ")\n",
        "\n",
        "df_pred['error'].plot(\n",
        "    title='Distribution of Error',\n",
        "    kind='hist',\n",
        "    ax=axs[1]\n",
        ")\n",
        "\n",
        "fig.show()"
      ],
      "metadata": {
        "colab": {
          "base_uri": "https://localhost:8080/",
          "height": 350
        },
        "id": "YgdAg1bqT8Vk",
        "outputId": "39955882-1dfa-4f99-914f-38a60da92e3a"
      },
      "execution_count": 40,
      "outputs": [
        {
          "output_type": "display_data",
          "data": {
            "image/png": "[encoded data removed]",
            "text/plain": [
              "<Figure size 1152x360 with 2 Axes>"
            ]
          },
          "metadata": {
            "needs_background": "light"
          }
        }
      ]
    }
  ]
}