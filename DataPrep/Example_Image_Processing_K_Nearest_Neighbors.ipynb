{
  "nbformat": 4,
  "nbformat_minor": 0,
  "metadata": {
    "colab": {
      "name": "Example_Image_Processing_K_Nearest_Neighbors.ipynb",
      "provenance": [],
      "toc_visible": true,
      "collapsed_sections": [],
      "authorship_tag": "ABX9TyPPXDS0DMfvHX1G7kO+A+4s",
      "include_colab_link": true
    },
    "kernelspec": {
      "name": "python3",
      "display_name": "Python 3"
    },
    "language_info": {
      "name": "python"
    }
  },
  "cells": [
    {
      "cell_type": "markdown",
      "metadata": {
        "id": "view-in-github",
        "colab_type": "text"
      },
      "source": [
        "<a href=\"https://colab.research.google.com/github/Nekokan1500/Machine-Learning/blob/main/DataPrep/Example_Image_Processing_K_Nearest_Neighbors.ipynb\" target=\"_parent\"><img src=\"https://colab.research.google.com/assets/colab-badge.svg\" alt=\"Open In Colab\"/></a>"
      ]
    },
    {
      "cell_type": "code",
      "execution_count": 19,
      "metadata": {
        "colab": {
          "base_uri": "https://localhost:8080/",
          "height": 153
        },
        "id": "tV90jISTokSh",
        "outputId": "e3342ca2-2b6e-48e5-ac43-aaa15d6cddf8"
      },
      "outputs": [
        {
          "output_type": "display_data",
          "data": {
            "image/png": "[encoded data removed]",
            "text/plain": [
              "<Figure size 1080x720 with 8 Axes>"
            ]
          },
          "metadata": {
            "needs_background": "light"
          }
        }
      ],
      "source": [
        "from sklearn.datasets import load_digits\n",
        "import matplotlib.pyplot as plt\n",
        "import numpy as np\n",
        "\n",
        "digits = load_digits()\n",
        "\n",
        "def display_img(img, target, ax):\n",
        "  img = img.reshape((8,8))\n",
        "  ax.imshow(img, cmap='gray')\n",
        "  ax.set_title(f'Digit: {str(target)}')\n",
        "  ax.grid(False)\n",
        "\n",
        "fig, axs = plt.subplots(1,8,figsize=(15,10))\n",
        "for i in range(8):\n",
        "  display_img(digits['data'][i], digits['target'][i], axs[i])"
      ]
    },
    {
      "cell_type": "code",
      "source": [
        "from sklearn.model_selection import train_test_split\n",
        "from sklearn.neighbors import KNeighborsClassifier\n",
        "from sklearn.metrics import accuracy_score\n",
        "from sklearn.metrics import confusion_matrix, ConfusionMatrixDisplay\n",
        "\n",
        "x, y = digits['data'], digits['target']\n",
        "x_train, x_test, y_train, y_test = train_test_split(x,y)\n",
        "\n",
        "clf = KNeighborsClassifier(n_neighbors=11, metric='manhattan')\n",
        "clf.fit(x_train, y_train)\n",
        "y_test_pred = clf.predict(x_test)\n",
        "print(\"Accuracy score: %.2f\" % accuracy_score(y_test, y_test_pred))\n",
        "cm = confusion_matrix(y_test, y_test_pred, labels=clf.classes_)\n",
        "disp = ConfusionMatrixDisplay(confusion_matrix=cm, display_labels=clf.classes_)\n",
        "disp.plot()"
      ],
      "metadata": {
        "colab": {
          "base_uri": "https://localhost:8080/",
          "height": 314
        },
        "id": "2v7JcaEnr2xw",
        "outputId": "1f678e0d-368b-4c03-e189-575ca85d3065"
      },
      "execution_count": 2,
      "outputs": [
        {
          "output_type": "stream",
          "name": "stdout",
          "text": [
            "Accuracy score: 0.98\n"
          ]
        },
        {
          "output_type": "execute_result",
          "data": {
            "text/plain": [
              "<sklearn.metrics._plot.confusion_matrix.ConfusionMatrixDisplay at 0x7fd211978f10>"
            ]
          },
          "metadata": {},
          "execution_count": 2
        },
        {
          "output_type": "display_data",
          "data": {
            "image/png": "[encoded data removed]",
            "text/plain": [
              "<Figure size 432x288 with 2 Axes>"
            ]
          },
          "metadata": {
            "needs_background": "light"
          }
        }
      ]
    },
    {
      "cell_type": "code",
      "source": [
        "import pandas as pd\n",
        "from sklearn.metrics import DistanceMetric\n",
        "\n",
        "points = pd.DataFrame([[1,2],[4,6]], columns=['x1','x2'])\n",
        "p_list = [1,2,10,50,100]\n",
        "d = [(p, DistanceMetric.get_metric('minkowski', p=p).pairwise(points)[0][-1]) for p in p_list]\n",
        "ds = [x[1] for x in d]"
      ],
      "metadata": {
        "id": "YbtlykVP1crS"
      },
      "execution_count": 3,
      "outputs": []
    },
    {
      "cell_type": "code",
      "source": [
        "from sklearn.metrics.pairwise import (\n",
        "    euclidean_distances,\n",
        "    manhattan_distances,\n",
        "    cosine_distances\n",
        ")\n",
        "\n",
        "# Manhattan and Euclidean distance is not scale-invariant\n",
        "d0 = manhattan_distances([1.0*digits['data'][0], 2.0*digits['data'][0]])[0,1]\n",
        "print(\"Manhattan distance: %.2f\" % d0)\n",
        "d1 = euclidean_distances([1.0*digits['data'][0], 2.0*digits['data'][0]])[0,1]\n",
        "print(\"Euclidean distance: %.2f\" % d1)\n",
        "# Cosine distance is scale-invariant\n",
        "d2 = cosine_distances([1.0*digits['data'][0], 2.0*digits['data'][0]])[0,1]\n",
        "print(\"Cosine distance: %.2f\" % d2)"
      ],
      "metadata": {
        "colab": {
          "base_uri": "https://localhost:8080/"
        },
        "id": "x4a_8zHTGJ-s",
        "outputId": "e112c5d4-7ca9-4927-8a0b-41dc26d14eb2"
      },
      "execution_count": 4,
      "outputs": [
        {
          "output_type": "stream",
          "name": "stdout",
          "text": [
            "Manhattan distance: 294.00\n",
            "Euclidean distance: 55.41\n",
            "Cosine distance: 0.00\n"
          ]
        }
      ]
    },
    {
      "cell_type": "code",
      "source": [
        "# Explore optimal parameters with cross validation\n",
        "from sklearn.model_selection import GridSearchCV\n",
        "from sklearn.neighbors import KNeighborsClassifier\n",
        "from sklearn.metrics import accuracy_score\n",
        "\n",
        "parameters = {\n",
        "    'metric': ('manhattan','euclidean','cosine'),\n",
        "    'n_neighbors': range(1, 21)\n",
        "}\n",
        "\n",
        "knn = KNeighborsClassifier()\n",
        "gscv = GridSearchCV(knn, param_grid=parameters, scoring='accuracy')\n",
        "\n",
        "gscv.fit(x_train, y_train)\n",
        "\n",
        "y_test_pred = gscv.predict(x_test)\n",
        "print(accuracy_score(y_test, y_test_pred))\n",
        "print(gscv.best_params_)"
      ],
      "metadata": {
        "colab": {
          "base_uri": "https://localhost:8080/"
        },
        "id": "ovDZtfq2Gdrh",
        "outputId": "6f714ef1-28f7-4dea-fcda-064fd92b2175"
      },
      "execution_count": 8,
      "outputs": [
        {
          "output_type": "stream",
          "name": "stdout",
          "text": [
            "0.9955555555555555\n",
            "{'metric': 'cosine', 'n_neighbors': 1}\n"
          ]
        }
      ]
    },
    {
      "cell_type": "code",
      "source": [
        "# Using custom distances\n",
        "clf = KNeighborsClassifier(n_neighbors=3, metric='euclidean')\n",
        "clf.fit(x_train, y_train)\n",
        "y_train_pred = clf.predict(x_train)\n",
        "\n",
        "fig, axs = plt.subplots(1,8,figsize=(14,5))\n",
        "display_img(x_train[0], y_train[0], axs[0])\n",
        "\n",
        "_, kneighbors_index = clf.kneighbors(\n",
        "    [x_train[0]], n_neighbors=7, return_distance=True\n",
        ")\n",
        "\n",
        "for i, neighbor_index in enumerate(kneighbors_index[0], 1):\n",
        "  display_img(x_train[neighbor_index],y_train[neighbor_index],axs[i])\n",
        "\n",
        "x_train_inv = x_train.max() - x_train\n",
        "\n",
        "img_inv = x_train_inv[0]\n",
        "fig, axs = plt.subplots(1,8,figsize=(14,5))\n",
        "display_img(img_inv, y_train[0], axs[0])\n",
        "\n",
        "_, kneighbors_index_inv = clf.kneighbors(\n",
        "    [x_train_inv[0]], n_neighbors=7, return_distance=True\n",
        ")\n",
        "\n",
        "for i, neighbor_index in enumerate(kneighbors_index_inv[0], 1):\n",
        "  display_img(x_train[neighbor_index],y_train[neighbor_index],axs[i])"
      ],
      "metadata": {
        "colab": {
          "base_uri": "https://localhost:8080/",
          "height": 277
        },
        "id": "th-FbzUP9CEC",
        "outputId": "90781d2a-fc01-4085-9994-540fe72d8ee4"
      },
      "execution_count": 18,
      "outputs": [
        {
          "output_type": "display_data",
          "data": {
            "image/png": "[encoded data removed]",
            "text/plain": [
              "<Figure size 1008x360 with 8 Axes>"
            ]
          },
          "metadata": {
            "needs_background": "light"
          }
        },
        {
          "output_type": "display_data",
          "data": {
            "image/png": "[encoded data removed]",
            "text/plain": [
              "<Figure size 1008x360 with 8 Axes>"
            ]
          },
          "metadata": {
            "needs_background": "light"
          }
        }
      ]
    },
    {
      "cell_type": "code",
      "source": [
        "# Define a custom distance that is invariant of pixel inversion\n",
        "from sklearn.metrics.pairwise import euclidean_distances\n",
        "\n",
        "def contrast_distance(x1, x2):\n",
        "  _x1, _x2 = np.abs(8 - x1), np.abs(8 - x2)\n",
        "  d = euclidean_distances([_x1], [_x2])\n",
        "  return d[0][0]\n",
        "\n",
        "clf = KNeighborsClassifier(n_neighbors=3, metric=contrast_distance)\n",
        "clf.fit(x_train, x_train)\n",
        "\n",
        "fig, axs = plt.subplots(1,8,figsize=(14,5))\n",
        "display_img(x_train[0], y_train[0], axs[0])\n",
        "\n",
        "_, kneighbors_index = clf.kneighbors(\n",
        "    [x_train[0]], n_neighbors=7, return_distance=True\n",
        ")\n",
        "\n",
        "for i, neighbor_index in enumerate(kneighbors_index[0], 1):\n",
        "  display_img(x_train[neighbor_index],y_train[neighbor_index],axs[i])\n",
        "\n",
        "fig, axs = plt.subplots(1,8,figsize=(14,5))\n",
        "display_img(img_inv, y_train[0], axs[0])\n",
        "\n",
        "_, kneighbors_index_inv = clf.kneighbors(\n",
        "    [x_train_inv[0]], n_neighbors=7, return_distance=True\n",
        ")\n",
        "\n",
        "for i, neighbor_index in enumerate(kneighbors_index_inv[0], 1):\n",
        "  display_img(x_train[neighbor_index],y_train[neighbor_index],axs[i])"
      ],
      "metadata": {
        "colab": {
          "base_uri": "https://localhost:8080/",
          "height": 277
        },
        "id": "QHGODvP6FBmT",
        "outputId": "30cbf614-8b06-4db1-e1a6-3508024079a3"
      },
      "execution_count": 20,
      "outputs": [
        {
          "output_type": "display_data",
          "data": {
            "image/png": "[encoded data removed]",
            "text/plain": [
              "<Figure size 1008x360 with 8 Axes>"
            ]
          },
          "metadata": {
            "needs_background": "light"
          }
        },
        {
          "output_type": "display_data",
          "data": {
            "image/png": "[encoded data removed]",
            "text/plain": [
              "<Figure size 1008x360 with 8 Axes>"
            ]
          },
          "metadata": {
            "needs_background": "light"
          }
        }
      ]
    },
    {
      "cell_type": "code",
      "source": [
        "from sklearn.neighbors import KNeighborsRegressor\n",
        "\n",
        "clf = KNeighborsRegressor(n_neighbors=3, metric='euclidean')\n",
        "clf.fit(x_train, y_train)\n",
        "y_test_pred = clf.predict(x_test)\n",
        "\n",
        "pd.DataFrame({\n",
        "    'y_test': y_test,\n",
        "    'y_test_pred': y_test_pred\n",
        "})"
      ],
      "metadata": {
        "colab": {
          "base_uri": "https://localhost:8080/",
          "height": 424
        },
        "id": "6899lrbrHmMx",
        "outputId": "185895ec-b2b8-42e7-ec46-0739a6a644b1"
      },
      "execution_count": 22,
      "outputs": [
        {
          "output_type": "execute_result",
          "data": {
            "text/html": [
              "\n",
              "  <div id=\"df-da9d132b-b3fd-4288-8af6-a4807878b364\">\n",
              "    <div class=\"colab-df-container\">\n",
              "      <div>\n",
              "<style scoped>\n",
              "    .dataframe tbody tr th:only-of-type {\n",
              "        vertical-align: middle;\n",
              "    }\n",
              "\n",
              "    .dataframe tbody tr th {\n",
              "        vertical-align: top;\n",
              "    }\n",
              "\n",
              "    .dataframe thead th {\n",
              "        text-align: right;\n",
              "    }\n",
              "</style>\n",
              "<table border=\"1\" class=\"dataframe\">\n",
              "  <thead>\n",
              "    <tr style=\"text-align: right;\">\n",
              "      <th></th>\n",
              "      <th>y_test</th>\n",
              "      <th>y_test_pred</th>\n",
              "    </tr>\n",
              "  </thead>\n",
              "  <tbody>\n",
              "    <tr>\n",
              "      <th>0</th>\n",
              "      <td>7</td>\n",
              "      <td>7.0</td>\n",
              "    </tr>\n",
              "    <tr>\n",
              "      <th>1</th>\n",
              "      <td>0</td>\n",
              "      <td>0.0</td>\n",
              "    </tr>\n",
              "    <tr>\n",
              "      <th>2</th>\n",
              "      <td>5</td>\n",
              "      <td>5.0</td>\n",
              "    </tr>\n",
              "    <tr>\n",
              "      <th>3</th>\n",
              "      <td>9</td>\n",
              "      <td>9.0</td>\n",
              "    </tr>\n",
              "    <tr>\n",
              "      <th>4</th>\n",
              "      <td>6</td>\n",
              "      <td>6.0</td>\n",
              "    </tr>\n",
              "    <tr>\n",
              "      <th>...</th>\n",
              "      <td>...</td>\n",
              "      <td>...</td>\n",
              "    </tr>\n",
              "    <tr>\n",
              "      <th>445</th>\n",
              "      <td>2</td>\n",
              "      <td>2.0</td>\n",
              "    </tr>\n",
              "    <tr>\n",
              "      <th>446</th>\n",
              "      <td>1</td>\n",
              "      <td>1.0</td>\n",
              "    </tr>\n",
              "    <tr>\n",
              "      <th>447</th>\n",
              "      <td>8</td>\n",
              "      <td>8.0</td>\n",
              "    </tr>\n",
              "    <tr>\n",
              "      <th>448</th>\n",
              "      <td>9</td>\n",
              "      <td>9.0</td>\n",
              "    </tr>\n",
              "    <tr>\n",
              "      <th>449</th>\n",
              "      <td>0</td>\n",
              "      <td>0.0</td>\n",
              "    </tr>\n",
              "  </tbody>\n",
              "</table>\n",
              "<p>450 rows × 2 columns</p>\n",
              "</div>\n",
              "      <button class=\"colab-df-convert\" onclick=\"convertToInteractive('df-da9d132b-b3fd-4288-8af6-a4807878b364')\"\n",
              "              title=\"Convert this dataframe to an interactive table.\"\n",
              "              style=\"display:none;\">\n",
              "        \n",
              "  <svg xmlns=\"http://www.w3.org/2000/svg\" height=\"24px\"viewBox=\"0 0 24 24\"\n",
              "       width=\"24px\">\n",
              "    <path d=\"M0 0h24v24H0V0z\" fill=\"none\"/>\n",
              "    <path d=\"M18.56 5.44l.94 2.06.94-2.06 2.06-.94-2.06-.94-.94-2.06-.94 2.06-2.06.94zm-11 1L8.5 8.5l.94-2.06 2.06-.94-2.06-.94L8.5 2.5l-.94 2.06-2.06.94zm10 10l.94 2.06.94-2.06 2.06-.94-2.06-.94-.94-2.06-.94 2.06-2.06.94z\"/><path d=\"M17.41 7.96l-1.37-1.37c-.4-.4-.92-.59-1.43-.59-.52 0-1.04.2-1.43.59L10.3 9.45l-7.72 7.72c-.78.78-.78 2.05 0 2.83L4 21.41c.39.39.9.59 1.41.59.51 0 1.02-.2 1.41-.59l7.78-7.78 2.81-2.81c.8-.78.8-2.07 0-2.86zM5.41 20L4 18.59l7.72-7.72 1.47 1.35L5.41 20z\"/>\n",
              "  </svg>\n",
              "      </button>\n",
              "      \n",
              "  <style>\n",
              "    .colab-df-container {\n",
              "      display:flex;\n",
              "      flex-wrap:wrap;\n",
              "      gap: 12px;\n",
              "    }\n",
              "\n",
              "    .colab-df-convert {\n",
              "      background-color: #E8F0FE;\n",
              "      border: none;\n",
              "      border-radius: 50%;\n",
              "      cursor: pointer;\n",
              "      display: none;\n",
              "      fill: #1967D2;\n",
              "      height: 32px;\n",
              "      padding: 0 0 0 0;\n",
              "      width: 32px;\n",
              "    }\n",
              "\n",
              "    .colab-df-convert:hover {\n",
              "      background-color: #E2EBFA;\n",
              "      box-shadow: 0px 1px 2px rgba(60, 64, 67, 0.3), 0px 1px 3px 1px rgba(60, 64, 67, 0.15);\n",
              "      fill: #174EA6;\n",
              "    }\n",
              "\n",
              "    [theme=dark] .colab-df-convert {\n",
              "      background-color: #3B4455;\n",
              "      fill: #D2E3FC;\n",
              "    }\n",
              "\n",
              "    [theme=dark] .colab-df-convert:hover {\n",
              "      background-color: #434B5C;\n",
              "      box-shadow: 0px 1px 3px 1px rgba(0, 0, 0, 0.15);\n",
              "      filter: drop-shadow(0px 1px 2px rgba(0, 0, 0, 0.3));\n",
              "      fill: #FFFFFF;\n",
              "    }\n",
              "  </style>\n",
              "\n",
              "      <script>\n",
              "        const buttonEl =\n",
              "          document.querySelector('#df-da9d132b-b3fd-4288-8af6-a4807878b364 button.colab-df-convert');\n",
              "        buttonEl.style.display =\n",
              "          google.colab.kernel.accessAllowed ? 'block' : 'none';\n",
              "\n",
              "        async function convertToInteractive(key) {\n",
              "          const element = document.querySelector('#df-da9d132b-b3fd-4288-8af6-a4807878b364');\n",
              "          const dataTable =\n",
              "            await google.colab.kernel.invokeFunction('convertToInteractive',\n",
              "                                                     [key], {});\n",
              "          if (!dataTable) return;\n",
              "\n",
              "          const docLinkHtml = 'Like what you see? Visit the ' +\n",
              "            '<a target=\"_blank\" href=https://colab.research.google.com/notebooks/data_table.ipynb>data table notebook</a>'\n",
              "            + ' to learn more about interactive tables.';\n",
              "          element.innerHTML = '';\n",
              "          dataTable['output_type'] = 'display_data';\n",
              "          await google.colab.output.renderOutput(dataTable, element);\n",
              "          const docLink = document.createElement('div');\n",
              "          docLink.innerHTML = docLinkHtml;\n",
              "          element.appendChild(docLink);\n",
              "        }\n",
              "      </script>\n",
              "    </div>\n",
              "  </div>\n",
              "  "
            ],
            "text/plain": [
              "     y_test  y_test_pred\n",
              "0         7          7.0\n",
              "1         0          0.0\n",
              "2         5          5.0\n",
              "3         9          9.0\n",
              "4         6          6.0\n",
              "..      ...          ...\n",
              "445       2          2.0\n",
              "446       1          1.0\n",
              "447       8          8.0\n",
              "448       9          9.0\n",
              "449       0          0.0\n",
              "\n",
              "[450 rows x 2 columns]"
            ]
          },
          "metadata": {},
          "execution_count": 22
        }
      ]
    },
    {
      "cell_type": "code",
      "source": [
        "# Testing of nearest centroid classifier\n",
        "from sklearn.neighbors import NearestCentroid\n",
        "\n",
        "clf = NearestCentroid(metric='euclidean')\n",
        "clf.fit(x_train, y_train)\n",
        "\n",
        "fig, axs = plt.subplots(1, len(clf.classes_), figsize=(15,5))\n",
        "\n",
        "for i, (centroid, label) in enumerate(zip(clf.centroids_, clf.classes_)):\n",
        "  display_img(centroid, label, axs[i])\n",
        "\n",
        "fig.show()"
      ],
      "metadata": {
        "colab": {
          "base_uri": "https://localhost:8080/",
          "height": 135
        },
        "id": "61e7cbMYKxHX",
        "outputId": "8c2e9e69-a81a-40ba-b956-c6ebfe62f5a5"
      },
      "execution_count": 23,
      "outputs": [
        {
          "output_type": "display_data",
          "data": {
            "image/png": "[encoded data removed]",
            "text/plain": [
              "<Figure size 1080x360 with 10 Axes>"
            ]
          },
          "metadata": {
            "needs_background": "light"
          }
        }
      ]
    }
  ]
}