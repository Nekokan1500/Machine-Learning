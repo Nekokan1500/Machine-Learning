{
  "nbformat": 4,
  "nbformat_minor": 0,
  "metadata": {
    "colab": {
      "name": "Example_Data_Prep.ipynb",
      "provenance": [],
      "collapsed_sections": [],
      "toc_visible": true,
      "authorship_tag": "ABX9TyN57KDVQ8hiGP8TMwMwAyf4",
      "include_colab_link": true
    },
    "kernelspec": {
      "name": "python3",
      "display_name": "Python 3"
    },
    "language_info": {
      "name": "python"
    }
  },
  "cells": [
    {
      "cell_type": "markdown",
      "metadata": {
        "id": "view-in-github",
        "colab_type": "text"
      },
      "source": [
        "<a href=\"https://colab.research.google.com/github/Nekokan1500/Machine-Learning/blob/main/DataPrep/Example_Data_Prep.ipynb\" target=\"_parent\"><img src=\"https://colab.research.google.com/assets/colab-badge.svg\" alt=\"Open In Colab\"/></a>"
      ]
    },
    {
      "cell_type": "code",
      "execution_count": null,
      "metadata": {
        "colab": {
          "base_uri": "https://localhost:8080/"
        },
        "id": "CFeyyKa7jGR-",
        "outputId": "92a62837-be3e-4ad2-e594-d4ede376a156"
      },
      "outputs": [
        {
          "output_type": "execute_result",
          "data": {
            "text/plain": [
              "gender                   0.00\n",
              "height                   0.00\n",
              "noise                    0.00\n",
              "height (with 75% NaN)    0.73\n",
              "weight                   0.00\n",
              "dtype: float64"
            ]
          },
          "metadata": {},
          "execution_count": 1
        }
      ],
      "source": [
        "import numpy as np\n",
        "import pandas as pd\n",
        "\n",
        "\n",
        "df = pd.DataFrame({\n",
        "    'gender': np.random.binomial(1,0.6,100),\n",
        "    'height': np.random.normal(0,10,100),\n",
        "    'noise': np.random.normal(0,2,100)\n",
        "})\n",
        "df['height'] = df['height'] + df['gender'].apply(lambda g: 150 if g else 180)\n",
        "df['height (with 75% NaN)'] = df['height'].apply(lambda x: x if np.random.binomial(1,0.25,1)[0] else np.nan)\n",
        "df['weight'] = df['height'] + df['noise'] - 110\n",
        "df.isnull().mean()"
      ]
    },
    {
      "cell_type": "code",
      "source": [
        "df['height (with 75% NaN)'] = df['height (with 75% NaN)'].fillna(0)\n",
        "\n",
        "from sklearn.linear_model import Ridge\n",
        "from sklearn.linear_model import LinearRegression\n",
        "from sklearn.metrics import mean_squared_error\n",
        "import matplotlib.pyplot as plt\n",
        "\n",
        "reg = Ridge()\n",
        "x, y = df[['height (with 75% NaN)']], df['weight']\n",
        "reg.fit(x,y)\n",
        "print(mean_squared_error(y, reg.predict(x)))\n",
        "\n",
        "reg1 = LinearRegression()\n",
        "x1,y1 = df[['height']], df['weight']\n",
        "reg1.fit(x1,y1)\n",
        "df['reg_pred'] = reg1.predict(df[['height']])\n",
        "x2 = df[['height (with 75% NaN)']]\n",
        "reg1.fit(x2,y1)\n",
        "df['reg_pred_m'] = reg1.predict(df[['height (with 75% NaN)']])\n",
        "\n",
        "fig,axs = plt.subplots(1,2,figsize=(12,4))\n",
        "df.plot(kind='scatter',x='height',y='weight',ax=axs[0], alpha=0.3)\n",
        "df.plot(title='Complete Data', kind='line', x='height', y='reg_pred',\n",
        "        color='k', label='Predictions', ax=axs[0])\n",
        "df.plot(kind='scatter',x='height (with 75% NaN)',y='weight',ax=axs[1], alpha=0.3)\n",
        "df.plot(title='75% of height values missing w/o imputation', kind='line', \n",
        "        x='height (with 75% NaN)', y='reg_pred_m', color='k', label='Predictions', ax=axs[1])\n",
        "fig.show()"
      ],
      "metadata": {
        "colab": {
          "base_uri": "https://localhost:8080/",
          "height": 312
        },
        "id": "GoUKD4MooXHC",
        "outputId": "acec9377-039f-4ad0-cdaa-58f117a5e227"
      },
      "execution_count": null,
      "outputs": [
        {
          "output_type": "stream",
          "name": "stdout",
          "text": [
            "290.6380075453595\n"
          ]
        },
        {
          "output_type": "display_data",
          "data": {
            "image/png": "[encoded data removed]",
            "text/plain": [
              "<Figure size 864x288 with 2 Axes>"
            ]
          },
          "metadata": {
            "needs_background": "light"
          }
        }
      ]
    },
    {
      "cell_type": "code",
      "source": [
        "from sklearn.impute import SimpleImputer\n",
        "\n",
        "imp = SimpleImputer(missing_values=0, strategy='mean')\n",
        "df['height (75% mean imputed)'] = imp.fit_transform(df[['height (with 75% NaN)']])[:,0]\n",
        "rig = Ridge()\n",
        "x, y = df[['height (75% mean imputed)']], df['weight']\n",
        "rig.fit(x,y)\n",
        "mean_squared_error(y, rig.predict(x))\n",
        "df['rig_pred'] = rig.predict(df[['height (75% mean imputed)']])\n",
        "\n",
        "fig,axs = plt.subplots(1,3,figsize=(15,4))\n",
        "df.plot(kind='scatter',x='height',y='weight',ax=axs[0], alpha=0.3)\n",
        "df.plot(title='Complete Data', kind='line', x='height', y='reg_pred',\n",
        "        color='k', label='Predictions', ax=axs[0])\n",
        "df.plot(kind='scatter',x='height (with 75% NaN)',y='weight',ax=axs[1], alpha=0.3)\n",
        "df.plot(title='75% of height values missing w/o imputation', kind='line', \n",
        "        x='height (with 75% NaN)', y='reg_pred_m', color='k', label='Predictions', ax=axs[1])\n",
        "df.plot(kind='scatter',x='height (75% mean imputed)',y='weight',ax=axs[2], alpha=0.3)\n",
        "df.plot(title='75% of height values imputed w mean', kind='line', \n",
        "        x='height (75% mean imputed)', y='rig_pred', color='k', label='Predictions', ax=axs[2])\n",
        "fig.show()"
      ],
      "metadata": {
        "colab": {
          "base_uri": "https://localhost:8080/",
          "height": 295
        },
        "id": "wLeTBIQGQfpS",
        "outputId": "9a27945e-0fc7-49fe-fe79-2655ffb0af57"
      },
      "execution_count": null,
      "outputs": [
        {
          "output_type": "display_data",
          "data": {
            "image/png": "[encoded data removed]",
            "text/plain": [
              "<Figure size 1080x288 with 3 Axes>"
            ]
          },
          "metadata": {
            "needs_background": "light"
          }
        }
      ]
    },
    {
      "cell_type": "code",
      "source": [
        "# Use iterative imputer\n",
        "from sklearn.experimental import enable_iterative_imputer\n",
        "from sklearn.impute import IterativeImputer\n",
        "\n",
        "# To use iterative imputer the missing values must be np.nan\n",
        "imp = IterativeImputer(missing_values=np.nan)\n",
        "df['height NaN'] = df['height (with 75% NaN)'].apply(lambda x: x if x != 0 else np.nan)\n",
        "df['height (75% iterative imputed)'] = imp.fit_transform(df[['height NaN', 'gender']])[:,0]\n",
        "\n",
        "x, y = df[['height (75% iterative imputed)']], df['weight']\n",
        "rig.fit(x,y)\n",
        "print(mean_squared_error(y, rig.predict(x)))\n",
        "df['y_iter_pred'] = rig.predict(x)\n",
        "\n",
        "fig,ax = plt.subplots(1,1,figsize=(5,4))\n",
        "df.plot(kind='scatter',x='height (75% iterative imputed)',y='weight',ax=ax, alpha=0.3)\n",
        "df.plot(title='75% of height values iteratively imputed', kind='line', \n",
        "        x='height (75% iterative imputed)', y='y_iter_pred',\n",
        "        color='k', label='Predictions', ax=ax)\n",
        "fig.show()\n"
      ],
      "metadata": {
        "colab": {
          "base_uri": "https://localhost:8080/",
          "height": 312
        },
        "id": "TRwv_KM4V811",
        "outputId": "304e5250-16f5-496a-ad81-575970312fe2"
      },
      "execution_count": null,
      "outputs": [
        {
          "output_type": "stream",
          "name": "stdout",
          "text": [
            "78.51604398854215\n"
          ]
        },
        {
          "output_type": "display_data",
          "data": {
            "image/png": "[encoded data removed]",
            "text/plain": [
              "<Figure size 360x288 with 1 Axes>"
            ]
          },
          "metadata": {
            "needs_background": "light"
          }
        }
      ]
    },
    {
      "cell_type": "code",
      "source": [
        "pip install category_encoders"
      ],
      "metadata": {
        "id": "JemAY0qGppOe"
      },
      "execution_count": null,
      "outputs": []
    },
    {
      "cell_type": "code",
      "source": [
        "# Encoding non-numerical columns using OneHot encoding\n",
        "from sklearn.model_selection import train_test_split\n",
        "from category_encoders.one_hot import OneHotEncoder\n",
        "\n",
        "df = pd.DataFrame({\n",
        "    'Size': np.random.choice(['XS','S','M','L','XL','XXL'], 10),\n",
        "    'Brand': np.random.choice(['Nike','Puma','Adidas','Le Coq', 'Reebok'], 10)\n",
        "})\n",
        "df_train, df_test = train_test_split(df, test_size=0.5)\n",
        "encoder = OneHotEncoder(use_cat_names=True, handle_unknown='return_nan')\n",
        "x_train = encoder.fit_transform(df_train)\n",
        "x_test = encoder.fit_transform(df_test)\n",
        "\n",
        "print(x_train.head(5))\n",
        "print('-------------')\n",
        "print(x_test.head(5))"
      ],
      "metadata": {
        "colab": {
          "base_uri": "https://localhost:8080/"
        },
        "id": "70eIO2QTpwJ9",
        "outputId": "ebd2bd6d-a7ef-4c99-8c97-43e8f7afb2b0"
      },
      "execution_count": null,
      "outputs": [
        {
          "output_type": "stream",
          "name": "stdout",
          "text": [
            "   Size_XL  Size_XS  Size_XXL  Size_S  Brand_Reebok  Brand_Puma\n",
            "5      1.0      0.0       0.0     0.0           1.0         0.0\n",
            "4      0.0      1.0       0.0     0.0           0.0         1.0\n",
            "7      0.0      0.0       1.0     0.0           1.0         0.0\n",
            "2      0.0      0.0       0.0     1.0           1.0         0.0\n",
            "9      0.0      0.0       0.0     1.0           0.0         1.0\n",
            "-------------\n",
            "   Size_S  Size_L  Size_XXL  ...  Brand_Le Coq  Brand_Puma  Brand_Adidas\n",
            "8     1.0     0.0       0.0  ...           0.0         0.0           0.0\n",
            "1     0.0     1.0       0.0  ...           1.0         0.0           0.0\n",
            "0     0.0     1.0       0.0  ...           0.0         1.0           0.0\n",
            "3     0.0     0.0       1.0  ...           0.0         0.0           1.0\n",
            "6     0.0     0.0       0.0  ...           0.0         0.0           1.0\n",
            "\n",
            "[5 rows x 8 columns]\n"
          ]
        }
      ]
    },
    {
      "cell_type": "code",
      "source": [
        "from category_encoders.ordinal import OrdinalEncoder\n",
        "\n",
        "oencoder = OrdinalEncoder(\n",
        "    mapping=[\n",
        "             {\n",
        "                 'col': 'Size',\n",
        "                 'mapping': {'XS':1, 'S':2, 'M':3, 'L':4, 'XL':5}\n",
        "             }\n",
        "    ]\n",
        ")\n",
        "print(df_train)\n",
        "df_train.loc[:,'Size [Ordinal Encoded]'] = oencoder.fit_transform(df_train['Size'])['Size'].values\n",
        "df_train\n",
        "#df_test.loc[:,'Size [Ordinal Encoded]' = oencoder.transform(df_test['Size'])['Size'].values"
      ],
      "metadata": {
        "colab": {
          "base_uri": "https://localhost:8080/",
          "height": 310
        },
        "id": "rmtf_XDTujDa",
        "outputId": "7331ebe5-aca5-4681-ac64-afc5778d5470"
      },
      "execution_count": null,
      "outputs": [
        {
          "output_type": "stream",
          "name": "stdout",
          "text": [
            "  Size   Brand\n",
            "5   XL  Reebok\n",
            "4   XS    Puma\n",
            "7  XXL  Reebok\n",
            "2    S  Reebok\n",
            "9    S    Puma\n"
          ]
        },
        {
          "output_type": "execute_result",
          "data": {
            "text/html": [
              "\n",
              "  <div id=\"df-7d976e9c-0435-47fa-8e42-e676ec720f26\">\n",
              "    <div class=\"colab-df-container\">\n",
              "      <div>\n",
              "<style scoped>\n",
              "    .dataframe tbody tr th:only-of-type {\n",
              "        vertical-align: middle;\n",
              "    }\n",
              "\n",
              "    .dataframe tbody tr th {\n",
              "        vertical-align: top;\n",
              "    }\n",
              "\n",
              "    .dataframe thead th {\n",
              "        text-align: right;\n",
              "    }\n",
              "</style>\n",
              "<table border=\"1\" class=\"dataframe\">\n",
              "  <thead>\n",
              "    <tr style=\"text-align: right;\">\n",
              "      <th></th>\n",
              "      <th>Size</th>\n",
              "      <th>Brand</th>\n",
              "      <th>Size [Ordinal Encoded]</th>\n",
              "    </tr>\n",
              "  </thead>\n",
              "  <tbody>\n",
              "    <tr>\n",
              "      <th>5</th>\n",
              "      <td>XL</td>\n",
              "      <td>Reebok</td>\n",
              "      <td>5.0</td>\n",
              "    </tr>\n",
              "    <tr>\n",
              "      <th>4</th>\n",
              "      <td>XS</td>\n",
              "      <td>Puma</td>\n",
              "      <td>1.0</td>\n",
              "    </tr>\n",
              "    <tr>\n",
              "      <th>7</th>\n",
              "      <td>XXL</td>\n",
              "      <td>Reebok</td>\n",
              "      <td>-1.0</td>\n",
              "    </tr>\n",
              "    <tr>\n",
              "      <th>2</th>\n",
              "      <td>S</td>\n",
              "      <td>Reebok</td>\n",
              "      <td>2.0</td>\n",
              "    </tr>\n",
              "    <tr>\n",
              "      <th>9</th>\n",
              "      <td>S</td>\n",
              "      <td>Puma</td>\n",
              "      <td>2.0</td>\n",
              "    </tr>\n",
              "  </tbody>\n",
              "</table>\n",
              "</div>\n",
              "      <button class=\"colab-df-convert\" onclick=\"convertToInteractive('df-7d976e9c-0435-47fa-8e42-e676ec720f26')\"\n",
              "              title=\"Convert this dataframe to an interactive table.\"\n",
              "              style=\"display:none;\">\n",
              "        \n",
              "  <svg xmlns=\"http://www.w3.org/2000/svg\" height=\"24px\"viewBox=\"0 0 24 24\"\n",
              "       width=\"24px\">\n",
              "    <path d=\"M0 0h24v24H0V0z\" fill=\"none\"/>\n",
              "    <path d=\"M18.56 5.44l.94 2.06.94-2.06 2.06-.94-2.06-.94-.94-2.06-.94 2.06-2.06.94zm-11 1L8.5 8.5l.94-2.06 2.06-.94-2.06-.94L8.5 2.5l-.94 2.06-2.06.94zm10 10l.94 2.06.94-2.06 2.06-.94-2.06-.94-.94-2.06-.94 2.06-2.06.94z\"/><path d=\"M17.41 7.96l-1.37-1.37c-.4-.4-.92-.59-1.43-.59-.52 0-1.04.2-1.43.59L10.3 9.45l-7.72 7.72c-.78.78-.78 2.05 0 2.83L4 21.41c.39.39.9.59 1.41.59.51 0 1.02-.2 1.41-.59l7.78-7.78 2.81-2.81c.8-.78.8-2.07 0-2.86zM5.41 20L4 18.59l7.72-7.72 1.47 1.35L5.41 20z\"/>\n",
              "  </svg>\n",
              "      </button>\n",
              "      \n",
              "  <style>\n",
              "    .colab-df-container {\n",
              "      display:flex;\n",
              "      flex-wrap:wrap;\n",
              "      gap: 12px;\n",
              "    }\n",
              "\n",
              "    .colab-df-convert {\n",
              "      background-color: #E8F0FE;\n",
              "      border: none;\n",
              "      border-radius: 50%;\n",
              "      cursor: pointer;\n",
              "      display: none;\n",
              "      fill: #1967D2;\n",
              "      height: 32px;\n",
              "      padding: 0 0 0 0;\n",
              "      width: 32px;\n",
              "    }\n",
              "\n",
              "    .colab-df-convert:hover {\n",
              "      background-color: #E2EBFA;\n",
              "      box-shadow: 0px 1px 2px rgba(60, 64, 67, 0.3), 0px 1px 3px 1px rgba(60, 64, 67, 0.15);\n",
              "      fill: #174EA6;\n",
              "    }\n",
              "\n",
              "    [theme=dark] .colab-df-convert {\n",
              "      background-color: #3B4455;\n",
              "      fill: #D2E3FC;\n",
              "    }\n",
              "\n",
              "    [theme=dark] .colab-df-convert:hover {\n",
              "      background-color: #434B5C;\n",
              "      box-shadow: 0px 1px 3px 1px rgba(0, 0, 0, 0.15);\n",
              "      filter: drop-shadow(0px 1px 2px rgba(0, 0, 0, 0.3));\n",
              "      fill: #FFFFFF;\n",
              "    }\n",
              "  </style>\n",
              "\n",
              "      <script>\n",
              "        const buttonEl =\n",
              "          document.querySelector('#df-7d976e9c-0435-47fa-8e42-e676ec720f26 button.colab-df-convert');\n",
              "        buttonEl.style.display =\n",
              "          google.colab.kernel.accessAllowed ? 'block' : 'none';\n",
              "\n",
              "        async function convertToInteractive(key) {\n",
              "          const element = document.querySelector('#df-7d976e9c-0435-47fa-8e42-e676ec720f26');\n",
              "          const dataTable =\n",
              "            await google.colab.kernel.invokeFunction('convertToInteractive',\n",
              "                                                     [key], {});\n",
              "          if (!dataTable) return;\n",
              "\n",
              "          const docLinkHtml = 'Like what you see? Visit the ' +\n",
              "            '<a target=\"_blank\" href=https://colab.research.google.com/notebooks/data_table.ipynb>data table notebook</a>'\n",
              "            + ' to learn more about interactive tables.';\n",
              "          element.innerHTML = '';\n",
              "          dataTable['output_type'] = 'display_data';\n",
              "          await google.colab.output.renderOutput(dataTable, element);\n",
              "          const docLink = document.createElement('div');\n",
              "          docLink.innerHTML = docLinkHtml;\n",
              "          element.appendChild(docLink);\n",
              "        }\n",
              "      </script>\n",
              "    </div>\n",
              "  </div>\n",
              "  "
            ],
            "text/plain": [
              "  Size   Brand  Size [Ordinal Encoded]\n",
              "5   XL  Reebok                     5.0\n",
              "4   XS    Puma                     1.0\n",
              "7  XXL  Reebok                    -1.0\n",
              "2    S  Reebok                     2.0\n",
              "9    S    Puma                     2.0"
            ]
          },
          "metadata": {},
          "execution_count": 74
        }
      ]
    },
    {
      "cell_type": "code",
      "source": [
        "# scalers\n",
        "from sklearn.preprocessing import StandardScaler\n",
        "from sklearn.preprocessing import MinMaxScaler\n",
        "from sklearn.preprocessing import RobustScaler\n",
        "\n",
        "scaler = StandardScaler()\n",
        "x_train_scaled = scaler.fit_transform(x_train)\n",
        "x_test_scaled = scaler.transform(x_test)\n",
        "\n",
        "scaler = MinMaxScaler\n",
        "x_train_scaled = scaler.fit_transform(x_train)\n",
        "x_test_scaled = scaler.transform(x_test)\n",
        "\n",
        "scaler = RobustScaler\n",
        "x_train_scaled = scaler.fit_transform(x_train)\n",
        "x_test_scaled = scaler.transform(x_test)"
      ],
      "metadata": {
        "id": "AcvQwVUezIvB"
      },
      "execution_count": null,
      "outputs": []
    },
    {
      "cell_type": "code",
      "source": [
        "# Feature selection\n",
        "from sklearn import datasets\n",
        "from sklearn.model_selection import train_test_split\n",
        "from sklearn.feature_selection import VarianceThreshold\n",
        "\n",
        "wine = datasets.load_wine()\n",
        "df = pd.DataFrame(wine.data, columns=wine.feature_names)\n",
        "df['target'] = pd.Series(wine.target)\n",
        "\n",
        "df_train, df_test = train_test_split(df, test_size=0.4)\n",
        "x_train = df_train[wine.feature_names]\n",
        "x_test = df_test[wine.feature_names]\n",
        "\n",
        "y_train = df_train['target']\n",
        "y_test = df_test['target']\n",
        "\n",
        "vt = VarianceThreshold(threshold=0)\n",
        "vt.fit(x_train)\n",
        "\n",
        "print(wine.feature_names)\n",
        "\n",
        "x_train = x_train.iloc[:, vt.get_support()]\n",
        "x_test = x_test.iloc[:, vt.get_support()]\n",
        "\n",
        "pd.DataFrame({\n",
        "    'Feature': wine.feature_names,\n",
        "    'Variance': vt.variances_\n",
        "}).sort_values('Variance', ascending=True)"
      ],
      "metadata": {
        "colab": {
          "base_uri": "https://localhost:8080/",
          "height": 494
        },
        "id": "l7hZoPXO0No4",
        "outputId": "b5dab39c-c861-46fe-876b-0e55935abb1f"
      },
      "execution_count": null,
      "outputs": [
        {
          "output_type": "stream",
          "name": "stdout",
          "text": [
            "['alcohol', 'malic_acid', 'ash', 'alcalinity_of_ash', 'magnesium', 'total_phenols', 'flavanoids', 'nonflavanoid_phenols', 'proanthocyanins', 'color_intensity', 'hue', 'od280/od315_of_diluted_wines', 'proline']\n"
          ]
        },
        {
          "output_type": "execute_result",
          "data": {
            "text/html": [
              "\n",
              "  <div id=\"df-b0c7f413-09e7-4979-a271-882bdecde19c\">\n",
              "    <div class=\"colab-df-container\">\n",
              "      <div>\n",
              "<style scoped>\n",
              "    .dataframe tbody tr th:only-of-type {\n",
              "        vertical-align: middle;\n",
              "    }\n",
              "\n",
              "    .dataframe tbody tr th {\n",
              "        vertical-align: top;\n",
              "    }\n",
              "\n",
              "    .dataframe thead th {\n",
              "        text-align: right;\n",
              "    }\n",
              "</style>\n",
              "<table border=\"1\" class=\"dataframe\">\n",
              "  <thead>\n",
              "    <tr style=\"text-align: right;\">\n",
              "      <th></th>\n",
              "      <th>Feature</th>\n",
              "      <th>Variance</th>\n",
              "    </tr>\n",
              "  </thead>\n",
              "  <tbody>\n",
              "    <tr>\n",
              "      <th>7</th>\n",
              "      <td>nonflavanoid_phenols</td>\n",
              "      <td>0.014707</td>\n",
              "    </tr>\n",
              "    <tr>\n",
              "      <th>10</th>\n",
              "      <td>hue</td>\n",
              "      <td>0.054051</td>\n",
              "    </tr>\n",
              "    <tr>\n",
              "      <th>2</th>\n",
              "      <td>ash</td>\n",
              "      <td>0.082608</td>\n",
              "    </tr>\n",
              "    <tr>\n",
              "      <th>8</th>\n",
              "      <td>proanthocyanins</td>\n",
              "      <td>0.251672</td>\n",
              "    </tr>\n",
              "    <tr>\n",
              "      <th>5</th>\n",
              "      <td>total_phenols</td>\n",
              "      <td>0.363765</td>\n",
              "    </tr>\n",
              "    <tr>\n",
              "      <th>11</th>\n",
              "      <td>od280/od315_of_diluted_wines</td>\n",
              "      <td>0.485547</td>\n",
              "    </tr>\n",
              "    <tr>\n",
              "      <th>0</th>\n",
              "      <td>alcohol</td>\n",
              "      <td>0.641447</td>\n",
              "    </tr>\n",
              "    <tr>\n",
              "      <th>6</th>\n",
              "      <td>flavanoids</td>\n",
              "      <td>0.971237</td>\n",
              "    </tr>\n",
              "    <tr>\n",
              "      <th>1</th>\n",
              "      <td>malic_acid</td>\n",
              "      <td>1.148530</td>\n",
              "    </tr>\n",
              "    <tr>\n",
              "      <th>9</th>\n",
              "      <td>color_intensity</td>\n",
              "      <td>5.841735</td>\n",
              "    </tr>\n",
              "    <tr>\n",
              "      <th>3</th>\n",
              "      <td>alcalinity_of_ash</td>\n",
              "      <td>12.036217</td>\n",
              "    </tr>\n",
              "    <tr>\n",
              "      <th>4</th>\n",
              "      <td>magnesium</td>\n",
              "      <td>81.000000</td>\n",
              "    </tr>\n",
              "    <tr>\n",
              "      <th>12</th>\n",
              "      <td>proline</td>\n",
              "      <td>1237.000000</td>\n",
              "    </tr>\n",
              "  </tbody>\n",
              "</table>\n",
              "</div>\n",
              "      <button class=\"colab-df-convert\" onclick=\"convertToInteractive('df-b0c7f413-09e7-4979-a271-882bdecde19c')\"\n",
              "              title=\"Convert this dataframe to an interactive table.\"\n",
              "              style=\"display:none;\">\n",
              "        \n",
              "  <svg xmlns=\"http://www.w3.org/2000/svg\" height=\"24px\"viewBox=\"0 0 24 24\"\n",
              "       width=\"24px\">\n",
              "    <path d=\"M0 0h24v24H0V0z\" fill=\"none\"/>\n",
              "    <path d=\"M18.56 5.44l.94 2.06.94-2.06 2.06-.94-2.06-.94-.94-2.06-.94 2.06-2.06.94zm-11 1L8.5 8.5l.94-2.06 2.06-.94-2.06-.94L8.5 2.5l-.94 2.06-2.06.94zm10 10l.94 2.06.94-2.06 2.06-.94-2.06-.94-.94-2.06-.94 2.06-2.06.94z\"/><path d=\"M17.41 7.96l-1.37-1.37c-.4-.4-.92-.59-1.43-.59-.52 0-1.04.2-1.43.59L10.3 9.45l-7.72 7.72c-.78.78-.78 2.05 0 2.83L4 21.41c.39.39.9.59 1.41.59.51 0 1.02-.2 1.41-.59l7.78-7.78 2.81-2.81c.8-.78.8-2.07 0-2.86zM5.41 20L4 18.59l7.72-7.72 1.47 1.35L5.41 20z\"/>\n",
              "  </svg>\n",
              "      </button>\n",
              "      \n",
              "  <style>\n",
              "    .colab-df-container {\n",
              "      display:flex;\n",
              "      flex-wrap:wrap;\n",
              "      gap: 12px;\n",
              "    }\n",
              "\n",
              "    .colab-df-convert {\n",
              "      background-color: #E8F0FE;\n",
              "      border: none;\n",
              "      border-radius: 50%;\n",
              "      cursor: pointer;\n",
              "      display: none;\n",
              "      fill: #1967D2;\n",
              "      height: 32px;\n",
              "      padding: 0 0 0 0;\n",
              "      width: 32px;\n",
              "    }\n",
              "\n",
              "    .colab-df-convert:hover {\n",
              "      background-color: #E2EBFA;\n",
              "      box-shadow: 0px 1px 2px rgba(60, 64, 67, 0.3), 0px 1px 3px 1px rgba(60, 64, 67, 0.15);\n",
              "      fill: #174EA6;\n",
              "    }\n",
              "\n",
              "    [theme=dark] .colab-df-convert {\n",
              "      background-color: #3B4455;\n",
              "      fill: #D2E3FC;\n",
              "    }\n",
              "\n",
              "    [theme=dark] .colab-df-convert:hover {\n",
              "      background-color: #434B5C;\n",
              "      box-shadow: 0px 1px 3px 1px rgba(0, 0, 0, 0.15);\n",
              "      filter: drop-shadow(0px 1px 2px rgba(0, 0, 0, 0.3));\n",
              "      fill: #FFFFFF;\n",
              "    }\n",
              "  </style>\n",
              "\n",
              "      <script>\n",
              "        const buttonEl =\n",
              "          document.querySelector('#df-b0c7f413-09e7-4979-a271-882bdecde19c button.colab-df-convert');\n",
              "        buttonEl.style.display =\n",
              "          google.colab.kernel.accessAllowed ? 'block' : 'none';\n",
              "\n",
              "        async function convertToInteractive(key) {\n",
              "          const element = document.querySelector('#df-b0c7f413-09e7-4979-a271-882bdecde19c');\n",
              "          const dataTable =\n",
              "            await google.colab.kernel.invokeFunction('convertToInteractive',\n",
              "                                                     [key], {});\n",
              "          if (!dataTable) return;\n",
              "\n",
              "          const docLinkHtml = 'Like what you see? Visit the ' +\n",
              "            '<a target=\"_blank\" href=https://colab.research.google.com/notebooks/data_table.ipynb>data table notebook</a>'\n",
              "            + ' to learn more about interactive tables.';\n",
              "          element.innerHTML = '';\n",
              "          dataTable['output_type'] = 'display_data';\n",
              "          await google.colab.output.renderOutput(dataTable, element);\n",
              "          const docLink = document.createElement('div');\n",
              "          docLink.innerHTML = docLinkHtml;\n",
              "          element.appendChild(docLink);\n",
              "        }\n",
              "      </script>\n",
              "    </div>\n",
              "  </div>\n",
              "  "
            ],
            "text/plain": [
              "                         Feature     Variance\n",
              "7           nonflavanoid_phenols     0.014707\n",
              "10                           hue     0.054051\n",
              "2                            ash     0.082608\n",
              "8                proanthocyanins     0.251672\n",
              "5                  total_phenols     0.363765\n",
              "11  od280/od315_of_diluted_wines     0.485547\n",
              "0                        alcohol     0.641447\n",
              "6                     flavanoids     0.971237\n",
              "1                     malic_acid     1.148530\n",
              "9                color_intensity     5.841735\n",
              "3              alcalinity_of_ash    12.036217\n",
              "4                      magnesium    81.000000\n",
              "12                       proline  1237.000000"
            ]
          },
          "metadata": {},
          "execution_count": 82
        }
      ]
    }
  ]
}