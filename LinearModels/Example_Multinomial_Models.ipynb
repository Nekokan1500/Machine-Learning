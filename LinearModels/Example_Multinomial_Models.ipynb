{
  "nbformat": 4,
  "nbformat_minor": 0,
  "metadata": {
    "colab": {
      "name": "Example_Multinomial_Models.ipynb",
      "provenance": [],
      "authorship_tag": "ABX9TyOJp5c66mIMcsXE/zYul9rx",
      "include_colab_link": true
    },
    "kernelspec": {
      "name": "python3",
      "display_name": "Python 3"
    },
    "language_info": {
      "name": "python"
    }
  },
  "cells": [
    {
      "cell_type": "markdown",
      "metadata": {
        "id": "view-in-github",
        "colab_type": "text"
      },
      "source": [
        "<a href=\"https://colab.research.google.com/github/Nekokan1500/Machine-Learning/blob/main/LinearModels/Example_Multinomial_Models.ipynb\" target=\"_parent\"><img src=\"https://colab.research.google.com/assets/colab-badge.svg\" alt=\"Open In Colab\"/></a>"
      ]
    },
    {
      "cell_type": "code",
      "execution_count": 8,
      "metadata": {
        "colab": {
          "base_uri": "https://localhost:8080/",
          "height": 295
        },
        "id": "4266f3jYbEKa",
        "outputId": "0ab26da1-c0c3-4b5f-b8f4-f16fa02f53af"
      },
      "outputs": [
        {
          "output_type": "display_data",
          "data": {
            "image/png": "[encoded data removed]",
            "text/plain": [
              "<Figure size 432x288 with 1 Axes>"
            ]
          },
          "metadata": {
            "needs_background": "light"
          }
        }
      ],
      "source": [
        "import numpy as np\n",
        "import pandas as pd\n",
        "import matplotlib.pyplot as plt\n",
        "\n",
        "# Generate a sample dataset\n",
        "x = np.random.uniform(low=5, high=20, size=100)\n",
        "e = np.random.normal(loc=0, scale=0.5, size=100)\n",
        "y = (x + e)**3\n",
        "\n",
        "fig, ax = plt.subplots(1,1)\n",
        "ax.scatter(x,y)\n",
        "ax.set_title('Y is non-linear with respect to x')\n",
        "ax.set_xlabel('x')\n",
        "ax.set_ylabel('y')\n",
        "ax.grid()\n",
        "fig.show()\n"
      ]
    },
    {
      "cell_type": "code",
      "source": [
        "# build a ridge regression model\n",
        "from sklearn.model_selection import train_test_split\n",
        "from sklearn.linear_model import Ridge\n",
        "from sklearn.metrics import mean_absolute_error\n",
        "\n",
        "x = x.reshape(x.shape[0],1)\n",
        "x_train, x_test, y_train, y_test = train_test_split(x, y, test_size=0.25)\n",
        "\n",
        "rgr = Ridge()\n",
        "rgr.fit(x_train, y_train)\n",
        "y_test_pred = rgr.predict(x_test)\n",
        "mae = mean_absolute_error(y_test, y_test_pred)\n",
        "print(f'MAE: {mae:.2f}')"
      ],
      "metadata": {
        "colab": {
          "base_uri": "https://localhost:8080/"
        },
        "id": "iDTJaMQwcbUm",
        "outputId": "435d19a5-316a-40f8-9c0b-b9ee6ce5eaf5"
      },
      "execution_count": 11,
      "outputs": [
        {
          "output_type": "stream",
          "name": "stdout",
          "text": [
            "MAE: 589.44\n"
          ]
        }
      ]
    },
    {
      "cell_type": "code",
      "source": [
        "# transforming the target variable\n",
        "class YTransformer:\n",
        "  def __init__(self, power=1):\n",
        "      self.power = power\n",
        "\n",
        "  def fit(self, x, y):\n",
        "    pass\n",
        "\n",
        "  def transform(self, x, y):\n",
        "    return x, np.power(y, self.power)\n",
        "\n",
        "  def inverse_transform(self, x, y):\n",
        "    return x, np.power(y, 1/self.power)\n",
        "  \n",
        "  def fit_transform(self, x, y):\n",
        "    return self.transform(x, y)"
      ],
      "metadata": {
        "id": "do9adrtFhLgh"
      },
      "execution_count": 12,
      "outputs": []
    },
    {
      "cell_type": "code",
      "source": [
        "from sklearn.metrics import r2_score\n",
        "\n",
        "for power in [1, 1/2, 1/3, 1/4, 1/5]:\n",
        "  yt = YTransformer(power)\n",
        "  _, y_train_t = yt.fit_transform(None, y_train)\n",
        "  _, y_test_t = yt.transform(None, y_test)\n",
        "  rgs = Ridge()\n",
        "  rgs.fit(x_train, y_train_t)\n",
        "  y_pred_t = rgs.predict(x_test)\n",
        "  _, y_pred = yt.inverse_transform(None, y_pred_t)\n",
        "  print(\n",
        "      'Transformed y^{:.2f}: MAE={:.0f}, R2={:.2f}'.format(\n",
        "          power, mean_absolute_error(y_test, y_pred),\n",
        "          r2_score(y_test, y_pred)\n",
        "      )\n",
        "  )"
      ],
      "metadata": {
        "colab": {
          "base_uri": "https://localhost:8080/"
        },
        "id": "onEE1sr8pnnD",
        "outputId": "a111debd-1f42-4fff-df7b-400cf6dcc9e6"
      },
      "execution_count": 13,
      "outputs": [
        {
          "output_type": "stream",
          "name": "stdout",
          "text": [
            "Transformed y^1.00: MAE=589, R2=0.90\n",
            "Transformed y^0.50: MAE=172, R2=0.99\n",
            "Transformed y^0.33: MAE=162, R2=0.99\n",
            "Transformed y^0.25: MAE=181, R2=0.99\n",
            "Transformed y^0.20: MAE=198, R2=0.98\n"
          ]
        }
      ]
    }
  ]
}