{
  "nbformat": 4,
  "nbformat_minor": 0,
  "metadata": {
    "colab": {
      "name": "Example_Decision_Trees_Scikit-Learn.ipynb",
      "provenance": [],
      "collapsed_sections": [],
      "authorship_tag": "ABX9TyOFaZIO2XgoVYTECWwjbEeu",
      "include_colab_link": true
    },
    "kernelspec": {
      "name": "python3",
      "display_name": "Python 3"
    },
    "language_info": {
      "name": "python"
    }
  },
  "cells": [
    {
      "cell_type": "markdown",
      "metadata": {
        "id": "view-in-github",
        "colab_type": "text"
      },
      "source": [
        "<a href=\"https://colab.research.google.com/github/Nekokan1500/Machine-Learning/blob/main/DecisionTrees/Example_Decision_Trees_Scikit_Learn.ipynb\" target=\"_parent\"><img src=\"https://colab.research.google.com/assets/colab-badge.svg\" alt=\"Open In Colab\"/></a>"
      ]
    },
    {
      "cell_type": "code",
      "execution_count": 2,
      "metadata": {
        "colab": {
          "base_uri": "https://localhost:8080/"
        },
        "id": "LSPtcTLrroTw",
        "outputId": "088ab69d-283a-43f4-d76e-977d83a890ea"
      },
      "outputs": [
        {
          "output_type": "stream",
          "name": "stdout",
          "text": [
            "Tree depth:  6\n",
            "                   feature_importance\n",
            "feature_name                         \n",
            "petal width (cm)             0.529368\n",
            "petal length (cm)            0.427350\n",
            "sepal length (cm)            0.043281\n",
            "sepal width (cm)             0.000000\n",
            "|--- petal width (cm) <= 0.8\n",
            "|   |--- class: 0\n",
            "|--- petal width (cm) >  0.8\n",
            "|   |--- petal length (cm) <= 4.9\n",
            "|   |   |--- sepal length (cm) <= 5.0\n",
            "|   |   |   |--- class: 2\n",
            "|   |   |--- sepal length (cm) >  5.0\n",
            "|   |   |   |--- class: 1\n",
            "|   |--- petal length (cm) >  4.9\n",
            "|   |   |--- petal width (cm) <= 1.8\n",
            "|   |   |   |--- petal length (cm) <= 5.3\n",
            "|   |   |   |   |--- sepal length (cm) <= 6.5\n",
            "|   |   |   |   |   |--- petal width (cm) <= 1.6\n",
            "|   |   |   |   |   |   |--- class: 2\n",
            "|   |   |   |   |   |--- petal width (cm) >  1.6\n",
            "|   |   |   |   |   |   |--- class: 1\n",
            "|   |   |   |   |--- sepal length (cm) >  6.5\n",
            "|   |   |   |   |   |--- class: 1\n",
            "|   |   |   |--- petal length (cm) >  5.3\n",
            "|   |   |   |   |--- class: 2\n",
            "|   |   |--- petal width (cm) >  1.8\n",
            "|   |   |   |--- class: 2\n",
            "\n"
          ]
        }
      ],
      "source": [
        "# The code in this notebook is reproduced from \n",
        "# Hands-On Machine Learning with scikit-learn and Scientific Python Toolkits 2020\n",
        "# by Amr T.\n",
        "\n",
        "from sklearn import datasets\n",
        "from sklearn.model_selection import train_test_split\n",
        "from sklearn.tree import DecisionTreeClassifier\n",
        "from sklearn.tree import export_text\n",
        "from sklearn.metrics import accuracy_score\n",
        "import pandas as pd\n",
        "\n",
        "iris = datasets.load_iris()\n",
        "df = pd.DataFrame(iris.data,columns=iris.feature_names)\n",
        "df['target'] = pd.Series(iris.target)\n",
        "df['target_name'] = df['target'].apply(lambda t: iris.target_names[t])\n",
        "\n",
        "df_train,df_test = train_test_split(df,test_size=0.3)\n",
        "\n",
        "x_train = df_train[iris.feature_names]\n",
        "x_test = df_test[iris.feature_names]\n",
        "\n",
        "y_train = df_train['target']\n",
        "y_test = df_test['target']\n",
        "\n",
        "clf = DecisionTreeClassifier()\n",
        "clf.fit(x_train,y_train)\n",
        "print(\"Tree depth: \",clf.get_depth())\n",
        "\n",
        "y_test_pred = clf.predict(x_test)\n",
        "\n",
        "accuracy_score(y_test, y_test_pred)\n",
        "\n",
        "\n",
        "result = pd.DataFrame({\n",
        "        'feature_name': iris.feature_names,\n",
        "        'feature_importance': clf.feature_importances_\n",
        "}).sort_values('feature_importance',\n",
        "                 ascending=False\n",
        ").set_index('feature_name')\n",
        "\n",
        "print(result)\n",
        "\n",
        "print(export_text(clf, feature_names=iris.feature_names, spacing=3, decimals=1))"
      ]
    },
    {
      "cell_type": "code",
      "source": [
        "# Repeated sub-sampling validation/Monte-Carlo cross-validation\n",
        "accuracy_scores = []\n",
        "for _ in range(100):\n",
        "  df_train,df_test = train_test_split(df,test_size=0.3)\n",
        "  x_train = df_train[iris.feature_names]\n",
        "  x_test = df_test[iris.feature_names]\n",
        "  y_train = df_train['target']\n",
        "  y_test = df_test['target']\n",
        "  clf = DecisionTreeClassifier()\n",
        "  clf.fit(x_train,y_train)\n",
        "  y_test_pred = clf.predict(x_test)\n",
        "  accuracy_scores.append(round(accuracy_score(y_test,y_test_pred),3))\n",
        "\n",
        "accuracy_scores = pd.Series(accuracy_scores)\n",
        "accuracy_scores.plot(title='Distribution of classifier accuracy', kind='box')\n",
        "print('Average Score: {:.3} [5th percentile: {:.3} & 95th percentile: {:.3}]'.format(\n",
        "  accuracy_scores.mean(),\n",
        "  accuracy_scores.quantile(.05),\n",
        "  accuracy_scores.quantile(.95),\n",
        "  )\n",
        ")"
      ],
      "metadata": {
        "colab": {
          "base_uri": "https://localhost:8080/",
          "height": 298
        },
        "id": "LsZg331BjKZy",
        "outputId": "955f6870-2c84-486a-bc0b-8e73db939a6f"
      },
      "execution_count": 10,
      "outputs": [
        {
          "output_type": "stream",
          "name": "stdout",
          "text": [
            "Average Score: 0.951 [5th percentile: 0.911 & 95th percentile: 1.0]\n"
          ]
        },
        {
          "output_type": "display_data",
          "data": {
            "image/png": "[encoded data removed]",
            "text/plain": [
              "<Figure size 432x288 with 1 Axes>"
            ]
          },
          "metadata": {
            "needs_background": "light"
          }
        }
      ]
    },
    {
      "cell_type": "code",
      "source": [
        "# Use scikit-learn's ShuffleSplit to randomly split the dataset into 100 training\n",
        "# and test pairs\n",
        "import pandas as pd\n",
        "from sklearn.model_selection import ShuffleSplit\n",
        "from sklearn.tree import DecisionTreeClassifier\n",
        "from sklearn.metrics import accuracy_score\n",
        "\n",
        "accuracy_scores = []\n",
        "\n",
        "# create a shuffle split instance\n",
        "rs = ShuffleSplit(n_splits=100,test_size=0.3)\n",
        "# Get 100 pairs of indices\n",
        "for train_index, test_index in rs.split(df):\n",
        "  x_train = df.loc[train_index, iris.feature_names]\n",
        "  x_test = df.loc[test_index, iris.feature_names]\n",
        "  y_train = df.loc[train_index, 'target']\n",
        "  y_test = df.loc[test_index, 'target']\n",
        "  clf = DecisionTreeClassifier()\n",
        "  clf.fit(x_train,y_train)\n",
        "  y_pred = clf.predict(x_test)\n",
        "  accuracy_scores.append(round(accuracy_score(y_test,y_pred),3))\n",
        "\n",
        "accuracy_scores = pd.Series(accuracy_scores)\n",
        "accuracy_scores.plot(title='Distribution of classifier accuracy', kind='box')\n",
        "print('Average Score: {:.3} [5th percentile: {:.3} & 95th percentile: {:.3}]'.format(\n",
        "  accuracy_scores.mean(),\n",
        "  accuracy_scores.quantile(.05),\n",
        "  accuracy_scores.quantile(.95),\n",
        "  )\n",
        ")"
      ],
      "metadata": {
        "colab": {
          "base_uri": "https://localhost:8080/",
          "height": 298
        },
        "id": "W0tbGG2Ypak2",
        "outputId": "459c24aa-de39-4190-d7df-4f1889837dfb"
      },
      "execution_count": 15,
      "outputs": [
        {
          "output_type": "stream",
          "name": "stdout",
          "text": [
            "Average Score: 0.949 [5th percentile: 0.911 & 95th percentile: 1.0]\n"
          ]
        },
        {
          "output_type": "display_data",
          "data": {
            "image/png": "[encoded data removed]",
            "text/plain": [
              "<Figure size 432x288 with 1 Axes>"
            ]
          },
          "metadata": {
            "needs_background": "light"
          }
        }
      ]
    },
    {
      "cell_type": "code",
      "source": [
        "# Use scikit-learn's cross_validate function\n",
        "# recommended when dealing with a small dataset\n",
        "import pandas as pd\n",
        "from sklearn.model_selection import ShuffleSplit\n",
        "from sklearn.tree import DecisionTreeClassifier\n",
        "from sklearn.model_selection import cross_validate\n",
        "\n",
        "clf = DecisionTreeClassifier()\n",
        "rs = ShuffleSplit(n_splits=100,test_size=0.3)\n",
        "\n",
        "x = df[iris.feature_names]\n",
        "y = df['target']\n",
        "\n",
        "cv_results = cross_validate(clf, x, y, cv=rs, scoring='accuracy')\n",
        "\n",
        "accuracy_scores = pd.Series(cv_results['test_score'])\n",
        "\n",
        "accuracy_scores.plot(title='Distribution of classifier accuracy', kind='box')\n",
        "print('Average Score: {:.3} [5th percentile: {:.3} & 95th percentile: {:.3}]'.format(\n",
        "  accuracy_scores.mean(),\n",
        "  accuracy_scores.quantile(.05),\n",
        "  accuracy_scores.quantile(.95),\n",
        "  )\n",
        ")"
      ],
      "metadata": {
        "colab": {
          "base_uri": "https://localhost:8080/",
          "height": 298
        },
        "id": "yzDeE20BttcC",
        "outputId": "cbb5edbf-ffcd-491b-d73b-5f98c096f432"
      },
      "execution_count": 16,
      "outputs": [
        {
          "output_type": "stream",
          "name": "stdout",
          "text": [
            "Average Score: 0.942 [5th percentile: 0.889 & 95th percentile: 0.978]\n"
          ]
        },
        {
          "output_type": "display_data",
          "data": {
            "image/png": "[encoded data removed]",
            "text/plain": [
              "<Figure size 432x288 with 1 Axes>"
            ]
          },
          "metadata": {
            "needs_background": "light"
          }
        }
      ]
    },
    {
      "cell_type": "code",
      "source": [
        "# Trying different tree depth values (Maximum is 4 unconstrained)\n",
        "import pandas as pd\n",
        "from sklearn.model_selection import train_test_split\n",
        "from sklearn.model_selection import ShuffleSplit\n",
        "from sklearn.tree import DecisionTreeClassifier\n",
        "from sklearn.tree import export_text\n",
        "from sklearn.model_selection import cross_validate\n",
        "\n",
        "df_train,df_test = train_test_split(df, test_size=0.25)\n",
        "x_train = df_train[iris.feature_names]\n",
        "x_test = df_test[iris.feature_names]\n",
        "y_train = df_train['target']\n",
        "y_test = df_test['target']\n",
        "\n",
        "for max_depth in [1,2,3,4]:\n",
        "  clf = DecisionTreeClassifier(max_depth=max_depth)\n",
        "  rs = ShuffleSplit(n_splits=20, test_size=0.25)\n",
        "  cv_results = cross_validate(clf, x_train, y_train, cv=rs, scoring='accuracy')\n",
        "  accuracy_scores = pd.Series(cv_results['test_score'])\n",
        "  print('@ max_depth = {}: accuracy_scores: {}~{}'.format(max_depth,\n",
        "    accuracy_scores.quantile(.1).round(3),\n",
        "    accuracy_scores.quantile(.9).round(3)\n",
        "  )\n",
        ")"
      ],
      "metadata": {
        "colab": {
          "base_uri": "https://localhost:8080/"
        },
        "id": "XJMn1-tYwd9f",
        "outputId": "3dd61630-f80d-4f64-b4ab-3944a9e69277"
      },
      "execution_count": 20,
      "outputs": [
        {
          "output_type": "stream",
          "name": "stdout",
          "text": [
            "@ max_depth = 1: accuracy_scores: 0.532~0.75\n",
            "@ max_depth = 2: accuracy_scores: 0.886~0.964\n",
            "@ max_depth = 3: accuracy_scores: 0.893~1.0\n",
            "@ max_depth = 4: accuracy_scores: 0.857~0.964\n"
          ]
        }
      ]
    },
    {
      "cell_type": "code",
      "source": [
        "# Based on the analysis above, the user can train a model once more using the \n",
        "# entire training set and a max_depth of, say, 3. Thhen, use the trained model\n",
        "# to predict the classes for the best set in order to evaluate the final model\n",
        "df_train,df_test = train_test_split(df, test_size=0.3)\n",
        "x_train = df_train[iris.feature_names]\n",
        "x_test = df_test[iris.feature_names]\n",
        "y_train = df_train['target']\n",
        "y_test = df_test['target']\n",
        "\n",
        "clf = DecisionTreeClassifier(max_depth=3)\n",
        "clf.fit(x_train, y_train)\n",
        "y_pred = clf.predict(x_test)\n",
        "print(\"Accuracy score: \", round(accuracy_score(y_test, y_pred),3))\n",
        "print(export_text(clf, feature_names=iris.feature_names, spacing=3, decimals=1))"
      ],
      "metadata": {
        "colab": {
          "base_uri": "https://localhost:8080/"
        },
        "id": "rn4hLWegzXie",
        "outputId": "e2fdac6d-72ec-4a8f-f9cb-83f2455f16dd"
      },
      "execution_count": 27,
      "outputs": [
        {
          "output_type": "stream",
          "name": "stdout",
          "text": [
            "Accuracy score:  0.933\n",
            "|--- petal width (cm) <= 0.8\n",
            "|   |--- class: 0\n",
            "|--- petal width (cm) >  0.8\n",
            "|   |--- petal width (cm) <= 1.7\n",
            "|   |   |--- petal length (cm) <= 5.0\n",
            "|   |   |   |--- class: 1\n",
            "|   |   |--- petal length (cm) >  5.0\n",
            "|   |   |   |--- class: 2\n",
            "|   |--- petal width (cm) >  1.7\n",
            "|   |   |--- class: 2\n",
            "\n"
          ]
        }
      ]
    },
    {
      "cell_type": "code",
      "source": [
        "# Draw the decision boundaries\n",
        "import numpy as np\n",
        "import pandas as pd\n",
        "import matplotlib.pyplot as plt\n",
        "\n",
        "def plot_decision_boundary(clf, x, y):\n",
        "  feature_names = x.columns\n",
        "  x, y = x.values, y.values\n",
        "  x_min, x_max = x[:,0].min(), x[:,0].max()\n",
        "  y_min, y_max = x[:,1].min(), x[:,1].max()\n",
        "  step = 0.02\n",
        "  xx, yy = np.meshgrid(\n",
        "  np.arange(x_min, x_max, step),\n",
        "  np.arange(y_min, y_max, step)\n",
        "  )\n",
        "  Z = clf.predict(np.c_[xx.ravel(), yy.ravel()])\n",
        "  Z = Z.reshape(xx.shape)\n",
        "  plt.figure(figsize=(12,8))\n",
        "  plt.contourf(xx, yy, Z, cmap='Paired_r', alpha=0.25)\n",
        "  plt.contour(xx, yy, Z, colors='k', linewidths=0.7)\n",
        "  plt.scatter(x[:,0], x[:,1], c=y, edgecolors='k')\n",
        "  plt.title(\"Tree's Decision Boundaries\")\n",
        "  plt.xlabel(feature_names[0])\n",
        "  plt.ylabel(feature_names[1])\n",
        "\n",
        "x = df[['petal width (cm)', 'petal length (cm)']]\n",
        "y = df['target']\n",
        "clf = DecisionTreeClassifier(max_depth=3)\n",
        "clf.fit(x, y)\n",
        "plot_decision_boundary(clf, x, y)"
      ],
      "metadata": {
        "colab": {
          "base_uri": "https://localhost:8080/",
          "height": 548
        },
        "id": "UPdbHBoI53g6",
        "outputId": "263df169-cb58-4911-c9e7-411423f1b598"
      },
      "execution_count": 5,
      "outputs": [
        {
          "output_type": "stream",
          "name": "stderr",
          "text": [
            "/usr/local/lib/python3.7/dist-packages/sklearn/base.py:446: UserWarning: X does not have valid feature names, but DecisionTreeClassifier was fitted with feature names\n",
            "  \"X does not have valid feature names, but\"\n"
          ]
        },
        {
          "output_type": "display_data",
          "data": {
            "image/png": "[encoded data removed]",
            "text/plain": [
              "<Figure size 864x576 with 1 Axes>"
            ]
          },
          "metadata": {
            "needs_background": "light"
          }
        }
      ]
    },
    {
      "cell_type": "code",
      "source": [
        "# Feature engineering\n",
        "import matplotlib.pyplot as plt\n",
        "\n",
        "df['petal length x width (cm)'] = df['petal length (cm)']*df['petal width (cm)']\n",
        "df['sepal length x width (cm)'] = df['sepal length (cm)']*df['sepal width (cm)']\n",
        "\n",
        "fig, ax = plt.subplots(figsize=(12,6))\n",
        "h_label = 'petal length x width (cm)'\n",
        "v_label = 'sepal length x width (cm)'\n",
        "\n",
        "for c in df['target'].value_counts().index.tolist():\n",
        "  df[df['target'] == c].plot(\n",
        "      title='Class distribution vs the newly derived features',\n",
        "      kind = 'scatter',\n",
        "      x=h_label,\n",
        "      y=v_label,\n",
        "      color=['r','g','b'][c], # each class has a different color\n",
        "      marker=f'${c}$', # use class id as marker\n",
        "      s=64,\n",
        "      alpha=0.5,\n",
        "      ax=ax\n",
        "  )\n",
        "\n",
        "fig.show()\n"
      ],
      "metadata": {
        "colab": {
          "base_uri": "https://localhost:8080/",
          "height": 404
        },
        "id": "cUuCR-KcsjEZ",
        "outputId": "f88817e5-3b4e-4b45-b3f4-fe71f20de644"
      },
      "execution_count": 14,
      "outputs": [
        {
          "output_type": "display_data",
          "data": {
            "image/png": "[encoded data removed]",
            "text/plain": [
              "<Figure size 864x432 with 1 Axes>"
            ]
          },
          "metadata": {
            "needs_background": "light"
          }
        }
      ]
    },
    {
      "cell_type": "code",
      "source": [
        "# Comparing model with original and derived features\n",
        "features_orig = iris.feature_names\n",
        "features_new = ['petal length x width (cm)', 'sepal length x width (cm)']\n",
        "\n",
        "accuracy_scores_orig = []\n",
        "accuracy_scores_new = []\n",
        "\n",
        "for _ in range(500):\n",
        "  df_train, df_test = train_test_split(df, test_size=0.3)\n",
        "  x_train_orig = df_train[features_orig]\n",
        "  x_train_new = df_train[features_new]\n",
        "  x_test_orig = df_test[features_orig]\n",
        "  x_test_new = df_test[features_new]\n",
        "  y_train = df_train['target']\n",
        "  y_test = df_test['target']\n",
        "  clf_orig = DecisionTreeClassifier(max_depth=2)\n",
        "  clf_new = DecisionTreeClassifier(max_depth=2)\n",
        "  clf_orig.fit(x_train_orig, y_train)\n",
        "  clf_new.fit(x_train_new, y_train)\n",
        "  y_pred_orig = clf_orig.predict(x_test_orig)\n",
        "  y_pred_new = clf_new.predict(x_test_new)\n",
        "  accuracy_scores_orig.append(round(accuracy_score(y_test,y_pred_orig),3))\n",
        "  accuracy_scores_new.append(round(accuracy_score(y_test,y_pred_new),3))\n",
        "\n",
        "accuracy_scores_orig = pd.Series(accuracy_scores_orig)\n",
        "accuracy_scores_new = pd.Series(accuracy_scores_new)\n",
        "\n",
        "fig, axs = plt.subplots(1,2,figsize=(16,6),sharey=True)\n",
        "\n",
        "accuracy_scores_orig.plot(\n",
        "    title='Distribution of classifier accuracy [Original Features]',\n",
        "    kind='box',\n",
        "    grid=True,\n",
        "    ax=axs[0]\n",
        ")\n",
        "\n",
        "accuracy_scores_new.plot(\n",
        "    title='Distribution of classifier accuracy [New Features]',\n",
        "    kind='box',\n",
        "    grid=True,\n",
        "    ax=axs[1]\n",
        ")\n",
        "\n",
        "fig.show()\n"
      ],
      "metadata": {
        "colab": {
          "base_uri": "https://localhost:8080/",
          "height": 390
        },
        "id": "BHFbHqj_0spK",
        "outputId": "273d38a9-4b8b-47cb-b441-8df8ca33a39a"
      },
      "execution_count": 16,
      "outputs": [
        {
          "output_type": "display_data",
          "data": {
            "image/png": "[encoded data removed]",
            "text/plain": [
              "<Figure size 1152x432 with 2 Axes>"
            ]
          },
          "metadata": {
            "needs_background": "light"
          }
        }
      ]
    },
    {
      "cell_type": "code",
      "source": [
        "# Decision Tree Regressor Example\n",
        "import numpy as np\n",
        "\n",
        "# take 200 random samples from two populations:\n",
        "n = 200\n",
        "\n",
        "# pop 1: females with mean height of 155cm and std.dev of 4\n",
        "#        males with mean height of 175cm and std.dev of 5\n",
        "# pop 2: females with mean height of 165cm and std.dev of 15\n",
        "#        males with mean height of 185cm and std.dev of 12\n",
        "\n",
        "height_pop1_f = np.random.normal(loc=155, scale=4, size=n)\n",
        "height_pop1_m = np.random.normal(loc=175, scale=5, size=n)\n",
        "height_pop2_f = np.random.normal(loc=165, scale=15, size=n)\n",
        "height_pop2_m = np.random.normal(loc=185, scale=12, size=n)\n",
        "\n",
        "# group all the males and all the females together\n",
        "height_f = np.concatenate([height_pop1_f,height_pop2_f])\n",
        "height_m = np.concatenate([height_pop1_m,height_pop2_m])\n",
        "\n",
        "# put data in a pandas DataFrame\n",
        "df_height = pd.DataFrame({\n",
        "    'Gender': [1 for i in range(height_f.size)]+[2 for i in range(height_m.size)],\n",
        "    'Height': np.concatenate((height_f, height_m))\n",
        "})\n",
        "\n",
        "# plot the fictional data\n",
        "fig, ax = plt.subplots(figsize=(10,5))\n",
        "df_height[df_height['Gender'] == 1]['Height'].plot(\n",
        "    label='Female', kind='hist', bins=10, alpha=0.7, ax=ax\n",
        ")\n",
        "df_height[df_height['Gender'] == 2]['Height'].plot(\n",
        "    label='Male', kind='hist', bins=10, alpha=0.7, ax=ax\n",
        ")\n",
        "ax.legend()\n",
        "fig.show()"
      ],
      "metadata": {
        "colab": {
          "base_uri": "https://localhost:8080/",
          "height": 320
        },
        "id": "28atnOYs5Mml",
        "outputId": "86a6f1ac-7b97-41c3-882d-fb0392638ec9"
      },
      "execution_count": 9,
      "outputs": [
        {
          "output_type": "display_data",
          "data": {
            "image/png": "[encoded data removed]",
            "text/plain": [
              "<Figure size 720x360 with 1 Axes>"
            ]
          },
          "metadata": {
            "needs_background": "light"
          }
        }
      ]
    },
    {
      "cell_type": "code",
      "source": [
        "# summary statistics\n",
        "df_height.groupby('Gender')[['Height']].agg([np.mean,np.median]).round(1)\n"
      ],
      "metadata": {
        "colab": {
          "base_uri": "https://localhost:8080/",
          "height": 175
        },
        "id": "poK-fvfP-8V_",
        "outputId": "5666e47c-2d27-4824-e542-469f26e99d7e"
      },
      "execution_count": 19,
      "outputs": [
        {
          "output_type": "execute_result",
          "data": {
            "text/html": [
              "\n",
              "  <div id=\"df-b76b4573-0301-4158-bf24-e179c8ce1155\">\n",
              "    <div class=\"colab-df-container\">\n",
              "      <div>\n",
              "<style scoped>\n",
              "    .dataframe tbody tr th:only-of-type {\n",
              "        vertical-align: middle;\n",
              "    }\n",
              "\n",
              "    .dataframe tbody tr th {\n",
              "        vertical-align: top;\n",
              "    }\n",
              "\n",
              "    .dataframe thead tr th {\n",
              "        text-align: left;\n",
              "    }\n",
              "\n",
              "    .dataframe thead tr:last-of-type th {\n",
              "        text-align: right;\n",
              "    }\n",
              "</style>\n",
              "<table border=\"1\" class=\"dataframe\">\n",
              "  <thead>\n",
              "    <tr>\n",
              "      <th></th>\n",
              "      <th colspan=\"2\" halign=\"left\">Height</th>\n",
              "    </tr>\n",
              "    <tr>\n",
              "      <th></th>\n",
              "      <th>mean</th>\n",
              "      <th>median</th>\n",
              "    </tr>\n",
              "    <tr>\n",
              "      <th>Gender</th>\n",
              "      <th></th>\n",
              "      <th></th>\n",
              "    </tr>\n",
              "  </thead>\n",
              "  <tbody>\n",
              "    <tr>\n",
              "      <th>1</th>\n",
              "      <td>159.4</td>\n",
              "      <td>156.8</td>\n",
              "    </tr>\n",
              "    <tr>\n",
              "      <th>2</th>\n",
              "      <td>180.2</td>\n",
              "      <td>178.9</td>\n",
              "    </tr>\n",
              "  </tbody>\n",
              "</table>\n",
              "</div>\n",
              "      <button class=\"colab-df-convert\" onclick=\"convertToInteractive('df-b76b4573-0301-4158-bf24-e179c8ce1155')\"\n",
              "              title=\"Convert this dataframe to an interactive table.\"\n",
              "              style=\"display:none;\">\n",
              "        \n",
              "  <svg xmlns=\"http://www.w3.org/2000/svg\" height=\"24px\"viewBox=\"0 0 24 24\"\n",
              "       width=\"24px\">\n",
              "    <path d=\"M0 0h24v24H0V0z\" fill=\"none\"/>\n",
              "    <path d=\"M18.56 5.44l.94 2.06.94-2.06 2.06-.94-2.06-.94-.94-2.06-.94 2.06-2.06.94zm-11 1L8.5 8.5l.94-2.06 2.06-.94-2.06-.94L8.5 2.5l-.94 2.06-2.06.94zm10 10l.94 2.06.94-2.06 2.06-.94-2.06-.94-.94-2.06-.94 2.06-2.06.94z\"/><path d=\"M17.41 7.96l-1.37-1.37c-.4-.4-.92-.59-1.43-.59-.52 0-1.04.2-1.43.59L10.3 9.45l-7.72 7.72c-.78.78-.78 2.05 0 2.83L4 21.41c.39.39.9.59 1.41.59.51 0 1.02-.2 1.41-.59l7.78-7.78 2.81-2.81c.8-.78.8-2.07 0-2.86zM5.41 20L4 18.59l7.72-7.72 1.47 1.35L5.41 20z\"/>\n",
              "  </svg>\n",
              "      </button>\n",
              "      \n",
              "  <style>\n",
              "    .colab-df-container {\n",
              "      display:flex;\n",
              "      flex-wrap:wrap;\n",
              "      gap: 12px;\n",
              "    }\n",
              "\n",
              "    .colab-df-convert {\n",
              "      background-color: #E8F0FE;\n",
              "      border: none;\n",
              "      border-radius: 50%;\n",
              "      cursor: pointer;\n",
              "      display: none;\n",
              "      fill: #1967D2;\n",
              "      height: 32px;\n",
              "      padding: 0 0 0 0;\n",
              "      width: 32px;\n",
              "    }\n",
              "\n",
              "    .colab-df-convert:hover {\n",
              "      background-color: #E2EBFA;\n",
              "      box-shadow: 0px 1px 2px rgba(60, 64, 67, 0.3), 0px 1px 3px 1px rgba(60, 64, 67, 0.15);\n",
              "      fill: #174EA6;\n",
              "    }\n",
              "\n",
              "    [theme=dark] .colab-df-convert {\n",
              "      background-color: #3B4455;\n",
              "      fill: #D2E3FC;\n",
              "    }\n",
              "\n",
              "    [theme=dark] .colab-df-convert:hover {\n",
              "      background-color: #434B5C;\n",
              "      box-shadow: 0px 1px 3px 1px rgba(0, 0, 0, 0.15);\n",
              "      filter: drop-shadow(0px 1px 2px rgba(0, 0, 0, 0.3));\n",
              "      fill: #FFFFFF;\n",
              "    }\n",
              "  </style>\n",
              "\n",
              "      <script>\n",
              "        const buttonEl =\n",
              "          document.querySelector('#df-b76b4573-0301-4158-bf24-e179c8ce1155 button.colab-df-convert');\n",
              "        buttonEl.style.display =\n",
              "          google.colab.kernel.accessAllowed ? 'block' : 'none';\n",
              "\n",
              "        async function convertToInteractive(key) {\n",
              "          const element = document.querySelector('#df-b76b4573-0301-4158-bf24-e179c8ce1155');\n",
              "          const dataTable =\n",
              "            await google.colab.kernel.invokeFunction('convertToInteractive',\n",
              "                                                     [key], {});\n",
              "          if (!dataTable) return;\n",
              "\n",
              "          const docLinkHtml = 'Like what you see? Visit the ' +\n",
              "            '<a target=\"_blank\" href=https://colab.research.google.com/notebooks/data_table.ipynb>data table notebook</a>'\n",
              "            + ' to learn more about interactive tables.';\n",
              "          element.innerHTML = '';\n",
              "          dataTable['output_type'] = 'display_data';\n",
              "          await google.colab.output.renderOutput(dataTable, element);\n",
              "          const docLink = document.createElement('div');\n",
              "          docLink.innerHTML = docLinkHtml;\n",
              "          element.appendChild(docLink);\n",
              "        }\n",
              "      </script>\n",
              "    </div>\n",
              "  </div>\n",
              "  "
            ],
            "text/plain": [
              "       Height       \n",
              "         mean median\n",
              "Gender              \n",
              "1       159.4  156.8\n",
              "2       180.2  178.9"
            ]
          },
          "metadata": {},
          "execution_count": 19
        }
      ]
    },
    {
      "cell_type": "code",
      "source": [
        "from sklearn.tree import DecisionTreeRegressor\n",
        "from sklearn.metrics import mean_squared_error, mean_absolute_error\n",
        "\n",
        "df_train, df_test = train_test_split(df_height, test_size=0.3)\n",
        "x_train, x_test = df_train[['Gender']], df_test[['Gender']]\n",
        "y_train, y_test = df_train['Height'], df_test['Height']\n",
        "\n",
        "for criterion in ['squared_error','absolute_error']:\n",
        "  regsr = DecisionTreeRegressor(criterion=criterion)\n",
        "  regsr.fit(x_train,y_train)\n",
        "  print(f'criterion={criterion}:\\n')\n",
        "  print(export_text(regsr, feature_names=['Gender'], spacing=3, decimals=1))\n",
        "  y_test_pred = regsr.predict(x_test)\n",
        "  print(criterion,mean_squared_error(y_test, y_test_pred))\n",
        "  print(criterion,mean_absolute_error(y_test, y_test_pred))"
      ],
      "metadata": {
        "colab": {
          "base_uri": "https://localhost:8080/"
        },
        "id": "lo1FwrVP_pyK",
        "outputId": "50fb1edb-2c75-4ee6-ca50-88a70497d785"
      },
      "execution_count": 8,
      "outputs": [
        {
          "output_type": "stream",
          "name": "stdout",
          "text": [
            "criterion=squared_error:\n",
            "\n",
            "|--- Gender <= 1.5\n",
            "|   |--- value: [160.3]\n",
            "|--- Gender >  1.5\n",
            "|   |--- value: [179.5]\n",
            "\n",
            "squared_error 109.06603413335182\n",
            "squared_error 7.948094822161713\n",
            "criterion=absolute_error:\n",
            "\n",
            "|--- Gender <= 1.5\n",
            "|   |--- value: [157.7]\n",
            "|--- Gender >  1.5\n",
            "|   |--- value: [178.2]\n",
            "\n",
            "absolute_error 114.00612040055817\n",
            "absolute_error 7.7189215965077835\n"
          ]
        }
      ]
    },
    {
      "cell_type": "code",
      "source": [
        "# Applying sample weights\n",
        "regsr = DecisionTreeRegressor()\n",
        "print(\"Emphasis on \\\"above 150\\\"\")\n",
        "sample_weights = y_train.apply(lambda y: 10 if y > 150 else 1)\n",
        "regsr.fit(x_train,y_train,sample_weight=sample_weights)\n",
        "print(export_text(regsr, feature_names=['Gender'], spacing=3, decimals=1))\n",
        "print(\"Emphasis on \\\"below 150\\\"\")\n",
        "sample_weights = y_train.apply(lambda y: 10 if y<= 150 else 1)\n",
        "regsr.fit(x_train,y_train,sample_weight=sample_weights)\n",
        "print(export_text(regsr, feature_names=['Gender'], spacing=3, decimals=1))"
      ],
      "metadata": {
        "colab": {
          "base_uri": "https://localhost:8080/"
        },
        "id": "aCjcoSTWmZQn",
        "outputId": "4fc5595c-db8f-43d4-a91d-28011ed89d97"
      },
      "execution_count": 13,
      "outputs": [
        {
          "output_type": "stream",
          "name": "stdout",
          "text": [
            "Emphasis on \"above 150\"\n",
            "|--- Gender <= 1.5\n",
            "|   |--- value: [162.2]\n",
            "|--- Gender >  1.5\n",
            "|   |--- value: [179.7]\n",
            "\n",
            "Emphasis on \"below 150\"\n",
            "|--- Gender <= 1.5\n",
            "|   |--- value: [151.8]\n",
            "|--- Gender >  1.5\n",
            "|   |--- value: [178.5]\n",
            "\n"
          ]
        }
      ]
    }
  ]
}