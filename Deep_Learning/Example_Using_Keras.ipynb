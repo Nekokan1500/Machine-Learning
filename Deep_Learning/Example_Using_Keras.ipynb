{
  "nbformat": 4,
  "nbformat_minor": 0,
  "metadata": {
    "colab": {
      "name": "Example_Using_Keras.ipynb",
      "provenance": [],
      "authorship_tag": "ABX9TyM0OcirNolJc4z838WVFmqs",
      "include_colab_link": true
    },
    "kernelspec": {
      "name": "python3",
      "display_name": "Python 3"
    },
    "language_info": {
      "name": "python"
    }
  },
  "cells": [
    {
      "cell_type": "markdown",
      "metadata": {
        "id": "view-in-github",
        "colab_type": "text"
      },
      "source": [
        "<a href=\"https://colab.research.google.com/github/Nekokan1500/Machine-Learning/blob/main/Deep_Learning/Example_Using_Keras.ipynb\" target=\"_parent\"><img src=\"https://colab.research.google.com/assets/colab-badge.svg\" alt=\"Open In Colab\"/></a>"
      ]
    },
    {
      "cell_type": "code",
      "execution_count": 13,
      "metadata": {
        "id": "z-dfFva4Lwji"
      },
      "outputs": [],
      "source": [
        "import numpy as np\n",
        "import matplotlib.pyplot as plt\n",
        "import tensorflow as tf\n",
        "from tensorflow import keras\n",
        "from tensorflow.keras import layers\n",
        "from tensorflow.keras import optimizers\n",
        "from tensorflow.keras.datasets import mnist"
      ]
    },
    {
      "cell_type": "code",
      "source": [
        "(train_images, train_labels), (test_images, test_labels) = mnist.load_data()"
      ],
      "metadata": {
        "colab": {
          "base_uri": "https://localhost:8080/"
        },
        "id": "ZO56u8vtT_oW",
        "outputId": "cbb04a23-3564-459f-c2bd-00ddf1e054d1"
      },
      "execution_count": 2,
      "outputs": [
        {
          "output_type": "stream",
          "name": "stdout",
          "text": [
            "Downloading data from https://storage.googleapis.com/tensorflow/tf-keras-datasets/mnist.npz\n",
            "11493376/11490434 [==============================] - 0s 0us/step\n",
            "11501568/11490434 [==============================] - 0s 0us/step\n"
          ]
        }
      ]
    },
    {
      "cell_type": "code",
      "source": [
        "print(train_images.shape)\n",
        "print(test_images.shape)"
      ],
      "metadata": {
        "colab": {
          "base_uri": "https://localhost:8080/"
        },
        "id": "MiDR7qSKMYrW",
        "outputId": "e84f5788-67f2-4927-c456-078cdd90ffad"
      },
      "execution_count": 3,
      "outputs": [
        {
          "output_type": "stream",
          "name": "stdout",
          "text": [
            "(60000, 28, 28)\n",
            "(10000, 28, 28)\n"
          ]
        }
      ]
    },
    {
      "cell_type": "code",
      "source": [
        "print(len(train_labels))\n",
        "print(len(test_labels))"
      ],
      "metadata": {
        "colab": {
          "base_uri": "https://localhost:8080/"
        },
        "id": "nM7-KxbNMcNC",
        "outputId": "6cf91e93-c8b4-47ff-8540-bc857828af92"
      },
      "execution_count": 4,
      "outputs": [
        {
          "output_type": "stream",
          "name": "stdout",
          "text": [
            "60000\n",
            "10000\n"
          ]
        }
      ]
    },
    {
      "cell_type": "code",
      "source": [
        "model = keras.Sequential([layers.Dense(512, activation=\"relu\"), \n",
        "                          layers.Dense(10, activation=\"softmax\")])\n",
        "model.compile(optimizer=\"rmsprop\", \n",
        "              loss=\"sparse_categorical_crossentropy\",\n",
        "              metrics=[\"accuracy\"])\n",
        "\n",
        "train_images = train_images.reshape((60000, 28*28))\n",
        "train_images = train_images.astype(\"float32\")/255\n",
        "test_images = test_images.reshape((10000, 28*28))\n",
        "test_images = test_images.astype(\"float32\")/255"
      ],
      "metadata": {
        "id": "Y0wWgOsCM-zN"
      },
      "execution_count": 5,
      "outputs": []
    },
    {
      "cell_type": "code",
      "source": [
        "model.fit(train_images, train_labels, epochs=5, batch_size=128)"
      ],
      "metadata": {
        "colab": {
          "base_uri": "https://localhost:8080/"
        },
        "id": "Np3ufq09THX_",
        "outputId": "0690a536-133b-474f-ec40-7a758b2dba12"
      },
      "execution_count": 6,
      "outputs": [
        {
          "output_type": "stream",
          "name": "stdout",
          "text": [
            "Epoch 1/5\n",
            "469/469 [==============================] - 6s 10ms/step - loss: 0.2591 - accuracy: 0.9232\n",
            "Epoch 2/5\n",
            "469/469 [==============================] - 5s 10ms/step - loss: 0.1041 - accuracy: 0.9689\n",
            "Epoch 3/5\n",
            "469/469 [==============================] - 5s 10ms/step - loss: 0.0683 - accuracy: 0.9793\n",
            "Epoch 4/5\n",
            "469/469 [==============================] - 5s 10ms/step - loss: 0.0498 - accuracy: 0.9851\n",
            "Epoch 5/5\n",
            "469/469 [==============================] - 5s 10ms/step - loss: 0.0381 - accuracy: 0.9884\n"
          ]
        },
        {
          "output_type": "execute_result",
          "data": {
            "text/plain": [
              "<keras.callbacks.History at 0x7fae0786a090>"
            ]
          },
          "metadata": {},
          "execution_count": 6
        }
      ]
    },
    {
      "cell_type": "code",
      "source": [
        "def display_img(img, target, ax):\n",
        "  img = img.reshape((28,28))\n",
        "  ax.imshow(img, cmap='gray')\n",
        "  ax.set_title(f'Digit: {str(target)}')\n",
        "  ax.grid(False)"
      ],
      "metadata": {
        "id": "b8HHrUPUU20b"
      },
      "execution_count": 7,
      "outputs": []
    },
    {
      "cell_type": "code",
      "source": [
        "test_digits = test_images[0:10]\n",
        "predictions = model.predict(test_digits)\n",
        "print(predictions[0])\n",
        "print(f\"Predicted label: {predictions[0].argmax()}\")\n",
        "print(f\"Expected label: {test_labels[0]}\")\n",
        "\n",
        "fig, ax = plt.subplots(1,1,figsize=(2,2))\n",
        "display_img(test_digits[0], test_labels[0], ax)"
      ],
      "metadata": {
        "colab": {
          "base_uri": "https://localhost:8080/",
          "height": 242
        },
        "id": "HY88weIGTVil",
        "outputId": "e9234c60-a452-42fc-aba6-3cd73bdce303"
      },
      "execution_count": 8,
      "outputs": [
        {
          "output_type": "stream",
          "name": "stdout",
          "text": [
            "[7.1687829e-08 3.7164154e-11 7.4916185e-05 1.3959939e-04 6.7845702e-13\n",
            " 1.8369743e-08 8.0372830e-15 9.9977499e-01 7.3273907e-07 9.7309294e-06]\n",
            "Predicted label: 7\n",
            "Expected label: 7\n"
          ]
        },
        {
          "output_type": "display_data",
          "data": {
            "text/plain": [
              "<Figure size 144x144 with 1 Axes>"
            ],
            "image/png": "[encoded data removed]"
          },
          "metadata": {
            "needs_background": "light"
          }
        }
      ]
    },
    {
      "cell_type": "code",
      "source": [
        "test_loss, test_acc = model.evaluate(test_images, test_labels)\n",
        "print(f\"Test accuracy: {test_acc:.3f}\")"
      ],
      "metadata": {
        "colab": {
          "base_uri": "https://localhost:8080/"
        },
        "id": "-hMii_wHWnF0",
        "outputId": "0ea22df8-3d8a-45aa-ebba-6d28526f8973"
      },
      "execution_count": 9,
      "outputs": [
        {
          "output_type": "stream",
          "name": "stdout",
          "text": [
            "313/313 [==============================] - 1s 3ms/step - loss: 0.0728 - accuracy: 0.9785\n",
            "Test accuracy: 0.979\n"
          ]
        }
      ]
    },
    {
      "cell_type": "code",
      "source": [
        "# Reimplementing the above process from sratch\n",
        "class NaiveDense:\n",
        "  def __init__(self, input_size, output_size, activation):\n",
        "    self.activation = activation\n",
        "    w_shape = (input_size, output_size)\n",
        "    w_initial_value = tf.random.uniform(w_shape, minval=0, maxval=1e-1)\n",
        "    self.W = tf.Variable(w_initial_value)\n",
        "    b_shape = (output_size,)\n",
        "    b_initial_value = tf.zeros(b_shape)\n",
        "    self.b = tf.Variable(b_initial_value)\n",
        "  \n",
        "  def __call__(self, inputs):\n",
        "    return self.activation(tf.matmul(inputs, self.W) + self.b)\n",
        "\n",
        "  @property\n",
        "  def weights(self):\n",
        "    return [self.W, self.b]\n",
        "\n",
        "class NaiveSequential:\n",
        "  def __init__(self, layers):\n",
        "    self.layers = layers\n",
        "\n",
        "  def __call__(self, inputs):\n",
        "    x = inputs\n",
        "    for layer in self.layers:\n",
        "      x = layer(x)\n",
        "    return x\n",
        "\n",
        "  @property\n",
        "  def weights(self):\n",
        "    weights = []\n",
        "    for layer in self.layers:\n",
        "      weights += layer.weights\n",
        "    return weights"
      ],
      "metadata": {
        "id": "sA1PIiP6tuHh"
      },
      "execution_count": 10,
      "outputs": []
    },
    {
      "cell_type": "code",
      "source": [
        "# Using the naive implementation of neural network\n",
        "model = NaiveSequential([\n",
        "     NaiveDense(input_size=28*28, output_size=512, activation=tf.nn.relu),\n",
        "     NaiveDense(input_size=512, output_size=10, activation=tf.nn.softmax)\n",
        "])\n",
        "assert len(model.weights) == 4"
      ],
      "metadata": {
        "id": "WVt-8JXoeycC"
      },
      "execution_count": 11,
      "outputs": []
    },
    {
      "cell_type": "code",
      "source": [
        "# A batch generator\n",
        "import math\n",
        "\n",
        "class BatchGenerator:\n",
        "  def __init__(self, images, labels, batch_size=128):\n",
        "    assert len(images) == len(labels)\n",
        "    self.index = 0\n",
        "    self.images = images\n",
        "    self.labels = labels\n",
        "    self.batch_size = batch_size\n",
        "    self.num_batches = math.ceil((len(images)/batch_size))\n",
        "\n",
        "  def next(self):\n",
        "    images = self.images[self.index : self.index + self.batch_size]\n",
        "    labels = self.labels[self.index : self.index + self.batch_size]\n",
        "    self.index += self.batch_size\n",
        "    return images, labels"
      ],
      "metadata": {
        "id": "zy0d9myufQRB"
      },
      "execution_count": 12,
      "outputs": []
    },
    {
      "cell_type": "code",
      "source": [
        "# Naive implementation of the training process\n",
        "def one_training_step(model, images_batch, labels_batch):\n",
        "  with tf.GradientTape() as tape:\n",
        "    predictions = model(images_batch)\n",
        "    per_sample_losses = tf.keras.losses.sparse_categorical_crossentropy(\n",
        "        labels_batch, predictions)\n",
        "    average_loss = tf.reduce_mean(per_sample_losses)\n",
        "  gradients = tape.gradient(average_loss, model.weights)\n",
        "  update_weights(gradients, model.weights)\n",
        "  return average_loss\n",
        "\n",
        "def update_weights(gradients, weights, learning_rate=1e-3):\n",
        "  for g, w in zip(gradients, weights):\n",
        "    w.assign_sub(g*learning_rate)"
      ],
      "metadata": {
        "id": "qyaMGI35gOlz"
      },
      "execution_count": 28,
      "outputs": []
    },
    {
      "cell_type": "code",
      "source": [
        "# The full training loop\n",
        "def fit(model, images, labels, epochs, batch_size=128):\n",
        "  for epoch_counter in range(epochs):\n",
        "    print(f\"Epoch {epoch_counter}\")\n",
        "    batch_generator = BatchGenerator(images, labels)\n",
        "    for batch_counter in range(batch_generator.num_batches):\n",
        "      images_batch, labels_batch = batch_generator.next()\n",
        "      loss = one_training_step(model, images_batch, labels_batch)\n",
        "      if batch_counter % 100 == 0:\n",
        "        print(f\"loss at batch {batch_counter}: {loss:.2f}\")"
      ],
      "metadata": {
        "id": "Nr2x5eytindd"
      },
      "execution_count": 23,
      "outputs": []
    },
    {
      "cell_type": "code",
      "source": [
        "# Running the training\n",
        "fit(model, train_images, train_labels, epochs=10, batch_size=128)\n",
        "predictions = model(test_images)\n",
        "predictions = predictions.numpy()\n",
        "predicted_labels = np.argmax(predictions, axis=1)\n",
        "matches = predicted_labels == test_labels\n",
        "print(f\"accuracy: {matches.mean():.2f}\")"
      ],
      "metadata": {
        "colab": {
          "base_uri": "https://localhost:8080/"
        },
        "id": "ew3hMZB8j7DO",
        "outputId": "ffbf31f8-8b19-4e2b-c55e-dca146671896"
      },
      "execution_count": 29,
      "outputs": [
        {
          "output_type": "stream",
          "name": "stdout",
          "text": [
            "Epoch 0\n",
            "loss at batch 0: 0.60\n",
            "loss at batch 100: 0.60\n",
            "loss at batch 200: 0.51\n",
            "loss at batch 300: 0.58\n",
            "loss at batch 400: 0.66\n",
            "Epoch 1\n",
            "loss at batch 0: 0.55\n",
            "loss at batch 100: 0.57\n",
            "loss at batch 200: 0.49\n",
            "loss at batch 300: 0.56\n",
            "loss at batch 400: 0.64\n",
            "Epoch 2\n",
            "loss at batch 0: 0.53\n",
            "loss at batch 100: 0.54\n",
            "loss at batch 200: 0.47\n",
            "loss at batch 300: 0.54\n",
            "loss at batch 400: 0.62\n",
            "Epoch 3\n",
            "loss at batch 0: 0.51\n",
            "loss at batch 100: 0.52\n",
            "loss at batch 200: 0.45\n",
            "loss at batch 300: 0.52\n",
            "loss at batch 400: 0.61\n",
            "Epoch 4\n",
            "loss at batch 0: 0.49\n",
            "loss at batch 100: 0.50\n",
            "loss at batch 200: 0.43\n",
            "loss at batch 300: 0.51\n",
            "loss at batch 400: 0.60\n",
            "Epoch 5\n",
            "loss at batch 0: 0.48\n",
            "loss at batch 100: 0.49\n",
            "loss at batch 200: 0.42\n",
            "loss at batch 300: 0.49\n",
            "loss at batch 400: 0.58\n",
            "Epoch 6\n",
            "loss at batch 0: 0.46\n",
            "loss at batch 100: 0.47\n",
            "loss at batch 200: 0.41\n",
            "loss at batch 300: 0.48\n",
            "loss at batch 400: 0.57\n",
            "Epoch 7\n",
            "loss at batch 0: 0.45\n",
            "loss at batch 100: 0.46\n",
            "loss at batch 200: 0.39\n",
            "loss at batch 300: 0.47\n",
            "loss at batch 400: 0.56\n",
            "Epoch 8\n",
            "loss at batch 0: 0.44\n",
            "loss at batch 100: 0.44\n",
            "loss at batch 200: 0.38\n",
            "loss at batch 300: 0.46\n",
            "loss at batch 400: 0.56\n",
            "Epoch 9\n",
            "loss at batch 0: 0.43\n",
            "loss at batch 100: 0.43\n",
            "loss at batch 200: 0.38\n",
            "loss at batch 300: 0.45\n",
            "loss at batch 400: 0.55\n",
            "accuracy: 0.87\n"
          ]
        }
      ]
    }
  ]
}