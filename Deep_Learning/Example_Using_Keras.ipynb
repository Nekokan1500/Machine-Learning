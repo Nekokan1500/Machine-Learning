{
  "nbformat": 4,
  "nbformat_minor": 0,
  "metadata": {
    "colab": {
      "name": "Example_Using_Keras.ipynb",
      "provenance": [],
      "authorship_tag": "ABX9TyNKENcADBLlwRJTZSP+7u7W",
      "include_colab_link": true
    },
    "kernelspec": {
      "name": "python3",
      "display_name": "Python 3"
    },
    "language_info": {
      "name": "python"
    }
  },
  "cells": [
    {
      "cell_type": "markdown",
      "metadata": {
        "id": "view-in-github",
        "colab_type": "text"
      },
      "source": [
        "<a href=\"https://colab.research.google.com/github/Nekokan1500/Machine-Learning/blob/main/Deep_Learning/Example_Using_Keras.ipynb\" target=\"_parent\"><img src=\"https://colab.research.google.com/assets/colab-badge.svg\" alt=\"Open In Colab\"/></a>"
      ]
    },
    {
      "cell_type": "code",
      "execution_count": 1,
      "metadata": {
        "id": "z-dfFva4Lwji"
      },
      "outputs": [],
      "source": [
        "import numpy as np\n",
        "import matplotlib.pyplot as plt\n",
        "import tensorflow as tf\n",
        "from tensorflow import keras\n",
        "from tensorflow.keras import layers\n",
        "from tensorflow.keras import optimizers\n",
        "from tensorflow.keras.datasets import mnist"
      ]
    },
    {
      "cell_type": "code",
      "source": [
        "(train_images, train_labels), (test_images, test_labels) = mnist.load_data()"
      ],
      "metadata": {
        "colab": {
          "base_uri": "https://localhost:8080/"
        },
        "id": "ZO56u8vtT_oW",
        "outputId": "cbb04a23-3564-459f-c2bd-00ddf1e054d1"
      },
      "execution_count": null,
      "outputs": [
        {
          "output_type": "stream",
          "name": "stdout",
          "text": [
            "Downloading data from https://storage.googleapis.com/tensorflow/tf-keras-datasets/mnist.npz\n",
            "11493376/11490434 [==============================] - 0s 0us/step\n",
            "11501568/11490434 [==============================] - 0s 0us/step\n"
          ]
        }
      ]
    },
    {
      "cell_type": "code",
      "source": [
        "print(train_images.shape)\n",
        "print(test_images.shape)"
      ],
      "metadata": {
        "colab": {
          "base_uri": "https://localhost:8080/"
        },
        "id": "MiDR7qSKMYrW",
        "outputId": "e84f5788-67f2-4927-c456-078cdd90ffad"
      },
      "execution_count": null,
      "outputs": [
        {
          "output_type": "stream",
          "name": "stdout",
          "text": [
            "(60000, 28, 28)\n",
            "(10000, 28, 28)\n"
          ]
        }
      ]
    },
    {
      "cell_type": "code",
      "source": [
        "print(len(train_labels))\n",
        "print(len(test_labels))"
      ],
      "metadata": {
        "colab": {
          "base_uri": "https://localhost:8080/"
        },
        "id": "nM7-KxbNMcNC",
        "outputId": "6cf91e93-c8b4-47ff-8540-bc857828af92"
      },
      "execution_count": null,
      "outputs": [
        {
          "output_type": "stream",
          "name": "stdout",
          "text": [
            "60000\n",
            "10000\n"
          ]
        }
      ]
    },
    {
      "cell_type": "code",
      "source": [
        "model = keras.Sequential([layers.Dense(512, activation=\"relu\"), \n",
        "                          layers.Dense(10, activation=\"softmax\")])\n",
        "model.compile(optimizer=\"rmsprop\", \n",
        "              loss=\"sparse_categorical_crossentropy\",\n",
        "              metrics=[\"accuracy\"])\n",
        "\n",
        "train_images = train_images.reshape((60000, 28*28))\n",
        "train_images = train_images.astype(\"float32\")/255\n",
        "test_images = test_images.reshape((10000, 28*28))\n",
        "test_images = test_images.astype(\"float32\")/255"
      ],
      "metadata": {
        "id": "Y0wWgOsCM-zN"
      },
      "execution_count": null,
      "outputs": []
    },
    {
      "cell_type": "code",
      "source": [
        "model.fit(train_images, train_labels, epochs=5, batch_size=128)"
      ],
      "metadata": {
        "colab": {
          "base_uri": "https://localhost:8080/"
        },
        "id": "Np3ufq09THX_",
        "outputId": "0690a536-133b-474f-ec40-7a758b2dba12"
      },
      "execution_count": null,
      "outputs": [
        {
          "output_type": "stream",
          "name": "stdout",
          "text": [
            "Epoch 1/5\n",
            "469/469 [==============================] - 6s 10ms/step - loss: 0.2591 - accuracy: 0.9232\n",
            "Epoch 2/5\n",
            "469/469 [==============================] - 5s 10ms/step - loss: 0.1041 - accuracy: 0.9689\n",
            "Epoch 3/5\n",
            "469/469 [==============================] - 5s 10ms/step - loss: 0.0683 - accuracy: 0.9793\n",
            "Epoch 4/5\n",
            "469/469 [==============================] - 5s 10ms/step - loss: 0.0498 - accuracy: 0.9851\n",
            "Epoch 5/5\n",
            "469/469 [==============================] - 5s 10ms/step - loss: 0.0381 - accuracy: 0.9884\n"
          ]
        },
        {
          "output_type": "execute_result",
          "data": {
            "text/plain": [
              "<keras.callbacks.History at 0x7fae0786a090>"
            ]
          },
          "metadata": {},
          "execution_count": 6
        }
      ]
    },
    {
      "cell_type": "code",
      "source": [
        "def display_img(img, target, ax):\n",
        "  img = img.reshape((28,28))\n",
        "  ax.imshow(img, cmap='gray')\n",
        "  ax.set_title(f'Digit: {str(target)}')\n",
        "  ax.grid(False)"
      ],
      "metadata": {
        "id": "b8HHrUPUU20b"
      },
      "execution_count": null,
      "outputs": []
    },
    {
      "cell_type": "code",
      "source": [
        "test_digits = test_images[0:10]\n",
        "predictions = model.predict(test_digits)\n",
        "print(predictions[0])\n",
        "print(f\"Predicted label: {predictions[0].argmax()}\")\n",
        "print(f\"Expected label: {test_labels[0]}\")\n",
        "\n",
        "fig, ax = plt.subplots(1,1,figsize=(2,2))\n",
        "display_img(test_digits[0], test_labels[0], ax)"
      ],
      "metadata": {
        "colab": {
          "base_uri": "https://localhost:8080/",
          "height": 242
        },
        "id": "HY88weIGTVil",
        "outputId": "e9234c60-a452-42fc-aba6-3cd73bdce303"
      },
      "execution_count": null,
      "outputs": [
        {
          "output_type": "stream",
          "name": "stdout",
          "text": [
            "[7.1687829e-08 3.7164154e-11 7.4916185e-05 1.3959939e-04 6.7845702e-13\n",
            " 1.8369743e-08 8.0372830e-15 9.9977499e-01 7.3273907e-07 9.7309294e-06]\n",
            "Predicted label: 7\n",
            "Expected label: 7\n"
          ]
        },
        {
          "output_type": "display_data",
          "data": {
            "text/plain": [
              "<Figure size 144x144 with 1 Axes>"
            ],
            "image/png": "[encoded data removed]"
          },
          "metadata": {
            "needs_background": "light"
          }
        }
      ]
    },
    {
      "cell_type": "code",
      "source": [
        "test_loss, test_acc = model.evaluate(test_images, test_labels)\n",
        "print(f\"Test accuracy: {test_acc:.3f}\")"
      ],
      "metadata": {
        "colab": {
          "base_uri": "https://localhost:8080/"
        },
        "id": "-hMii_wHWnF0",
        "outputId": "0ea22df8-3d8a-45aa-ebba-6d28526f8973"
      },
      "execution_count": null,
      "outputs": [
        {
          "output_type": "stream",
          "name": "stdout",
          "text": [
            "313/313 [==============================] - 1s 3ms/step - loss: 0.0728 - accuracy: 0.9785\n",
            "Test accuracy: 0.979\n"
          ]
        }
      ]
    },
    {
      "cell_type": "code",
      "source": [
        "# Reimplementing the above process from sratch\n",
        "class NaiveDense:\n",
        "  def __init__(self, input_size, output_size, activation):\n",
        "    self.activation = activation\n",
        "    w_shape = (input_size, output_size)\n",
        "    w_initial_value = tf.random.uniform(w_shape, minval=0, maxval=1e-1)\n",
        "    self.W = tf.Variable(w_initial_value)\n",
        "    b_shape = (output_size,)\n",
        "    b_initial_value = tf.zeros(b_shape)\n",
        "    self.b = tf.Variable(b_initial_value)\n",
        "  \n",
        "  def __call__(self, inputs):\n",
        "    return self.activation(tf.matmul(inputs, self.W) + self.b)\n",
        "\n",
        "  @property\n",
        "  def weights(self):\n",
        "    return [self.W, self.b]\n",
        "\n",
        "class NaiveSequential:\n",
        "  def __init__(self, layers):\n",
        "    self.layers = layers\n",
        "\n",
        "  def __call__(self, inputs):\n",
        "    x = inputs\n",
        "    for layer in self.layers:\n",
        "      x = layer(x)\n",
        "    return x\n",
        "\n",
        "  @property\n",
        "  def weights(self):\n",
        "    weights = []\n",
        "    for layer in self.layers:\n",
        "      weights += layer.weights\n",
        "    return weights"
      ],
      "metadata": {
        "id": "sA1PIiP6tuHh"
      },
      "execution_count": null,
      "outputs": []
    },
    {
      "cell_type": "code",
      "source": [
        "# Using the naive implementation of neural network\n",
        "model = NaiveSequential([\n",
        "     NaiveDense(input_size=28*28, output_size=512, activation=tf.nn.relu),\n",
        "     NaiveDense(input_size=512, output_size=10, activation=tf.nn.softmax)\n",
        "])\n",
        "assert len(model.weights) == 4"
      ],
      "metadata": {
        "id": "WVt-8JXoeycC"
      },
      "execution_count": null,
      "outputs": []
    },
    {
      "cell_type": "code",
      "source": [
        "# A batch generator\n",
        "import math\n",
        "\n",
        "class BatchGenerator:\n",
        "  def __init__(self, images, labels, batch_size=128):\n",
        "    assert len(images) == len(labels)\n",
        "    self.index = 0\n",
        "    self.images = images\n",
        "    self.labels = labels\n",
        "    self.batch_size = batch_size\n",
        "    self.num_batches = math.ceil((len(images)/batch_size))\n",
        "\n",
        "  def next(self):\n",
        "    images = self.images[self.index : self.index + self.batch_size]\n",
        "    labels = self.labels[self.index : self.index + self.batch_size]\n",
        "    self.index += self.batch_size\n",
        "    return images, labels"
      ],
      "metadata": {
        "id": "zy0d9myufQRB"
      },
      "execution_count": null,
      "outputs": []
    },
    {
      "cell_type": "code",
      "source": [
        "# Naive implementation of the training process\n",
        "def one_training_step(model, images_batch, labels_batch):\n",
        "  with tf.GradientTape() as tape:\n",
        "    predictions = model(images_batch)\n",
        "    per_sample_losses = tf.keras.losses.sparse_categorical_crossentropy(\n",
        "        labels_batch, predictions)\n",
        "    average_loss = tf.reduce_mean(per_sample_losses)\n",
        "  gradients = tape.gradient(average_loss, model.weights)\n",
        "  update_weights(gradients, model.weights)\n",
        "  return average_loss\n",
        "\n",
        "def update_weights(gradients, weights, learning_rate=1e-3):\n",
        "  for g, w in zip(gradients, weights):\n",
        "    w.assign_sub(g*learning_rate)"
      ],
      "metadata": {
        "id": "qyaMGI35gOlz"
      },
      "execution_count": null,
      "outputs": []
    },
    {
      "cell_type": "code",
      "source": [
        "# The full training loop\n",
        "def fit(model, images, labels, epochs, batch_size=128):\n",
        "  for epoch_counter in range(epochs):\n",
        "    print(f\"Epoch {epoch_counter}\")\n",
        "    batch_generator = BatchGenerator(images, labels)\n",
        "    for batch_counter in range(batch_generator.num_batches):\n",
        "      images_batch, labels_batch = batch_generator.next()\n",
        "      loss = one_training_step(model, images_batch, labels_batch)\n",
        "      if batch_counter % 100 == 0:\n",
        "        print(f\"loss at batch {batch_counter}: {loss:.2f}\")"
      ],
      "metadata": {
        "id": "Nr2x5eytindd"
      },
      "execution_count": null,
      "outputs": []
    },
    {
      "cell_type": "code",
      "source": [
        "# Running the training\n",
        "fit(model, train_images, train_labels, epochs=10, batch_size=128)\n",
        "predictions = model(test_images)\n",
        "predictions = predictions.numpy()\n",
        "predicted_labels = np.argmax(predictions, axis=1)\n",
        "matches = predicted_labels == test_labels\n",
        "print(f\"accuracy: {matches.mean():.2f}\")"
      ],
      "metadata": {
        "colab": {
          "base_uri": "https://localhost:8080/"
        },
        "id": "ew3hMZB8j7DO",
        "outputId": "ffbf31f8-8b19-4e2b-c55e-dca146671896"
      },
      "execution_count": null,
      "outputs": [
        {
          "output_type": "stream",
          "name": "stdout",
          "text": [
            "Epoch 0\n",
            "loss at batch 0: 0.60\n",
            "loss at batch 100: 0.60\n",
            "loss at batch 200: 0.51\n",
            "loss at batch 300: 0.58\n",
            "loss at batch 400: 0.66\n",
            "Epoch 1\n",
            "loss at batch 0: 0.55\n",
            "loss at batch 100: 0.57\n",
            "loss at batch 200: 0.49\n",
            "loss at batch 300: 0.56\n",
            "loss at batch 400: 0.64\n",
            "Epoch 2\n",
            "loss at batch 0: 0.53\n",
            "loss at batch 100: 0.54\n",
            "loss at batch 200: 0.47\n",
            "loss at batch 300: 0.54\n",
            "loss at batch 400: 0.62\n",
            "Epoch 3\n",
            "loss at batch 0: 0.51\n",
            "loss at batch 100: 0.52\n",
            "loss at batch 200: 0.45\n",
            "loss at batch 300: 0.52\n",
            "loss at batch 400: 0.61\n",
            "Epoch 4\n",
            "loss at batch 0: 0.49\n",
            "loss at batch 100: 0.50\n",
            "loss at batch 200: 0.43\n",
            "loss at batch 300: 0.51\n",
            "loss at batch 400: 0.60\n",
            "Epoch 5\n",
            "loss at batch 0: 0.48\n",
            "loss at batch 100: 0.49\n",
            "loss at batch 200: 0.42\n",
            "loss at batch 300: 0.49\n",
            "loss at batch 400: 0.58\n",
            "Epoch 6\n",
            "loss at batch 0: 0.46\n",
            "loss at batch 100: 0.47\n",
            "loss at batch 200: 0.41\n",
            "loss at batch 300: 0.48\n",
            "loss at batch 400: 0.57\n",
            "Epoch 7\n",
            "loss at batch 0: 0.45\n",
            "loss at batch 100: 0.46\n",
            "loss at batch 200: 0.39\n",
            "loss at batch 300: 0.47\n",
            "loss at batch 400: 0.56\n",
            "Epoch 8\n",
            "loss at batch 0: 0.44\n",
            "loss at batch 100: 0.44\n",
            "loss at batch 200: 0.38\n",
            "loss at batch 300: 0.46\n",
            "loss at batch 400: 0.56\n",
            "Epoch 9\n",
            "loss at batch 0: 0.43\n",
            "loss at batch 100: 0.43\n",
            "loss at batch 200: 0.38\n",
            "loss at batch 300: 0.45\n",
            "loss at batch 400: 0.55\n",
            "accuracy: 0.87\n"
          ]
        }
      ]
    },
    {
      "cell_type": "code",
      "source": [
        "v = tf.Variable(initial_value=tf.random.normal(shape=(3,1)))\n",
        "print(v)\n",
        "v.assign(tf.ones((3,1)))\n",
        "v[0,0].assign(3.)\n",
        "v.assign_add(tf.ones((3,1)))"
      ],
      "metadata": {
        "colab": {
          "base_uri": "https://localhost:8080/"
        },
        "id": "LEfHSxNWU8G2",
        "outputId": "3e5b0f48-718c-4a91-823c-25956de755dd"
      },
      "execution_count": null,
      "outputs": [
        {
          "output_type": "stream",
          "name": "stdout",
          "text": [
            "<tf.Variable 'Variable:0' shape=(3, 1) dtype=float32, numpy=\n",
            "array([[ 0.944124 ],\n",
            "       [-0.5112382],\n",
            "       [-0.617996 ]], dtype=float32)>\n"
          ]
        },
        {
          "output_type": "execute_result",
          "data": {
            "text/plain": [
              "<tf.Variable 'UnreadVariable' shape=(3, 1) dtype=float32, numpy=\n",
              "array([[4.],\n",
              "       [2.],\n",
              "       [2.]], dtype=float32)>"
            ]
          },
          "metadata": {},
          "execution_count": 50
        }
      ]
    },
    {
      "cell_type": "code",
      "source": [
        "input_var = tf.Variable(initial_value=3.)\n",
        "with tf.GradientTape() as tape:\n",
        "  result = tf.square(input_var)\n",
        "gradient = tape.gradient(result, input_var)\n",
        "print(gradient)"
      ],
      "metadata": {
        "colab": {
          "base_uri": "https://localhost:8080/"
        },
        "id": "qpVKkrpwXeKd",
        "outputId": "6cb1aac2-322c-4369-9847-e5306b65eaff"
      },
      "execution_count": null,
      "outputs": [
        {
          "output_type": "stream",
          "name": "stdout",
          "text": [
            "tf.Tensor(6.0, shape=(), dtype=float32)\n"
          ]
        }
      ]
    },
    {
      "cell_type": "code",
      "source": [
        "input_const = tf.constant(3.)\n",
        "with tf.GradientTape() as tape:\n",
        "  tape.watch(input_const)\n",
        "  result = tf.square(input_const)\n",
        "gradient = tape.gradient(result, input_const)\n",
        "print(gradient)"
      ],
      "metadata": {
        "colab": {
          "base_uri": "https://localhost:8080/"
        },
        "id": "wlDTwmSzYcPU",
        "outputId": "8565b15b-6638-4967-94e8-931a39dfd039"
      },
      "execution_count": null,
      "outputs": [
        {
          "output_type": "stream",
          "name": "stdout",
          "text": [
            "tf.Tensor(6.0, shape=(), dtype=float32)\n"
          ]
        }
      ]
    },
    {
      "cell_type": "code",
      "source": [
        "time = tf.Variable(1.)\n",
        "with tf.GradientTape() as outer_tape:\n",
        "  with tf.GradientTape() as inner_tape:\n",
        "    position = 4.9*time**2\n",
        "  speed = inner_tape.gradient(position, time)\n",
        "  print(f\"speed (1-st derivative): {speed:.2f}\")\n",
        "acceleration = outer_tape.gradient(speed, time)\n",
        "print(f\"acceleartion (2nd derivative): {acceleration:.2f}\")"
      ],
      "metadata": {
        "colab": {
          "base_uri": "https://localhost:8080/"
        },
        "id": "oxTwtAxXZC8s",
        "outputId": "be1799b2-8b4f-4020-ab8e-6d35dae31e89"
      },
      "execution_count": null,
      "outputs": [
        {
          "output_type": "stream",
          "name": "stdout",
          "text": [
            "speed (1-st derivative): 9.80\n",
            "acceleartion (2nd derivative): 9.80\n"
          ]
        }
      ]
    },
    {
      "cell_type": "code",
      "source": [
        "# A linear classifier in pure TensorFlow\n",
        "num_samples_per_class = 1000\n",
        "negative_samples = np.random.multivariate_normal(\n",
        "    mean=[0, 3],\n",
        "    cov=[[1,0.5],[0.5,1]],\n",
        "    size=num_samples_per_class\n",
        ")\n",
        "positive_samples = np.random.multivariate_normal(\n",
        "    mean=[3,0],\n",
        "    cov=[[1,0.5],[0.5,1]],\n",
        "    size=num_samples_per_class\n",
        ")\n",
        "\n",
        "inputs = np.vstack((negative_samples, positive_samples)).astype(np.float32)\n",
        "targets = np.vstack((np.zeros((num_samples_per_class, 1), dtype=\"float32\"),\n",
        "                     np.ones((num_samples_per_class, 1), dtype=\"float32\")))"
      ],
      "metadata": {
        "id": "sHZ7jtA8aKSr"
      },
      "execution_count": null,
      "outputs": []
    },
    {
      "cell_type": "code",
      "source": [
        "plt.scatter(inputs[:,0], inputs[:,1], c=targets[:,0])\n",
        "plt.show()"
      ],
      "metadata": {
        "colab": {
          "base_uri": "https://localhost:8080/",
          "height": 265
        },
        "id": "kOncK6Lmk42c",
        "outputId": "70e7fc36-7c08-4bc7-a018-0f2b0e34fb9a"
      },
      "execution_count": null,
      "outputs": [
        {
          "output_type": "display_data",
          "data": {
            "text/plain": [
              "<Figure size 432x288 with 1 Axes>"
            ],
            "image/png": "[encoded data removed]"
          },
          "metadata": {
            "needs_background": "light"
          }
        }
      ]
    },
    {
      "cell_type": "code",
      "source": [
        "input_dim = 2\n",
        "output_dim = 1\n",
        "W = tf.Variable(initial_value=tf.random.uniform(shape=(input_dim, output_dim)))\n",
        "b = tf.Variable(initial_value=tf.zeros(shape=(output_dim,)))\n",
        "\n",
        "def model(inputs):\n",
        "  return tf.matmul(inputs, W) + b\n",
        "\n",
        "def square_loss(targets, predictions):\n",
        "  per_sample_losses = tf.square(targets - predictions)\n",
        "  return tf.reduce_mean(per_sample_losses)\n",
        "\n",
        "def training_step(inputs, targets, learning_rate=0.1):\n",
        "  with tf.GradientTape() as tape:\n",
        "    predictions = model(inputs)\n",
        "    loss = square_loss(predictions, targets)\n",
        "  grad_loss_wrt_W, grad_loss_wrt_b = tape.gradient(loss, [W, b])\n",
        "  W.assign_sub(grad_loss_wrt_W*learning_rate)\n",
        "  b.assign_sub(grad_loss_wrt_b*learning_rate)\n",
        "  return loss\n",
        "\n",
        "for step in range(40):\n",
        "  loss = training_step(inputs, targets)\n",
        "  print(f\"Loss at step {step+1}: {loss:.4f}\")"
      ],
      "metadata": {
        "colab": {
          "base_uri": "https://localhost:8080/"
        },
        "id": "3LcVhNcNlTjx",
        "outputId": "ce91912e-b76a-4bc0-859f-138d68702ade"
      },
      "execution_count": null,
      "outputs": [
        {
          "output_type": "stream",
          "name": "stdout",
          "text": [
            "Loss at step 1: 1.8783\n",
            "Loss at step 2: 0.3283\n",
            "Loss at step 3: 0.1378\n",
            "Loss at step 4: 0.1054\n",
            "Loss at step 5: 0.0955\n",
            "Loss at step 6: 0.0892\n",
            "Loss at step 7: 0.0838\n",
            "Loss at step 8: 0.0789\n",
            "Loss at step 9: 0.0744\n",
            "Loss at step 10: 0.0703\n",
            "Loss at step 11: 0.0665\n",
            "Loss at step 12: 0.0630\n",
            "Loss at step 13: 0.0598\n",
            "Loss at step 14: 0.0569\n",
            "Loss at step 15: 0.0542\n",
            "Loss at step 16: 0.0517\n",
            "Loss at step 17: 0.0495\n",
            "Loss at step 18: 0.0474\n",
            "Loss at step 19: 0.0455\n",
            "Loss at step 20: 0.0437\n",
            "Loss at step 21: 0.0421\n",
            "Loss at step 22: 0.0407\n",
            "Loss at step 23: 0.0393\n",
            "Loss at step 24: 0.0381\n",
            "Loss at step 25: 0.0369\n",
            "Loss at step 26: 0.0359\n",
            "Loss at step 27: 0.0349\n",
            "Loss at step 28: 0.0340\n",
            "Loss at step 29: 0.0332\n",
            "Loss at step 30: 0.0325\n",
            "Loss at step 31: 0.0318\n",
            "Loss at step 32: 0.0312\n",
            "Loss at step 33: 0.0306\n",
            "Loss at step 34: 0.0301\n",
            "Loss at step 35: 0.0296\n",
            "Loss at step 36: 0.0291\n",
            "Loss at step 37: 0.0287\n",
            "Loss at step 38: 0.0284\n",
            "Loss at step 39: 0.0280\n",
            "Loss at step 40: 0.0277\n"
          ]
        }
      ]
    },
    {
      "cell_type": "code",
      "source": [
        "predictions = model(inputs)\n",
        "plt.scatter(inputs[:,0], inputs[:,1], c=predictions[:,0] > 0.5)\n",
        "x = np.linspace(-1, 4, 100)\n",
        "y = (-W[0]/W[1])*x + (0.5-b)/W[1]\n",
        "plt.plot(x, y, \"-r\")\n",
        "plt.show()"
      ],
      "metadata": {
        "colab": {
          "base_uri": "https://localhost:8080/",
          "height": 265
        },
        "id": "lSyhviJPpCjH",
        "outputId": "ed726c8d-189f-47b8-c3e6-0a86edc24c27"
      },
      "execution_count": null,
      "outputs": [
        {
          "output_type": "display_data",
          "data": {
            "text/plain": [
              "<Figure size 432x288 with 1 Axes>"
            ],
            "image/png": "[encoded data removed]"
          },
          "metadata": {
            "needs_background": "light"
          }
        }
      ]
    },
    {
      "cell_type": "code",
      "source": [
        "# Naive neural network implemented using Keras\n",
        "class SimpleDense(keras.layers.Layer):\n",
        "  def __init__(self, units, activation=None):\n",
        "    super().units = units\n",
        "    self.activation = activation\n",
        "\n",
        "  def build(self, input_shape):\n",
        "    input_dim = input_shape[-1]\n",
        "    self.W = self.add_weight(shape=(input_dim, self.units),\n",
        "                             initializer=\"random_normal\")\n",
        "    self.b = self.add_weight(shape=(self.units,),\n",
        "                             initializer=\"zeros\")\n",
        "    \n",
        "  def call(self, inputs):\n",
        "    y = tf.matmul(inputs, self.W) + self.b\n",
        "    if self.activation is not None:\n",
        "      y = self.activation(y)\n",
        "    return y"
      ],
      "metadata": {
        "id": "4leERlYOw8Qp"
      },
      "execution_count": null,
      "outputs": []
    },
    {
      "cell_type": "code",
      "source": [
        "np.random.permutation(10)"
      ],
      "metadata": {
        "colab": {
          "base_uri": "https://localhost:8080/"
        },
        "id": "ifc6U9hSgkEp",
        "outputId": "e72b1721-3f14-4c89-fd8a-6f36fd4fa846"
      },
      "execution_count": null,
      "outputs": [
        {
          "output_type": "execute_result",
          "data": {
            "text/plain": [
              "array([5, 7, 0, 6, 8, 4, 1, 3, 2, 9])"
            ]
          },
          "metadata": {},
          "execution_count": 2
        }
      ]
    },
    {
      "cell_type": "code",
      "source": [
        "model = keras.Sequential(\n",
        "    [layers.Dense(64, activation=\"relu\"),\n",
        "     layers.Dense(10, activation=\"softmax\")]\n",
        ")"
      ],
      "metadata": {
        "id": "xeA14qi2DNsC"
      },
      "execution_count": null,
      "outputs": []
    },
    {
      "cell_type": "code",
      "source": [
        "model = keras.Sequential()\n",
        "model.add(layers.Dense(64, activation=\"relu\"))\n",
        "model.add(layers.Dense(10, activation=\"softmax\"))"
      ],
      "metadata": {
        "id": "z3uAEkdMDflo"
      },
      "execution_count": null,
      "outputs": []
    },
    {
      "cell_type": "code",
      "source": [
        "model.build(input_shape=(None, 3))\n",
        "model.summary()"
      ],
      "metadata": {
        "colab": {
          "base_uri": "https://localhost:8080/"
        },
        "id": "TOad7ggCDq5g",
        "outputId": "862a2d05-aea5-4783-82ed-fe74940471c7"
      },
      "execution_count": null,
      "outputs": [
        {
          "output_type": "stream",
          "name": "stdout",
          "text": [
            "Model: \"sequential\"\n",
            "_________________________________________________________________\n",
            " Layer (type)                Output Shape              Param #   \n",
            "=================================================================\n",
            " dense (Dense)               (None, 64)                256       \n",
            "                                                                 \n",
            " dense_1 (Dense)             (None, 10)                650       \n",
            "                                                                 \n",
            "=================================================================\n",
            "Total params: 906\n",
            "Trainable params: 906\n",
            "Non-trainable params: 0\n",
            "_________________________________________________________________\n"
          ]
        }
      ]
    },
    {
      "cell_type": "code",
      "source": [
        "model = keras.Sequential()\n",
        "model.add(keras.Input(shape=(3,)))\n",
        "model.add(layers.Dense(64, activation=\"relu\"))\n",
        "model.summary()"
      ],
      "metadata": {
        "colab": {
          "base_uri": "https://localhost:8080/"
        },
        "id": "No3eoZeCGjtH",
        "outputId": "37cd6836-5b88-4dd3-fc64-c5bfa7f47833"
      },
      "execution_count": null,
      "outputs": [
        {
          "output_type": "stream",
          "name": "stdout",
          "text": [
            "Model: \"sequential_1\"\n",
            "_________________________________________________________________\n",
            " Layer (type)                Output Shape              Param #   \n",
            "=================================================================\n",
            " dense_2 (Dense)             (None, 64)                256       \n",
            "                                                                 \n",
            "=================================================================\n",
            "Total params: 256\n",
            "Trainable params: 256\n",
            "Non-trainable params: 0\n",
            "_________________________________________________________________\n"
          ]
        }
      ]
    },
    {
      "cell_type": "code",
      "source": [
        "inputs = keras.Input(shape=(3,), name=\"my_input\")\n",
        "features = layers.Dense(64, activation=\"relu\")(inputs)\n",
        "outputs = layers.Dense(10, activation=\"softmax\")(features)\n",
        "model = keras.Model(inputs=inputs, outputs=outputs)"
      ],
      "metadata": {
        "id": "mEmhK7-FHR6n"
      },
      "execution_count": null,
      "outputs": []
    },
    {
      "cell_type": "code",
      "source": [
        "# A multi-input, multi-output functional model\n",
        "vocabulary_size = 10000\n",
        "num_tags = 100\n",
        "num_departments = 4\n",
        "\n",
        "title = keras.Input(shape=(vocabulary_size,), name=\"title\")\n",
        "text_body = keras.Input(shape=(vocabulary_size,), name=\"text_body\")\n",
        "tags = keras.Input(shape=(num_tags,), name=\"tags\")\n",
        "\n",
        "features = layers.Concatenate()([title, text_body, tags])\n",
        "features = layers.Dense(64, activation=\"relu\")(features)\n",
        "\n",
        "priority = layers.Dense(1, activation=\"sigmoid\", name=\"priority\")(features)\n",
        "department = layers.Dense(num_departments, activation=\"softmax\", name=\"department\")(features)\n",
        "\n",
        "model = keras.Model(inputs=[title, text_body, tags],\n",
        "                    outputs=[priority, department])"
      ],
      "metadata": {
        "id": "d1q9HBJCJioN"
      },
      "execution_count": 2,
      "outputs": []
    },
    {
      "cell_type": "code",
      "source": [
        "# Training a model by providing lists of input and target arrays\n",
        "num_samples = 1280\n",
        "\n",
        "# dummy input data\n",
        "title_data = np.random.randint(0,2,size=(num_samples, vocabulary_size))\n",
        "text_body_data = np.random.randint(0,2,size=(num_samples, vocabulary_size))\n",
        "tags_data = np.random.randint(0,2,size=(num_samples, num_tags))\n",
        "\n",
        "# dummy target data\n",
        "priority_data = np.random.random(size=(num_samples, 1))\n",
        "department_data = np.random.randint(0,2,size=(num_samples, num_departments))\n",
        "\n",
        "model.compile(optimizer=\"rmsprop\", loss=[\"mean_squared_error\", \"categorical_crossentropy\"],\n",
        "              metrics=[[\"mean_absolute_error\"],[\"accuracy\"]])\n",
        "model.fit([title_data, text_body_data, tags_data], [priority_data, department_data], epochs=1)\n",
        "model.evaluate([title_data, text_body_data, tags_data], [priority_data, department_data])\n",
        "priority_preds, department_preds = model.predict([title_data, text_body_data, tags_data])"
      ],
      "metadata": {
        "colab": {
          "base_uri": "https://localhost:8080/"
        },
        "id": "YSHa-pIRTnTm",
        "outputId": "19243139-864a-4d4f-be9a-b84dbee8671e"
      },
      "execution_count": 3,
      "outputs": [
        {
          "output_type": "stream",
          "name": "stdout",
          "text": [
            "40/40 [==============================] - 3s 36ms/step - loss: 22.8771 - priority_loss: 0.3324 - department_loss: 22.5447 - priority_mean_absolute_error: 0.4966 - department_accuracy: 0.1828\n",
            "40/40 [==============================] - 1s 13ms/step - loss: 14.4094 - priority_loss: 0.3366 - department_loss: 14.0728 - priority_mean_absolute_error: 0.4999 - department_accuracy: 0.0539\n"
          ]
        }
      ]
    },
    {
      "cell_type": "code",
      "source": [
        "keras.utils.plot_model(model, \"ticket_classifier.png\")"
      ],
      "metadata": {
        "colab": {
          "base_uri": "https://localhost:8080/",
          "height": 369
        },
        "id": "wbA_6mi3ZseJ",
        "outputId": "63853fa4-f85f-408a-cbeb-4b117fac9857"
      },
      "execution_count": 4,
      "outputs": [
        {
          "output_type": "execute_result",
          "data": {
            "text/plain": [
              "<IPython.core.display.Image object>"
            ],
            "image/png": "[encoded data removed]"
          },
          "metadata": {},
          "execution_count": 4
        }
      ]
    },
    {
      "cell_type": "code",
      "source": [
        "keras.utils.plot_model(model, \"ticket_classifier_with_shape_info.png\", show_shapes=True)"
      ],
      "metadata": {
        "colab": {
          "base_uri": "https://localhost:8080/",
          "height": 422
        },
        "id": "T9GAs7xNZ5VQ",
        "outputId": "a0e553a7-aa9f-46c7-fe46-17da23336ec3"
      },
      "execution_count": 5,
      "outputs": [
        {
          "output_type": "execute_result",
          "data": {
            "text/plain": [
              "<IPython.core.display.Image object>"
            ],
            "image/png": "[encoded data removed]"
          },
          "metadata": {},
          "execution_count": 5
        }
      ]
    },
    {
      "cell_type": "code",
      "source": [
        "model.layers"
      ],
      "metadata": {
        "colab": {
          "base_uri": "https://localhost:8080/"
        },
        "id": "ZPijD4T6bk7-",
        "outputId": "ead97f72-65ba-474a-cf54-11256042b361"
      },
      "execution_count": 6,
      "outputs": [
        {
          "output_type": "execute_result",
          "data": {
            "text/plain": [
              "[<keras.engine.input_layer.InputLayer at 0x7f892d92a790>,\n",
              " <keras.engine.input_layer.InputLayer at 0x7f88ff5d0910>,\n",
              " <keras.engine.input_layer.InputLayer at 0x7f89032f9b50>,\n",
              " <keras.layers.merge.Concatenate at 0x7f88ff592810>,\n",
              " <keras.layers.core.dense.Dense at 0x7f88ff592c10>,\n",
              " <keras.layers.core.dense.Dense at 0x7f88ff592d50>,\n",
              " <keras.layers.core.dense.Dense at 0x7f88fed51810>]"
            ]
          },
          "metadata": {},
          "execution_count": 6
        }
      ]
    },
    {
      "cell_type": "code",
      "source": [
        "model.layers[3].input"
      ],
      "metadata": {
        "colab": {
          "base_uri": "https://localhost:8080/"
        },
        "id": "XXycJj67tihM",
        "outputId": "e2953c29-c6b0-46b0-9f1b-994d3f86e9c7"
      },
      "execution_count": 7,
      "outputs": [
        {
          "output_type": "execute_result",
          "data": {
            "text/plain": [
              "[<KerasTensor: shape=(None, 10000) dtype=float32 (created by layer 'title')>,\n",
              " <KerasTensor: shape=(None, 10000) dtype=float32 (created by layer 'text_body')>,\n",
              " <KerasTensor: shape=(None, 100) dtype=float32 (created by layer 'tags')>]"
            ]
          },
          "metadata": {},
          "execution_count": 7
        }
      ]
    },
    {
      "cell_type": "code",
      "source": [
        "model.layers[3].output"
      ],
      "metadata": {
        "colab": {
          "base_uri": "https://localhost:8080/"
        },
        "id": "pBdTUfy0tq5s",
        "outputId": "8b20d210-1c2e-4956-ea9e-26bd70a350e6"
      },
      "execution_count": 8,
      "outputs": [
        {
          "output_type": "execute_result",
          "data": {
            "text/plain": [
              "<KerasTensor: shape=(None, 20100) dtype=float32 (created by layer 'concatenate')>"
            ]
          },
          "metadata": {},
          "execution_count": 8
        }
      ]
    },
    {
      "cell_type": "code",
      "source": [
        "# Creating a new model by reusing intermediate layer outputs\n",
        "features = model.layers[4].output\n",
        "difficulty = layers.Dense(3, activation=\"softmax\", name=\"difficulty\")(features)\n",
        "\n",
        "new_model = keras.Model(inputs=[title, text_body, tags],\n",
        "                        outputs=[priority, department, difficulty])\n",
        "\n",
        "keras.utils.plot_model(new_model, \"updated_ticket_classification.png\", show_shapes=True)"
      ],
      "metadata": {
        "colab": {
          "base_uri": "https://localhost:8080/",
          "height": 422
        },
        "id": "efpYmfwat2pj",
        "outputId": "b5ee3fd4-972f-4f42-ae80-b7a53f1224de"
      },
      "execution_count": 9,
      "outputs": [
        {
          "output_type": "execute_result",
          "data": {
            "text/plain": [
              "<IPython.core.display.Image object>"
            ],
            "image/png": "[encoded data removed]"
          },
          "metadata": {},
          "execution_count": 9
        }
      ]
    },
    {
      "cell_type": "code",
      "source": [
        "# Rewrite the above model as a subclassed model\n",
        "class CustomerTicketModel(keras.Model):\n",
        "\n",
        "  def __init__(self, num_departments):\n",
        "    super().__init__()\n",
        "    self.concat_layer = layers.Concatenate()\n",
        "    self.mixing_layer = layers.Dense(64, activation=\"relu\")\n",
        "    self.priority_scorer = layers.Dense(1, activation=\"sigmoid\")\n",
        "    self.department_classifier = layers.Dense(num_departments, activation=\"softmax\")\n",
        "\n",
        "  def call(self, inputs):\n",
        "    title = inputs[\"title\"]\n",
        "    text_body = inputs[\"text_body\"]\n",
        "    tags = inputs[\"tags\"]\n",
        "    features = self.concat_layer([title, text_body, tags])\n",
        "    features = self.mixing_layer(features)\n",
        "    priority = self.priority_scorer(features)\n",
        "    department = self.department_classifier(features)\n",
        "    return priority, department\n",
        "\n",
        "model = CustomerTicketModel(4)\n",
        "priority, department = model({\"title\": title_data, \"text_body\": text_body_data,\n",
        "                              \"tags\": tags_data})\n",
        "\n",
        "model.compile(optimizer=\"rmsprop\", loss=[\"mean_squared_error\", \"categorical_crossentropy\"],\n",
        "              metrics=[[\"mean_absolute_error\"],[\"accuracy\"]])\n",
        "model.fit({\"title\": title_data, \"text_body\": text_body_data, \"tags\": tags_data},\n",
        "          [priority_data, department_data], epochs=1)\n",
        "model.evaluate({\"title\": title_data, \"text_body\": text_body_data, \"tags\": tags_data},\n",
        "          [priority_data, department_data])\n",
        "priority_preds, department_preds = model.predict({\"title\": title_data, \"text_body\": text_body_data, \"tags\": tags_data})"
      ],
      "metadata": {
        "colab": {
          "base_uri": "https://localhost:8080/"
        },
        "id": "U-BAwp9rxKhp",
        "outputId": "0d44da53-db74-4397-e88a-a123f0770846"
      },
      "execution_count": 12,
      "outputs": [
        {
          "output_type": "stream",
          "name": "stdout",
          "text": [
            "40/40 [==============================] - 4s 33ms/step - loss: 20.3506 - output_1_loss: 0.3316 - output_2_loss: 20.0190 - output_1_mean_absolute_error: 0.4956 - output_2_accuracy: 0.1531\n",
            "40/40 [==============================] - 1s 15ms/step - loss: 15.1254 - output_1_loss: 0.3368 - output_2_loss: 14.7886 - output_1_mean_absolute_error: 0.5001 - output_2_accuracy: 0.5773\n"
          ]
        }
      ]
    },
    {
      "cell_type": "code",
      "source": [
        "# Using built-in training and evaluation loops\n",
        "from tensorflow.keras.datasets import mnist\n",
        "\n",
        "def get_mnist_model():\n",
        "  inputs = keras.Input(shape=(28*28,))\n",
        "  features = layers.Dense(512, activation=\"relu\")(inputs)\n",
        "  features = layers.Dropout(0.5)(features)\n",
        "  outputs = layers.Dense(10, activation=\"softmax\")(features)\n",
        "  model = keras.Model(inputs, outputs)\n",
        "  return model\n",
        "\n",
        "(images, labels), (test_images, test_labels) = mnist.load_data()\n",
        "images = images.reshape((60000, 28*28)).astype(\"float32\")/255\n",
        "test_images = test_images.reshape((10000, 28*28)).astype(\"float32\")/255\n",
        "train_images, val_images = images[10000:], images[:10000]\n",
        "train_labels, val_labels = labels[10000:], labels[:10000]\n",
        "\n",
        "model = get_mnist_model()\n",
        "model.compile(optimizer=\"rmsprop\", loss=\"sparse_categorical_crossentropy\",\n",
        "              metrics=[\"accuracy\"])\n",
        "model.fit(train_images, train_labels, epochs=3, validation_data=(val_images, val_labels))\n",
        "test_metrics = model.evaluate(test_images, test_labels)\n",
        "predictions = model.predict(test_images)"
      ],
      "metadata": {
        "colab": {
          "base_uri": "https://localhost:8080/"
        },
        "id": "8qmUQD890bal",
        "outputId": "2dc7374f-ff15-4e93-e6a7-6fcc4bd293b0"
      },
      "execution_count": 14,
      "outputs": [
        {
          "output_type": "stream",
          "name": "stdout",
          "text": [
            "Epoch 1/3\n",
            "1563/1563 [==============================] - 17s 10ms/step - loss: 0.2953 - accuracy: 0.9113 - val_loss: 0.1432 - val_accuracy: 0.9598\n",
            "Epoch 2/3\n",
            "1563/1563 [==============================] - 13s 8ms/step - loss: 0.1637 - accuracy: 0.9539 - val_loss: 0.1178 - val_accuracy: 0.9677\n",
            "Epoch 3/3\n",
            "1563/1563 [==============================] - 13s 8ms/step - loss: 0.1375 - accuracy: 0.9634 - val_loss: 0.1123 - val_accuracy: 0.9712\n",
            "313/313 [==============================] - 1s 4ms/step - loss: 0.1054 - accuracy: 0.9718\n"
          ]
        }
      ]
    },
    {
      "cell_type": "code",
      "source": [
        "# Implementing a custom metric by subclassing the Metric class\n",
        "class RootMeanSquaredError(keras.metrics.Metric):\n",
        "  def __init__(self, name=\"rmse\", **kwargs):\n",
        "    super().__init__(name=name, **kwargs)\n",
        "    self.mse_sum = self.add_weight(name=\"mse_sum\", initializer=\"zeros\")\n",
        "    self.total_samples = self.add_weight(name=\"total_samples\", initializer=\"zeros\",dtype=\"int32\")\n",
        "\n",
        "  def update_state(self, y_true, y_pred, sample_weight=None):\n",
        "    y_true = tf.one_hot(y_true, depth=tf.shape(y_pred)[1])\n",
        "    mse = tf.reduce_sum(tf.square(y_true - y_pred))\n",
        "    self.mse_sum.assign_add(mse)\n",
        "    num_samples = tf.shape(y_pred)[0]\n",
        "    self.total_samples.assign_add(num_samples)\n",
        "\n",
        "  def result(self):\n",
        "    return tf.sqrt(self.mse_sum/tf.cast(self.total_samples, tf.float32))\n",
        "\n",
        "  def reset_state(self):\n",
        "    self.mse_sum.assign(0.)\n",
        "    self.total_samples.assign(0)"
      ],
      "metadata": {
        "id": "b28bJViE6CJw"
      },
      "execution_count": 15,
      "outputs": []
    }
  ]
}